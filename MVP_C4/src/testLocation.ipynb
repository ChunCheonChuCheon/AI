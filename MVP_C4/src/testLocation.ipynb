{
 "cells": [
  {
   "cell_type": "code",
   "execution_count": 8,
   "metadata": {},
   "outputs": [],
   "source": [
    "import streamlit as st\n",
    "from bokeh.models.widgets import Button\n",
    "from bokeh.models import CustomJS\n",
    "from streamlit_bokeh_events import streamlit_bokeh_events"
   ]
  },
  {
   "cell_type": "code",
   "execution_count": 9,
   "metadata": {},
   "outputs": [],
   "source": [
    "loc_button = Button(label=\"Get Location\")\n",
    "loc_button.js_on_event(\"button_click\", CustomJS(code=\"\"\"\n",
    "    navigator.geolocation.getCurrentPosition(\n",
    "        (loc) => {\n",
    "            document.dispatchEvent(new CustomEvent(\"GET_LOCATION\", {detail: {lat: loc.coords.latitude, lon: loc.coords.longitude}}))\n",
    "        }\n",
    "    )\n",
    "    \"\"\"))\n",
    "result = streamlit_bokeh_events(\n",
    "    loc_button,\n",
    "    events=\"GET_LOCATION\",\n",
    "    key=\"get_location\",\n",
    "    refresh_on_update=False,\n",
    "    override_height=75,\n",
    "    debounce_time=0)"
   ]
  },
  {
   "cell_type": "code",
   "execution_count": null,
   "metadata": {},
   "outputs": [],
   "source": []
  }
 ],
 "metadata": {
  "kernelspec": {
   "display_name": "Python 3",
   "language": "python",
   "name": "python3"
  },
  "language_info": {
   "codemirror_mode": {
    "name": "ipython",
    "version": 3
   },
   "file_extension": ".py",
   "mimetype": "text/x-python",
   "name": "python",
   "nbconvert_exporter": "python",
   "pygments_lexer": "ipython3",
   "version": "3.9.6"
  }
 },
 "nbformat": 4,
 "nbformat_minor": 2
}
