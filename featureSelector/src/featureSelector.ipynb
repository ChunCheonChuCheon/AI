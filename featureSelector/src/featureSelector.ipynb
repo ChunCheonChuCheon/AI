{
 "cells": [
  {
   "cell_type": "code",
   "execution_count": 35,
   "metadata": {},
   "outputs": [],
   "source": [
    "import pandas as pd\n",
    "import numpy as np\n",
    "import matplotlib.pyplot as plt\n",
    "import seaborn as sns"
   ]
  },
  {
   "cell_type": "code",
   "execution_count": 36,
   "metadata": {},
   "outputs": [
    {
     "name": "stderr",
     "output_type": "stream",
     "text": [
      "/var/folders/vm/5qmxs2qx4jqfzfp5dmt_3x900000gn/T/ipykernel_8596/1890198893.py:1: DtypeWarning: Columns (17,44,45) have mixed types. Specify dtype option on import or set low_memory=False.\n",
      "  df = pd.read_csv('../data/c4_general_cafeteria.csv', encoding='cp949')\n"
     ]
    },
    {
     "data": {
      "text/html": [
       "<div>\n",
       "<style scoped>\n",
       "    .dataframe tbody tr th:only-of-type {\n",
       "        vertical-align: middle;\n",
       "    }\n",
       "\n",
       "    .dataframe tbody tr th {\n",
       "        vertical-align: top;\n",
       "    }\n",
       "\n",
       "    .dataframe thead th {\n",
       "        text-align: right;\n",
       "    }\n",
       "</style>\n",
       "<table border=\"1\" class=\"dataframe\">\n",
       "  <thead>\n",
       "    <tr style=\"text-align: right;\">\n",
       "      <th></th>\n",
       "      <th>번호</th>\n",
       "      <th>개방서비스명</th>\n",
       "      <th>개방서비스아이디</th>\n",
       "      <th>개방자치단체코드</th>\n",
       "      <th>관리번호</th>\n",
       "      <th>인허가일자</th>\n",
       "      <th>인허가취소일자</th>\n",
       "      <th>영업상태구분코드</th>\n",
       "      <th>영업상태명</th>\n",
       "      <th>상세영업상태코드</th>\n",
       "      <th>...</th>\n",
       "      <th>공장생산직직원수</th>\n",
       "      <th>건물소유구분명</th>\n",
       "      <th>보증액</th>\n",
       "      <th>월세액</th>\n",
       "      <th>다중이용업소여부</th>\n",
       "      <th>시설총규모</th>\n",
       "      <th>전통업소지정번호</th>\n",
       "      <th>전통업소주된음식</th>\n",
       "      <th>홈페이지</th>\n",
       "      <th>Unnamed: 47</th>\n",
       "    </tr>\n",
       "  </thead>\n",
       "  <tbody>\n",
       "    <tr>\n",
       "      <th>0</th>\n",
       "      <td>1</td>\n",
       "      <td>일반음식점</td>\n",
       "      <td>07_24_04_P</td>\n",
       "      <td>4241000</td>\n",
       "      <td>4241000-101-2023-00075</td>\n",
       "      <td>2023-08-02</td>\n",
       "      <td>NaN</td>\n",
       "      <td>1</td>\n",
       "      <td>영업/정상</td>\n",
       "      <td>1</td>\n",
       "      <td>...</td>\n",
       "      <td>0</td>\n",
       "      <td>NaN</td>\n",
       "      <td>0</td>\n",
       "      <td>0</td>\n",
       "      <td>N</td>\n",
       "      <td>25.12</td>\n",
       "      <td>NaN</td>\n",
       "      <td>NaN</td>\n",
       "      <td>NaN</td>\n",
       "      <td>NaN</td>\n",
       "    </tr>\n",
       "    <tr>\n",
       "      <th>1</th>\n",
       "      <td>2</td>\n",
       "      <td>일반음식점</td>\n",
       "      <td>07_24_04_P</td>\n",
       "      <td>4241000</td>\n",
       "      <td>4241000-101-2023-00076</td>\n",
       "      <td>2023-08-17</td>\n",
       "      <td>NaN</td>\n",
       "      <td>1</td>\n",
       "      <td>영업/정상</td>\n",
       "      <td>1</td>\n",
       "      <td>...</td>\n",
       "      <td>0</td>\n",
       "      <td>NaN</td>\n",
       "      <td>0</td>\n",
       "      <td>0</td>\n",
       "      <td>N</td>\n",
       "      <td>120.00</td>\n",
       "      <td>NaN</td>\n",
       "      <td>NaN</td>\n",
       "      <td>NaN</td>\n",
       "      <td>NaN</td>\n",
       "    </tr>\n",
       "    <tr>\n",
       "      <th>2</th>\n",
       "      <td>3</td>\n",
       "      <td>일반음식점</td>\n",
       "      <td>07_24_04_P</td>\n",
       "      <td>4241000</td>\n",
       "      <td>4241000-101-2023-00077</td>\n",
       "      <td>2023-08-25</td>\n",
       "      <td>NaN</td>\n",
       "      <td>1</td>\n",
       "      <td>영업/정상</td>\n",
       "      <td>1</td>\n",
       "      <td>...</td>\n",
       "      <td>0</td>\n",
       "      <td>NaN</td>\n",
       "      <td>0</td>\n",
       "      <td>0</td>\n",
       "      <td>N</td>\n",
       "      <td>23.52</td>\n",
       "      <td>NaN</td>\n",
       "      <td>NaN</td>\n",
       "      <td>NaN</td>\n",
       "      <td>NaN</td>\n",
       "    </tr>\n",
       "    <tr>\n",
       "      <th>3</th>\n",
       "      <td>4</td>\n",
       "      <td>일반음식점</td>\n",
       "      <td>07_24_04_P</td>\n",
       "      <td>4241000</td>\n",
       "      <td>4241000-101-2023-00069</td>\n",
       "      <td>2023-07-14</td>\n",
       "      <td>NaN</td>\n",
       "      <td>1</td>\n",
       "      <td>영업/정상</td>\n",
       "      <td>1</td>\n",
       "      <td>...</td>\n",
       "      <td>0</td>\n",
       "      <td>NaN</td>\n",
       "      <td>0</td>\n",
       "      <td>0</td>\n",
       "      <td>N</td>\n",
       "      <td>25.00</td>\n",
       "      <td>NaN</td>\n",
       "      <td>NaN</td>\n",
       "      <td>NaN</td>\n",
       "      <td>NaN</td>\n",
       "    </tr>\n",
       "    <tr>\n",
       "      <th>4</th>\n",
       "      <td>5</td>\n",
       "      <td>일반음식점</td>\n",
       "      <td>07_24_04_P</td>\n",
       "      <td>4241000</td>\n",
       "      <td>4241000-101-2023-00064</td>\n",
       "      <td>2023-07-11</td>\n",
       "      <td>NaN</td>\n",
       "      <td>1</td>\n",
       "      <td>영업/정상</td>\n",
       "      <td>1</td>\n",
       "      <td>...</td>\n",
       "      <td>0</td>\n",
       "      <td>NaN</td>\n",
       "      <td>0</td>\n",
       "      <td>0</td>\n",
       "      <td>N</td>\n",
       "      <td>28.49</td>\n",
       "      <td>NaN</td>\n",
       "      <td>NaN</td>\n",
       "      <td>NaN</td>\n",
       "      <td>NaN</td>\n",
       "    </tr>\n",
       "  </tbody>\n",
       "</table>\n",
       "<p>5 rows × 48 columns</p>\n",
       "</div>"
      ],
      "text/plain": [
       "   번호 개방서비스명    개방서비스아이디  개방자치단체코드                    관리번호       인허가일자  \\\n",
       "0   1  일반음식점  07_24_04_P   4241000  4241000-101-2023-00075  2023-08-02   \n",
       "1   2  일반음식점  07_24_04_P   4241000  4241000-101-2023-00076  2023-08-17   \n",
       "2   3  일반음식점  07_24_04_P   4241000  4241000-101-2023-00077  2023-08-25   \n",
       "3   4  일반음식점  07_24_04_P   4241000  4241000-101-2023-00069  2023-07-14   \n",
       "4   5  일반음식점  07_24_04_P   4241000  4241000-101-2023-00064  2023-07-11   \n",
       "\n",
       "   인허가취소일자  영업상태구분코드  영업상태명  상세영업상태코드  ... 공장생산직직원수 건물소유구분명  보증액  월세액  \\\n",
       "0      NaN         1  영업/정상         1  ...        0     NaN    0    0   \n",
       "1      NaN         1  영업/정상         1  ...        0     NaN    0    0   \n",
       "2      NaN         1  영업/정상         1  ...        0     NaN    0    0   \n",
       "3      NaN         1  영업/정상         1  ...        0     NaN    0    0   \n",
       "4      NaN         1  영업/정상         1  ...        0     NaN    0    0   \n",
       "\n",
       "   다중이용업소여부   시설총규모  전통업소지정번호 전통업소주된음식 홈페이지 Unnamed: 47  \n",
       "0         N   25.12       NaN      NaN  NaN         NaN  \n",
       "1         N  120.00       NaN      NaN  NaN         NaN  \n",
       "2         N   23.52       NaN      NaN  NaN         NaN  \n",
       "3         N   25.00       NaN      NaN  NaN         NaN  \n",
       "4         N   28.49       NaN      NaN  NaN         NaN  \n",
       "\n",
       "[5 rows x 48 columns]"
      ]
     },
     "execution_count": 36,
     "metadata": {},
     "output_type": "execute_result"
    }
   ],
   "source": [
    "df = pd.read_csv('../data/c4_general_cafeteria.csv', encoding='cp949')\n",
    "df.head()"
   ]
  },
  {
   "cell_type": "code",
   "execution_count": 37,
   "metadata": {},
   "outputs": [
    {
     "data": {
      "text/plain": [
       "(92441, 48)"
      ]
     },
     "execution_count": 37,
     "metadata": {},
     "output_type": "execute_result"
    }
   ],
   "source": [
    "df.shape"
   ]
  },
  {
   "cell_type": "code",
   "execution_count": 38,
   "metadata": {},
   "outputs": [
    {
     "data": {
      "text/plain": [
       "Index(['번호', '개방서비스명', '개방서비스아이디', '개방자치단체코드', '관리번호', '인허가일자', '인허가취소일자',\n",
       "       '영업상태구분코드', '영업상태명', '상세영업상태코드', '상세영업상태명', '폐업일자', '휴업시작일자', '휴업종료일자',\n",
       "       '재개업일자', '소재지전화', '소재지면적', '소재지우편번호', '소재지전체주소', '도로명전체주소', '도로명우편번호',\n",
       "       '사업장명', '최종수정시점', '데이터갱신구분', '데이터갱신일자', '업태구분명', '좌표정보(x)', '좌표정보(y)',\n",
       "       '위생업태명', '남성종사자수', '여성종사자수', '영업장주변구분명', '등급구분명', '급수시설구분명', '총직원수',\n",
       "       '본사직원수', '공장사무직직원수', '공장판매직직원수', '공장생산직직원수', '건물소유구분명', '보증액', '월세액',\n",
       "       '다중이용업소여부', '시설총규모', '전통업소지정번호', '전통업소주된음식', '홈페이지', 'Unnamed: 47'],\n",
       "      dtype='object')"
      ]
     },
     "execution_count": 38,
     "metadata": {},
     "output_type": "execute_result"
    }
   ],
   "source": [
    "df.columns"
   ]
  },
  {
   "cell_type": "code",
   "execution_count": 39,
   "metadata": {},
   "outputs": [
    {
     "data": {
      "text/plain": [
       "번호             92441\n",
       "개방서비스명             1\n",
       "개방서비스아이디           1\n",
       "개방자치단체코드          18\n",
       "관리번호           92441\n",
       "인허가일자          11739\n",
       "인허가취소일자            0\n",
       "영업상태구분코드           2\n",
       "영업상태명              2\n",
       "상세영업상태코드           2\n",
       "상세영업상태명            2\n",
       "폐업일자            7594\n",
       "휴업시작일자             0\n",
       "휴업종료일자             0\n",
       "재개업일자              0\n",
       "소재지전화          60983\n",
       "소재지면적          18641\n",
       "소재지우편번호            4\n",
       "소재지전체주소        59731\n",
       "도로명전체주소        45155\n",
       "도로명우편번호         1680\n",
       "사업장명           70385\n",
       "최종수정시점         66738\n",
       "데이터갱신구분            2\n",
       "데이터갱신일자          222\n",
       "업태구분명             27\n",
       "좌표정보(x)        41518\n",
       "좌표정보(y)        41518\n",
       "위생업태명             27\n",
       "남성종사자수            13\n",
       "여성종사자수            19\n",
       "영업장주변구분명           7\n",
       "등급구분명              7\n",
       "급수시설구분명            5\n",
       "총직원수               1\n",
       "본사직원수              1\n",
       "공장사무직직원수           1\n",
       "공장판매직직원수           1\n",
       "공장생산직직원수           1\n",
       "건물소유구분명            0\n",
       "보증액                1\n",
       "월세액                1\n",
       "다중이용업소여부           2\n",
       "시설총규모          18641\n",
       "전통업소지정번호          17\n",
       "전통업소주된음식          10\n",
       "홈페이지               0\n",
       "Unnamed: 47        0\n",
       "dtype: int64"
      ]
     },
     "execution_count": 39,
     "metadata": {},
     "output_type": "execute_result"
    }
   ],
   "source": [
    "# column 별 unique value 개수\n",
    "df.nunique()"
   ]
  },
  {
   "cell_type": "code",
   "execution_count": 40,
   "metadata": {},
   "outputs": [
    {
     "data": {
      "text/plain": [
       "(92441, 32)"
      ]
     },
     "execution_count": 40,
     "metadata": {},
     "output_type": "execute_result"
    }
   ],
   "source": [
    "# nununique value가 0, 1인 column 제거\n",
    "df = df.loc[:, df.nunique() != 0]\n",
    "df = df.loc[:, df.nunique() != 1]\n",
    "df.shape"
   ]
  },
  {
   "cell_type": "code",
   "execution_count": 41,
   "metadata": {},
   "outputs": [
    {
     "data": {
      "text/plain": [
       "Index(['번호', '개방자치단체코드', '관리번호', '인허가일자', '영업상태구분코드', '영업상태명', '상세영업상태코드',\n",
       "       '상세영업상태명', '폐업일자', '소재지전화', '소재지면적', '소재지우편번호', '소재지전체주소', '도로명전체주소',\n",
       "       '도로명우편번호', '사업장명', '최종수정시점', '데이터갱신구분', '데이터갱신일자', '업태구분명', '좌표정보(x)',\n",
       "       '좌표정보(y)', '위생업태명', '남성종사자수', '여성종사자수', '영업장주변구분명', '등급구분명', '급수시설구분명',\n",
       "       '다중이용업소여부', '시설총규모', '전통업소지정번호', '전통업소주된음식'],\n",
       "      dtype='object')"
      ]
     },
     "execution_count": 41,
     "metadata": {},
     "output_type": "execute_result"
    }
   ],
   "source": [
    "df.columns"
   ]
  },
  {
   "cell_type": "code",
   "execution_count": 42,
   "metadata": {},
   "outputs": [
    {
     "data": {
      "text/plain": [
       "번호          92441\n",
       "개방자치단체코드       18\n",
       "관리번호        92441\n",
       "인허가일자       11739\n",
       "영업상태구분코드        2\n",
       "영업상태명           2\n",
       "상세영업상태코드        2\n",
       "상세영업상태명         2\n",
       "폐업일자         7594\n",
       "소재지전화       60983\n",
       "소재지면적       18641\n",
       "소재지우편번호         4\n",
       "소재지전체주소     59731\n",
       "도로명전체주소     45155\n",
       "도로명우편번호      1680\n",
       "사업장명        70385\n",
       "최종수정시점      66738\n",
       "데이터갱신구분         2\n",
       "데이터갱신일자       222\n",
       "업태구분명          27\n",
       "좌표정보(x)     41518\n",
       "좌표정보(y)     41518\n",
       "위생업태명          27\n",
       "남성종사자수         13\n",
       "여성종사자수         19\n",
       "영업장주변구분명        7\n",
       "등급구분명           7\n",
       "급수시설구분명         5\n",
       "다중이용업소여부        2\n",
       "시설총규모       18641\n",
       "전통업소지정번호       17\n",
       "전통업소주된음식       10\n",
       "dtype: int64"
      ]
     },
     "execution_count": 42,
     "metadata": {},
     "output_type": "execute_result"
    }
   ],
   "source": [
    "# column 별 unique value 개수\n",
    "df.nunique()"
   ]
  },
  {
   "cell_type": "code",
   "execution_count": 52,
   "metadata": {},
   "outputs": [
    {
     "data": {
      "image/png": "[encoded data removed]",
      "text/plain": [
       "<Figure size 2000x1000 with 1 Axes>"
      ]
     },
     "metadata": {},
     "output_type": "display_data"
    }
   ],
   "source": [
    "# column 별 NAN 개수\n",
    "df.isna().sum()\n",
    "\n",
    "# column 별 NAN 비율\n",
    "df.isna().sum() / df.shape[0]\n",
    "\n",
    "# NAN비율 시각화\n",
    "\n",
    "plt.rc('font', family='AppleGothic')\n",
    "plt.figure(figsize=(20, 10))\n",
    "plt.bar(df.columns, df.isna().sum() / df.shape[0])\n",
    "plt.xticks(rotation=90)\n",
    "plt.xlabel('column')\n",
    "plt.ylabel('NAN 비율')\n",
    "plt.title('[춘천 일반음식점]column 별 NAN 비율')\n",
    "# 폰트 설정(애플고딕)\n",
    "plt.show()"
   ]
  },
  {
   "cell_type": "code",
   "execution_count": 56,
   "metadata": {},
   "outputs": [
    {
     "data": {
      "text/plain": [
       "영업상태구분코드\n",
       "3    60755\n",
       "1    31686\n",
       "Name: count, dtype: int64"
      ]
     },
     "execution_count": 56,
     "metadata": {},
     "output_type": "execute_result"
    }
   ],
   "source": [
    "df['영업상태구분코드'].value_counts()"
   ]
  },
  {
   "cell_type": "code",
   "execution_count": 58,
   "metadata": {},
   "outputs": [
    {
     "data": {
      "text/plain": [
       "7594"
      ]
     },
     "execution_count": 58,
     "metadata": {},
     "output_type": "execute_result"
    }
   ],
   "source": [
    "df['폐업일자'].nunique()"
   ]
  },
  {
   "cell_type": "code",
   "execution_count": null,
   "metadata": {},
   "outputs": [],
   "source": [
    "# df의 특정 column 선택한 df 생성\n",
    "df2 = df[['번호', '인허가일자', '영업상태구분코드', '소재지전체주소', '도로명전체주소', '사업장명', '최종수정시점']]"
   ]
  },
  {
   "cell_type": "code",
   "execution_count": null,
   "metadata": {},
   "outputs": [],
   "source": []
  }
 ],
 "metadata": {
  "kernelspec": {
   "display_name": "Python 3",
   "language": "python",
   "name": "python3"
  },
  "language_info": {
   "codemirror_mode": {
    "name": "ipython",
    "version": 3
   },
   "file_extension": ".py",
   "mimetype": "text/x-python",
   "name": "python",
   "nbconvert_exporter": "python",
   "pygments_lexer": "ipython3",
   "version": "3.9.6"
  }
 },
 "nbformat": 4,
 "nbformat_minor": 2
}
