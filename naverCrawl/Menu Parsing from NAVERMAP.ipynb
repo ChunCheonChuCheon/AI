{
 "cells": [
  {
   "cell_type": "code",
   "execution_count": null,
   "id": "d652f051",
   "metadata": {},
   "outputs": [],
   "source": [
    "options = webdriver.ChromeOptions()\n",
    "# options.add_argument('headless')\n",
    "options.add_argument('lang=ko_KR')\n",
    "Service(executable_path=r'C:\\cccc\\chromedriver.exe')\n",
    "driver = webdriver.Chrome(service=Service(executable_path=r'C:\\cccc\\chromedriver.exe'), options=options)  # chromedriver 열기\n",
    "\n",
    "\n",
    "def menu(data) :\n",
    "    driver.get(\"https://map.naver.com/v5/search/\" + \"춘천 \" + data) \n",
    "    time.sleep(3)\n",
    "    driver.implicitly_wait(3)\n",
    "    # iframes = driver.find_elements_by_css_selector('iframe') # 창에 있는 모든 iframe 출력\n",
    "    # for iframe in iframes:\n",
    "    #     print(iframe.get_attribute('id'))\n",
    "    driver.switch_to.frame('searchIframe') #  검색하고나서 가게정보창이 바로 안뜨는 경우 고려해서 무조건 맨위에 가게 링크 클릭하게 설정\n",
    "    driver.implicitly_wait(2)\n",
    "    temp = driver.find_element(By.XPATH, '//*[@id=\"_pcmap_list_scroll_container\"]/ul') # 메뉴표에 있는 텍스트 모두 들고옴(개발자 도구에서 그때그때 xpath 복사해서 들고오는게 좋다)\n",
    "    driver.implicitly_wait(10) # selenium에서 가끔씩 태그 시간내에 못찾는 경우 때문에 일부러 길게 설정해놓음\n",
    "    button = temp.find_elements(By.TAG_NAME, 'a')\n",
    "    driver.implicitly_wait(10)\n",
    "    if '이미지수' in button[0].text or button[0].text == '': # 가게 정보에 사진이 있는경우\n",
    "        button[1].send_keys(Keys.ENTER) \n",
    "    else: # 사진이 없는 경우\n",
    "        button[0].send_keys(Keys.ENTER)\n",
    "    driver.implicitly_wait(3)\n",
    "    time.sleep(3)\n",
    "    driver.switch_to.default_content()# frame이 이상하게 넘어가는 경우 방지를 위해 원래 frame으로 변경한 후에 이동\n",
    "    driver.switch_to.frame('entryIframe') # 메뉴정보가 entryIframe에 있기 때문에 frame 변경함\n",
    "    driver.implicitly_wait(2)\n",
    "    # time.sleep(3)\n",
    "    start = driver.find_elements(By.CLASS_NAME, 'ihmWt')\n",
    "    price = driver.find_elements(By.CLASS_NAME, 'gl2cc')\n",
    "    img# 배달의 민족에서 제공하는 메뉴가 랜더링 되어 있는 경우\n",
    "    if len(start) == 0: # 가게에서 직접 제공하는 메뉴가 랜더링 되어 있는 경우\n",
    "        start = driver.find_elements(By.CLASS_NAME, 'VQvNX')\n",
    "    if len(start) == 0: # 메뉴가 없는 경우\n",
    "        print('메뉴가 없습니다')\n",
    "        return -1\n",
    "    if (len(start) != 0) & (len(price) != 0) :\n",
    "        print(start[0].text, price[0].text)\n",
    "\n",
    "\n",
    "f = open('ccrest.csv','r')\n",
    "rdr = csv.reader(f)\n",
    "\n",
    "for line in rdr :\n",
    "    bn_list.append(line[8])\n",
    "\n",
    "print(bn_list[3])\n",
    "\n",
    "# csv 파일에 헤더 만들어 주기\n",
    "for index, businessName in enumerate(bn_list):\n",
    "    print(index, businessName)\n",
    "    menu(businessName)"
   ]
  }
 ],
 "metadata": {
  "kernelspec": {
   "display_name": "Python 3 (ipykernel)",
   "language": "python",
   "name": "python3"
  },
  "language_info": {
   "codemirror_mode": {
    "name": "ipython",
    "version": 3
   },
   "file_extension": ".py",
   "mimetype": "text/x-python",
   "name": "python",
   "nbconvert_exporter": "python",
   "pygments_lexer": "ipython3",
   "version": "3.11.5"
  }
 },
 "nbformat": 4,
 "nbformat_minor": 5
}
