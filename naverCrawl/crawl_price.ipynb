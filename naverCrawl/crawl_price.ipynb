{
 "cells": [
  {
   "cell_type": "code",
   "execution_count": null,
   "metadata": {},
   "outputs": [],
   "source": [
    "# 1. csv파일을 load\n",
    "\n",
    "# 2. csv파일의 '영엄장명' column을 읽어서 네이버 지도검색 url에서 넣어서 검색\n",
    "\n",
    "# 3. 메뉴테그를 순서대로 읽은 뒤 대표메뉴 3가지와 가격을 추출 후 df에 저장\n",
    "# column: 'menu_1_name, menu_1_price, menu_2_name, menu_2_price, menu_3_name, menu_3_price'\n",
    "\n",
    "# 4 df를 csv파일로 저장"
   ]
  },
  {
   "cell_type": "code",
   "execution_count": null,
   "metadata": {},
   "outputs": [],
   "source": [
    "import os\n",
    "from time import sleep\n",
    "import tqdm\n",
    "\n",
    "import pandas as pd\n",
    "from selenium import webdriver\n",
    "from bs4 import BeautifulSoup\n",
    "from selenium.webdriver.common.by import By\n",
    "from selenium.common.exceptions import NoSuchElementException"
   ]
  },
  {
   "cell_type": "code",
   "execution_count": null,
   "metadata": {},
   "outputs": [],
   "source": [
    "# CSV 파일 로드\n",
    "df = pd.read_csv('../featureSelector/data/c4_general_cafeteria_chuncheon_CC_opened_SS-HJ_sampling.csv', encoding='utf-8')\n",
    "print(\"CSV load complete\")\n",
    "\n",
    "# 결과를 저장할 DataFrame 초기화 column: 'index_cafeteria, cafeteria_name, menu_name, menu_price'\n",
    "result_df = pd.DataFrame({\n",
    "    'index_cafeteria': [],\n",
    "    'cafeteria_name': [],\n",
    "    'menu_name': [],\n",
    "    'menu_price': []\n",
    "})\n",
    "\n",
    "state_num = 0"
   ]
  },
  {
   "cell_type": "code",
   "execution_count": null,
   "metadata": {},
   "outputs": [],
   "source": [
    "test_range = range(len(df))\n",
    "# test_range = [12, 17, 21, 32, 34, 55, 92] # 테스트용 변수 설정\n",
    "for i in tqdm.tqdm(test_range):\n",
    "    print(\"index 변수 설정 완료 i = \", i)\n",
    "    KEYWORD_INDEX = df['번호'][i]\n",
    "    KEYWORD = df['사업장명'][i]\n",
    "    URL = \"https://m.map.kakao.com/actions/searchView?q=\" + \"춘천 \" + KEYWORD\n",
    "\n",
    "    driver = webdriver.Chrome()  # 웹 드라이버 생성\n",
    "    driver.get(URL)  # 링크 열기\n",
    "    sleep(1)\n",
    "    serch_html = driver.page_source  # 검색 페이지의 HTML 가져오기\n",
    "    serch_html_soup = BeautifulSoup(serch_html, 'lxml')  # BeautifulSoup으로 파싱\n",
    "\n",
    "    try:\n",
    "        ########-- todo: 영업시간과 연락처가 있는 경우 수집 --########\n",
    "        ########--          insert code !          --########\n",
    "        \n",
    "        sleep(0.7)\n",
    "        button = driver.find_element(By.CLASS_NAME, 'tit_g')  # 클래스 이름 'tit_g'를 가진 버튼 찾고 클릭\n",
    "        button.click()\n",
    "        \n",
    "    except NoSuchElementException: # 검색어가 없는 경우 \n",
    "        try:\n",
    "            print(\"해당 요소를 찾을 수 없습니다: .tit_g\")\n",
    "            driver.quit()  # 웹 드라이버 종료\n",
    "            \n",
    "            URL = \"https://m.map.kakao.com/actions/searchView?q=\" + KEYWORD\n",
    "\n",
    "            driver = webdriver.Chrome()  # 웹 드라이버 생성\n",
    "            driver.get(URL)  # 링크 열기\n",
    "            sleep(1.5)\n",
    "            serch_html = driver.page_source  # 검색 페이지의 HTML 가져오기\n",
    "            serch_html_soup = BeautifulSoup(serch_html, 'lxml')  # BeautifulSoup으로 파싱\n",
    "            \n",
    "            \n",
    "            ########-- todo: 영업시간과 연락처가 있는 경우 수집 --########\n",
    "            ########--          insert code !          --########\n",
    "            \n",
    "            sleep(0.7)\n",
    "            button = driver.find_element(By.CLASS_NAME, 'tit_g')  # 클래스 이름 'tit_g'를 가진 버튼 찾고 클릭\n",
    "            button.click()\n",
    "        except NoSuchElementException: # 그래도 검색어가 없는 경우\n",
    "            driver.quit()  # 웹 드라이버 종료\n",
    "            state_num = 1\n",
    "\n",
    "    # 검색어가 없을 경우(state_num==1일떄) 아래의 작업을 하지 않음.\n",
    "    if state_num == 1:\n",
    "        driver.quit()\n",
    "        continue\n",
    "    \n",
    "    sleep(0.7)\n",
    "    menu_html = driver.page_source  # 페이지의 HTML 가져오기\n",
    "    menu_html_soup = BeautifulSoup(menu_html, 'lxml')  # BeautifulSoup으로 파싱\n",
    "    sleep(0.7)\n",
    "\n",
    "    # DataFrame 초기화\n",
    "    extracted_df = pd.DataFrame({\n",
    "        'index_cafeteria': [KEYWORD_INDEX] * 3,\n",
    "        'cafeteria_name': [KEYWORD] * 3\n",
    "    })\n",
    "\n",
    "    # 'name_menu' 클래스를 가진 모든 요소 찾기\n",
    "    name_menus = menu_html_soup.find_all(class_='name_menu', limit=3)\n",
    "    data_name = [menu.get_text() for menu in name_menus]\n",
    "\n",
    "    # 'price_menu' 클래스를 가진 모든 요소 찾기\n",
    "    price_menus = menu_html_soup.find_all(class_='price_menu', limit=3)\n",
    "    data_price = [menu.get_text().replace('가격: ', '').replace('\\n', '') for menu in price_menus]\n",
    "\n",
    "    # 데이터 길이 확인 및 DataFrame 업데이트\n",
    "    if len(data_name) == len(extracted_df):\n",
    "        extracted_df['menu_name'] = data_name\n",
    "        print(\"상위 3개 메뉴 추출 완료\")\n",
    "    else:\n",
    "        print(\"메뉴 데이터의 길이가 맞지 않아 추가하지 않습니다.\")\n",
    "\n",
    "    if len(data_price) == len(extracted_df):\n",
    "        extracted_df['menu_price'] = data_price\n",
    "        print(\"메뉴별 가격 추출 완료\")\n",
    "    else:\n",
    "        print(\"가격 데이터의 길이가 맞지 않아 추가하지 않습니다.\")\n",
    "        \n",
    "    driver.quit()  # 웹 드라이버 종료\n",
    "\n",
    "    result_df = pd.concat([result_df, extracted_df]) # result_df에 extracted_df의 1~3행을 추가"
   ]
  },
  {
   "cell_type": "code",
   "execution_count": null,
   "metadata": {},
   "outputs": [],
   "source": [
    "# result_df의 중복된 행을 제거\n",
    "result_df = result_df.drop_duplicates()\n",
    "\n",
    "# result_df의 index를 초기화\n",
    "result_df = result_df.reset_index(drop=True)"
   ]
  },
  {
   "cell_type": "code",
   "execution_count": null,
   "metadata": {},
   "outputs": [],
   "source": [
    "# result_df의 NAN값의 비율을 column별로 출력\n",
    "print(result_df.isnull().sum() / len(result_df))"
   ]
  },
  {
   "cell_type": "code",
   "execution_count": null,
   "metadata": {},
   "outputs": [],
   "source": [
    "# result_df의 값을 저장\n",
    "result_df.to_csv('../featureSelector/data/c4_general_cafeteria_chuncheon_CC_opened_SS-HJ_sampling_menu-price.csv', encoding='utf-8', index=False)"
   ]
  }
 ],
 "metadata": {
  "kernelspec": {
   "display_name": "Python 3",
   "language": "python",
   "name": "python3"
  },
  "language_info": {
   "codemirror_mode": {
    "name": "ipython",
    "version": 3
   },
   "file_extension": ".py",
   "mimetype": "text/x-python",
   "name": "python",
   "nbconvert_exporter": "python",
   "pygments_lexer": "ipython3",
   "version": "3.9.6"
  }
 },
 "nbformat": 4,
 "nbformat_minor": 2
}
