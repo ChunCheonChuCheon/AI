{
 "cells": [
  {
   "cell_type": "code",
   "execution_count": 1,
   "metadata": {},
   "outputs": [],
   "source": [
    "# 1. csv파일을 load\n",
    "\n",
    "# 2. csv파일의 '영엄장명' column을 읽어서 네이버 지도검색 url에서 넣어서 검색\n",
    "\n",
    "# 3. 메뉴테그를 순서대로 읽은 뒤 대표메뉴 3가지와 가격을 추출 후 df에 저장\n",
    "# column: 'menu_1_name, menu_1_price, menu_2_name, menu_2_price, menu_3_name, menu_3_price'\n",
    "\n",
    "# 4 df를 csv파일로 저장"
   ]
  },
  {
   "cell_type": "code",
   "execution_count": 1,
   "metadata": {},
   "outputs": [],
   "source": [
    "import os\n",
    "from time import sleep\n",
    "import tqdm\n",
    "\n",
    "import pandas as pd\n",
    "from selenium import webdriver\n",
    "from bs4 import BeautifulSoup\n",
    "from selenium.webdriver.common.by import By\n",
    "from selenium.common.exceptions import NoSuchElementException"
   ]
  },
  {
   "cell_type": "code",
   "execution_count": 3,
   "metadata": {},
   "outputs": [
    {
     "name": "stdout",
     "output_type": "stream",
     "text": [
      "CSV load complete\n"
     ]
    }
   ],
   "source": [
    "# CSV 파일 로드\n",
    "df = pd.read_csv('../featureSelector/data/c4_general_cafeteria_chuncheon_CC_opened_SS-HJ_addLatiLongti.csv', encoding='utf-8')\n",
    "print(\"CSV load complete\")\n",
    "\n",
    "# 결과를 저장할 DataFrame 초기화 column: 'index_cafeteria, cafeteria_name, menu_name, menu_price'\n",
    "result_df = pd.DataFrame({\n",
    "    'index_cafeteria': [],\n",
    "    'cafeteria_name': [],\n",
    "    'menu_name': [],\n",
    "    'menu_price': []\n",
    "})"
   ]
  },
  {
   "cell_type": "code",
   "execution_count": 11,
   "metadata": {},
   "outputs": [
    {
     "name": "stderr",
     "output_type": "stream",
     "text": [
      "  0%|          | 0/648 [00:00<?, ?it/s]"
     ]
    },
    {
     "name": "stdout",
     "output_type": "stream",
     "text": [
      "index 변수 설정 완료 i =  262\n"
     ]
    },
    {
     "name": "stderr",
     "output_type": "stream",
     "text": [
      "  0%|          | 1/648 [00:05<59:40,  5.53s/it]"
     ]
    },
    {
     "name": "stdout",
     "output_type": "stream",
     "text": [
      "상위 3개 메뉴 추출 완료\n",
      "메뉴별 가격 추출 완료\n",
      "index 변수 설정 완료 i =  263\n"
     ]
    },
    {
     "name": "stderr",
     "output_type": "stream",
     "text": [
      "  0%|          | 2/648 [00:11<59:28,  5.52s/it]"
     ]
    },
    {
     "name": "stdout",
     "output_type": "stream",
     "text": [
      "메뉴 데이터의 길이가 맞지 않아 추가하지 않습니다.\n",
      "가격 데이터의 길이가 맞지 않아 추가하지 않습니다.\n",
      "index 변수 설정 완료 i =  264\n"
     ]
    },
    {
     "name": "stderr",
     "output_type": "stream",
     "text": [
      "  0%|          | 3/648 [00:16<57:55,  5.39s/it]"
     ]
    },
    {
     "name": "stdout",
     "output_type": "stream",
     "text": [
      "메뉴 데이터의 길이가 맞지 않아 추가하지 않습니다.\n",
      "가격 데이터의 길이가 맞지 않아 추가하지 않습니다.\n",
      "index 변수 설정 완료 i =  265\n"
     ]
    },
    {
     "name": "stderr",
     "output_type": "stream",
     "text": [
      "  1%|          | 4/648 [00:21<57:19,  5.34s/it]"
     ]
    },
    {
     "name": "stdout",
     "output_type": "stream",
     "text": [
      "메뉴 데이터의 길이가 맞지 않아 추가하지 않습니다.\n",
      "가격 데이터의 길이가 맞지 않아 추가하지 않습니다.\n",
      "index 변수 설정 완료 i =  266\n"
     ]
    },
    {
     "name": "stderr",
     "output_type": "stream",
     "text": [
      "  1%|          | 5/648 [00:26<57:37,  5.38s/it]"
     ]
    },
    {
     "name": "stdout",
     "output_type": "stream",
     "text": [
      "메뉴 데이터의 길이가 맞지 않아 추가하지 않습니다.\n",
      "가격 데이터의 길이가 맞지 않아 추가하지 않습니다.\n",
      "index 변수 설정 완료 i =  267\n"
     ]
    },
    {
     "name": "stderr",
     "output_type": "stream",
     "text": [
      "  1%|          | 6/648 [00:32<57:12,  5.35s/it]"
     ]
    },
    {
     "name": "stdout",
     "output_type": "stream",
     "text": [
      "상위 3개 메뉴 추출 완료\n",
      "메뉴별 가격 추출 완료\n",
      "index 변수 설정 완료 i =  268\n"
     ]
    },
    {
     "name": "stderr",
     "output_type": "stream",
     "text": [
      "  1%|          | 7/648 [00:37<57:26,  5.38s/it]"
     ]
    },
    {
     "name": "stdout",
     "output_type": "stream",
     "text": [
      "상위 3개 메뉴 추출 완료\n",
      "가격 데이터의 길이가 맞지 않아 추가하지 않습니다.\n",
      "index 변수 설정 완료 i =  269\n"
     ]
    },
    {
     "name": "stderr",
     "output_type": "stream",
     "text": [
      "  1%|          | 8/648 [00:43<57:13,  5.36s/it]"
     ]
    },
    {
     "name": "stdout",
     "output_type": "stream",
     "text": [
      "상위 3개 메뉴 추출 완료\n",
      "메뉴별 가격 추출 완료\n",
      "index 변수 설정 완료 i =  270\n"
     ]
    },
    {
     "name": "stderr",
     "output_type": "stream",
     "text": [
      "  1%|▏         | 9/648 [00:49<1:01:30,  5.77s/it]"
     ]
    },
    {
     "name": "stdout",
     "output_type": "stream",
     "text": [
      "메뉴 데이터의 길이가 맞지 않아 추가하지 않습니다.\n",
      "가격 데이터의 길이가 맞지 않아 추가하지 않습니다.\n",
      "index 변수 설정 완료 i =  271\n"
     ]
    },
    {
     "name": "stderr",
     "output_type": "stream",
     "text": [
      "  2%|▏         | 10/648 [00:55<1:02:54,  5.92s/it]"
     ]
    },
    {
     "name": "stdout",
     "output_type": "stream",
     "text": [
      "상위 3개 메뉴 추출 완료\n",
      "가격 데이터의 길이가 맞지 않아 추가하지 않습니다.\n",
      "index 변수 설정 완료 i =  272\n"
     ]
    },
    {
     "name": "stderr",
     "output_type": "stream",
     "text": [
      "  2%|▏         | 11/648 [01:01<1:02:39,  5.90s/it]"
     ]
    },
    {
     "name": "stdout",
     "output_type": "stream",
     "text": [
      "상위 3개 메뉴 추출 완료\n",
      "메뉴별 가격 추출 완료\n",
      "index 변수 설정 완료 i =  273\n"
     ]
    },
    {
     "name": "stderr",
     "output_type": "stream",
     "text": [
      "  2%|▏         | 12/648 [01:08<1:03:58,  6.04s/it]"
     ]
    },
    {
     "name": "stdout",
     "output_type": "stream",
     "text": [
      "상위 3개 메뉴 추출 완료\n",
      "메뉴별 가격 추출 완료\n",
      "index 변수 설정 완료 i =  274\n",
      "해당 요소를 찾을 수 없습니다: .tit_g\n"
     ]
    },
    {
     "name": "stderr",
     "output_type": "stream",
     "text": [
      "  2%|▏         | 13/648 [01:18<1:16:42,  7.25s/it]"
     ]
    },
    {
     "name": "stdout",
     "output_type": "stream",
     "text": [
      "상위 3개 메뉴 추출 완료\n",
      "메뉴별 가격 추출 완료\n",
      "index 변수 설정 완료 i =  275\n"
     ]
    },
    {
     "name": "stderr",
     "output_type": "stream",
     "text": [
      "  2%|▏         | 14/648 [01:23<1:10:30,  6.67s/it]"
     ]
    },
    {
     "name": "stdout",
     "output_type": "stream",
     "text": [
      "상위 3개 메뉴 추출 완료\n",
      "메뉴별 가격 추출 완료\n",
      "index 변수 설정 완료 i =  276\n"
     ]
    },
    {
     "name": "stderr",
     "output_type": "stream",
     "text": [
      "  2%|▏         | 15/648 [01:28<1:06:04,  6.26s/it]"
     ]
    },
    {
     "name": "stdout",
     "output_type": "stream",
     "text": [
      "메뉴 데이터의 길이가 맞지 않아 추가하지 않습니다.\n",
      "가격 데이터의 길이가 맞지 않아 추가하지 않습니다.\n",
      "index 변수 설정 완료 i =  277\n"
     ]
    },
    {
     "name": "stderr",
     "output_type": "stream",
     "text": [
      "  2%|▏         | 16/648 [01:34<1:02:52,  5.97s/it]"
     ]
    },
    {
     "name": "stdout",
     "output_type": "stream",
     "text": [
      "메뉴 데이터의 길이가 맞지 않아 추가하지 않습니다.\n",
      "가격 데이터의 길이가 맞지 않아 추가하지 않습니다.\n",
      "index 변수 설정 완료 i =  278\n"
     ]
    },
    {
     "name": "stderr",
     "output_type": "stream",
     "text": [
      "  3%|▎         | 17/648 [01:39<1:01:06,  5.81s/it]"
     ]
    },
    {
     "name": "stdout",
     "output_type": "stream",
     "text": [
      "메뉴 데이터의 길이가 맞지 않아 추가하지 않습니다.\n",
      "가격 데이터의 길이가 맞지 않아 추가하지 않습니다.\n",
      "index 변수 설정 완료 i =  279\n",
      "해당 요소를 찾을 수 없습니다: .tit_g\n"
     ]
    },
    {
     "name": "stderr",
     "output_type": "stream",
     "text": [
      "  3%|▎         | 18/648 [01:46<1:05:53,  6.28s/it]"
     ]
    },
    {
     "name": "stdout",
     "output_type": "stream",
     "text": [
      "index 변수 설정 완료 i =  280\n"
     ]
    },
    {
     "name": "stderr",
     "output_type": "stream",
     "text": [
      "  3%|▎         | 19/648 [01:52<1:03:28,  6.05s/it]"
     ]
    },
    {
     "name": "stdout",
     "output_type": "stream",
     "text": [
      "상위 3개 메뉴 추출 완료\n",
      "메뉴별 가격 추출 완료\n",
      "index 변수 설정 완료 i =  281\n"
     ]
    },
    {
     "name": "stderr",
     "output_type": "stream",
     "text": [
      "  3%|▎         | 20/648 [01:57<1:01:31,  5.88s/it]"
     ]
    },
    {
     "name": "stdout",
     "output_type": "stream",
     "text": [
      "상위 3개 메뉴 추출 완료\n",
      "메뉴별 가격 추출 완료\n",
      "index 변수 설정 완료 i =  282\n"
     ]
    },
    {
     "name": "stderr",
     "output_type": "stream",
     "text": [
      "  3%|▎         | 21/648 [02:03<1:00:03,  5.75s/it]"
     ]
    },
    {
     "name": "stdout",
     "output_type": "stream",
     "text": [
      "메뉴 데이터의 길이가 맞지 않아 추가하지 않습니다.\n",
      "가격 데이터의 길이가 맞지 않아 추가하지 않습니다.\n",
      "index 변수 설정 완료 i =  283\n"
     ]
    },
    {
     "name": "stderr",
     "output_type": "stream",
     "text": [
      "  3%|▎         | 22/648 [02:08<58:17,  5.59s/it]  "
     ]
    },
    {
     "name": "stdout",
     "output_type": "stream",
     "text": [
      "메뉴 데이터의 길이가 맞지 않아 추가하지 않습니다.\n",
      "가격 데이터의 길이가 맞지 않아 추가하지 않습니다.\n",
      "index 변수 설정 완료 i =  284\n"
     ]
    },
    {
     "name": "stderr",
     "output_type": "stream",
     "text": [
      "  4%|▎         | 23/648 [02:14<57:47,  5.55s/it]"
     ]
    },
    {
     "name": "stdout",
     "output_type": "stream",
     "text": [
      "상위 3개 메뉴 추출 완료\n",
      "가격 데이터의 길이가 맞지 않아 추가하지 않습니다.\n",
      "index 변수 설정 완료 i =  285\n"
     ]
    },
    {
     "name": "stderr",
     "output_type": "stream",
     "text": [
      "  4%|▎         | 24/648 [02:19<57:08,  5.49s/it]"
     ]
    },
    {
     "name": "stdout",
     "output_type": "stream",
     "text": [
      "메뉴 데이터의 길이가 맞지 않아 추가하지 않습니다.\n",
      "가격 데이터의 길이가 맞지 않아 추가하지 않습니다.\n",
      "index 변수 설정 완료 i =  286\n"
     ]
    },
    {
     "name": "stderr",
     "output_type": "stream",
     "text": [
      "  4%|▍         | 25/648 [02:24<56:12,  5.41s/it]"
     ]
    },
    {
     "name": "stdout",
     "output_type": "stream",
     "text": [
      "상위 3개 메뉴 추출 완료\n",
      "가격 데이터의 길이가 맞지 않아 추가하지 않습니다.\n",
      "index 변수 설정 완료 i =  287\n",
      "해당 요소를 찾을 수 없습니다: .tit_g\n"
     ]
    },
    {
     "name": "stderr",
     "output_type": "stream",
     "text": [
      "  4%|▍         | 26/648 [02:32<1:02:15,  6.01s/it]"
     ]
    },
    {
     "name": "stdout",
     "output_type": "stream",
     "text": [
      "index 변수 설정 완료 i =  288\n"
     ]
    },
    {
     "name": "stderr",
     "output_type": "stream",
     "text": [
      "  4%|▍         | 27/648 [02:37<59:29,  5.75s/it]  "
     ]
    },
    {
     "name": "stdout",
     "output_type": "stream",
     "text": [
      "메뉴 데이터의 길이가 맞지 않아 추가하지 않습니다.\n",
      "가격 데이터의 길이가 맞지 않아 추가하지 않습니다.\n",
      "index 변수 설정 완료 i =  289\n"
     ]
    },
    {
     "name": "stderr",
     "output_type": "stream",
     "text": [
      "  4%|▍         | 28/648 [02:42<59:16,  5.74s/it]"
     ]
    },
    {
     "name": "stdout",
     "output_type": "stream",
     "text": [
      "메뉴 데이터의 길이가 맞지 않아 추가하지 않습니다.\n",
      "가격 데이터의 길이가 맞지 않아 추가하지 않습니다.\n",
      "index 변수 설정 완료 i =  290\n"
     ]
    },
    {
     "name": "stderr",
     "output_type": "stream",
     "text": [
      "  4%|▍         | 29/648 [02:48<57:24,  5.56s/it]"
     ]
    },
    {
     "name": "stdout",
     "output_type": "stream",
     "text": [
      "상위 3개 메뉴 추출 완료\n",
      "가격 데이터의 길이가 맞지 않아 추가하지 않습니다.\n",
      "index 변수 설정 완료 i =  291\n"
     ]
    },
    {
     "name": "stderr",
     "output_type": "stream",
     "text": [
      "  5%|▍         | 30/648 [02:53<56:12,  5.46s/it]"
     ]
    },
    {
     "name": "stdout",
     "output_type": "stream",
     "text": [
      "상위 3개 메뉴 추출 완료\n",
      "메뉴별 가격 추출 완료\n",
      "index 변수 설정 완료 i =  292\n"
     ]
    },
    {
     "name": "stderr",
     "output_type": "stream",
     "text": [
      "  5%|▍         | 31/648 [02:58<56:37,  5.51s/it]"
     ]
    },
    {
     "name": "stdout",
     "output_type": "stream",
     "text": [
      "상위 3개 메뉴 추출 완료\n",
      "메뉴별 가격 추출 완료\n",
      "index 변수 설정 완료 i =  293\n"
     ]
    },
    {
     "name": "stderr",
     "output_type": "stream",
     "text": [
      "  5%|▍         | 32/648 [03:04<56:42,  5.52s/it]"
     ]
    },
    {
     "name": "stdout",
     "output_type": "stream",
     "text": [
      "메뉴 데이터의 길이가 맞지 않아 추가하지 않습니다.\n",
      "가격 데이터의 길이가 맞지 않아 추가하지 않습니다.\n",
      "index 변수 설정 완료 i =  294\n"
     ]
    },
    {
     "name": "stderr",
     "output_type": "stream",
     "text": [
      "  5%|▌         | 33/648 [03:10<57:21,  5.60s/it]"
     ]
    },
    {
     "name": "stdout",
     "output_type": "stream",
     "text": [
      "상위 3개 메뉴 추출 완료\n",
      "메뉴별 가격 추출 완료\n",
      "index 변수 설정 완료 i =  295\n"
     ]
    },
    {
     "name": "stderr",
     "output_type": "stream",
     "text": [
      "  5%|▌         | 34/648 [03:15<57:25,  5.61s/it]"
     ]
    },
    {
     "name": "stdout",
     "output_type": "stream",
     "text": [
      "상위 3개 메뉴 추출 완료\n",
      "가격 데이터의 길이가 맞지 않아 추가하지 않습니다.\n",
      "index 변수 설정 완료 i =  296\n"
     ]
    },
    {
     "name": "stderr",
     "output_type": "stream",
     "text": [
      "  5%|▌         | 35/648 [03:21<57:22,  5.62s/it]"
     ]
    },
    {
     "name": "stdout",
     "output_type": "stream",
     "text": [
      "상위 3개 메뉴 추출 완료\n",
      "메뉴별 가격 추출 완료\n",
      "index 변수 설정 완료 i =  297\n"
     ]
    },
    {
     "name": "stderr",
     "output_type": "stream",
     "text": [
      "  6%|▌         | 36/648 [03:26<56:21,  5.53s/it]"
     ]
    },
    {
     "name": "stdout",
     "output_type": "stream",
     "text": [
      "메뉴 데이터의 길이가 맞지 않아 추가하지 않습니다.\n",
      "가격 데이터의 길이가 맞지 않아 추가하지 않습니다.\n",
      "index 변수 설정 완료 i =  298\n"
     ]
    },
    {
     "name": "stderr",
     "output_type": "stream",
     "text": [
      "  6%|▌         | 37/648 [03:32<55:15,  5.43s/it]"
     ]
    },
    {
     "name": "stdout",
     "output_type": "stream",
     "text": [
      "메뉴 데이터의 길이가 맞지 않아 추가하지 않습니다.\n",
      "가격 데이터의 길이가 맞지 않아 추가하지 않습니다.\n",
      "index 변수 설정 완료 i =  299\n"
     ]
    },
    {
     "name": "stderr",
     "output_type": "stream",
     "text": [
      "  6%|▌         | 38/648 [03:37<55:22,  5.45s/it]"
     ]
    },
    {
     "name": "stdout",
     "output_type": "stream",
     "text": [
      "상위 3개 메뉴 추출 완료\n",
      "메뉴별 가격 추출 완료\n",
      "index 변수 설정 완료 i =  300\n"
     ]
    },
    {
     "name": "stderr",
     "output_type": "stream",
     "text": [
      "  6%|▌         | 39/648 [03:42<55:14,  5.44s/it]"
     ]
    },
    {
     "name": "stdout",
     "output_type": "stream",
     "text": [
      "상위 3개 메뉴 추출 완료\n",
      "메뉴별 가격 추출 완료\n",
      "index 변수 설정 완료 i =  301\n"
     ]
    },
    {
     "name": "stderr",
     "output_type": "stream",
     "text": [
      "  6%|▌         | 40/648 [03:48<54:21,  5.36s/it]"
     ]
    },
    {
     "name": "stdout",
     "output_type": "stream",
     "text": [
      "상위 3개 메뉴 추출 완료\n",
      "가격 데이터의 길이가 맞지 않아 추가하지 않습니다.\n",
      "index 변수 설정 완료 i =  302\n"
     ]
    },
    {
     "name": "stderr",
     "output_type": "stream",
     "text": [
      "  6%|▋         | 41/648 [03:53<54:36,  5.40s/it]"
     ]
    },
    {
     "name": "stdout",
     "output_type": "stream",
     "text": [
      "상위 3개 메뉴 추출 완료\n",
      "메뉴별 가격 추출 완료\n",
      "index 변수 설정 완료 i =  303\n"
     ]
    },
    {
     "name": "stderr",
     "output_type": "stream",
     "text": [
      "  6%|▋         | 42/648 [03:58<53:52,  5.33s/it]"
     ]
    },
    {
     "name": "stdout",
     "output_type": "stream",
     "text": [
      "메뉴 데이터의 길이가 맞지 않아 추가하지 않습니다.\n",
      "가격 데이터의 길이가 맞지 않아 추가하지 않습니다.\n",
      "index 변수 설정 완료 i =  304\n"
     ]
    },
    {
     "name": "stderr",
     "output_type": "stream",
     "text": [
      "  7%|▋         | 43/648 [04:04<54:24,  5.40s/it]"
     ]
    },
    {
     "name": "stdout",
     "output_type": "stream",
     "text": [
      "상위 3개 메뉴 추출 완료\n",
      "메뉴별 가격 추출 완료\n",
      "index 변수 설정 완료 i =  305\n"
     ]
    },
    {
     "name": "stderr",
     "output_type": "stream",
     "text": [
      "  7%|▋         | 44/648 [04:09<54:26,  5.41s/it]"
     ]
    },
    {
     "name": "stdout",
     "output_type": "stream",
     "text": [
      "상위 3개 메뉴 추출 완료\n",
      "메뉴별 가격 추출 완료\n",
      "index 변수 설정 완료 i =  306\n"
     ]
    },
    {
     "name": "stderr",
     "output_type": "stream",
     "text": [
      "  7%|▋         | 45/648 [04:15<54:33,  5.43s/it]"
     ]
    },
    {
     "name": "stdout",
     "output_type": "stream",
     "text": [
      "상위 3개 메뉴 추출 완료\n",
      "메뉴별 가격 추출 완료\n",
      "index 변수 설정 완료 i =  307\n"
     ]
    },
    {
     "name": "stderr",
     "output_type": "stream",
     "text": [
      "  7%|▋         | 46/648 [04:20<54:00,  5.38s/it]"
     ]
    },
    {
     "name": "stdout",
     "output_type": "stream",
     "text": [
      "상위 3개 메뉴 추출 완료\n",
      "메뉴별 가격 추출 완료\n",
      "index 변수 설정 완료 i =  308\n",
      "해당 요소를 찾을 수 없습니다: .tit_g\n"
     ]
    },
    {
     "name": "stderr",
     "output_type": "stream",
     "text": [
      "  7%|▋         | 47/648 [04:28<1:00:58,  6.09s/it]"
     ]
    },
    {
     "name": "stdout",
     "output_type": "stream",
     "text": [
      "index 변수 설정 완료 i =  309\n"
     ]
    },
    {
     "name": "stderr",
     "output_type": "stream",
     "text": [
      "  7%|▋         | 48/648 [04:33<58:34,  5.86s/it]  "
     ]
    },
    {
     "name": "stdout",
     "output_type": "stream",
     "text": [
      "상위 3개 메뉴 추출 완료\n",
      "메뉴별 가격 추출 완료\n",
      "index 변수 설정 완료 i =  310\n"
     ]
    },
    {
     "name": "stderr",
     "output_type": "stream",
     "text": [
      "  8%|▊         | 49/648 [04:38<56:29,  5.66s/it]"
     ]
    },
    {
     "name": "stdout",
     "output_type": "stream",
     "text": [
      "메뉴 데이터의 길이가 맞지 않아 추가하지 않습니다.\n",
      "가격 데이터의 길이가 맞지 않아 추가하지 않습니다.\n",
      "index 변수 설정 완료 i =  311\n"
     ]
    },
    {
     "name": "stderr",
     "output_type": "stream",
     "text": [
      "  8%|▊         | 50/648 [04:43<55:08,  5.53s/it]"
     ]
    },
    {
     "name": "stdout",
     "output_type": "stream",
     "text": [
      "메뉴 데이터의 길이가 맞지 않아 추가하지 않습니다.\n",
      "가격 데이터의 길이가 맞지 않아 추가하지 않습니다.\n",
      "index 변수 설정 완료 i =  312\n"
     ]
    },
    {
     "name": "stderr",
     "output_type": "stream",
     "text": [
      "  8%|▊         | 51/648 [04:49<53:54,  5.42s/it]"
     ]
    },
    {
     "name": "stdout",
     "output_type": "stream",
     "text": [
      "메뉴 데이터의 길이가 맞지 않아 추가하지 않습니다.\n",
      "가격 데이터의 길이가 맞지 않아 추가하지 않습니다.\n",
      "index 변수 설정 완료 i =  313\n"
     ]
    },
    {
     "name": "stderr",
     "output_type": "stream",
     "text": [
      "  8%|▊         | 52/648 [04:54<53:41,  5.41s/it]"
     ]
    },
    {
     "name": "stdout",
     "output_type": "stream",
     "text": [
      "메뉴 데이터의 길이가 맞지 않아 추가하지 않습니다.\n",
      "가격 데이터의 길이가 맞지 않아 추가하지 않습니다.\n",
      "index 변수 설정 완료 i =  314\n"
     ]
    },
    {
     "name": "stderr",
     "output_type": "stream",
     "text": [
      "  8%|▊         | 53/648 [04:59<53:09,  5.36s/it]"
     ]
    },
    {
     "name": "stdout",
     "output_type": "stream",
     "text": [
      "상위 3개 메뉴 추출 완료\n",
      "메뉴별 가격 추출 완료\n",
      "index 변수 설정 완료 i =  315\n"
     ]
    },
    {
     "name": "stderr",
     "output_type": "stream",
     "text": [
      "  8%|▊         | 54/648 [05:04<52:35,  5.31s/it]"
     ]
    },
    {
     "name": "stdout",
     "output_type": "stream",
     "text": [
      "메뉴 데이터의 길이가 맞지 않아 추가하지 않습니다.\n",
      "가격 데이터의 길이가 맞지 않아 추가하지 않습니다.\n",
      "index 변수 설정 완료 i =  316\n"
     ]
    },
    {
     "name": "stderr",
     "output_type": "stream",
     "text": [
      "  8%|▊         | 55/648 [05:10<53:11,  5.38s/it]"
     ]
    },
    {
     "name": "stdout",
     "output_type": "stream",
     "text": [
      "상위 3개 메뉴 추출 완료\n",
      "메뉴별 가격 추출 완료\n",
      "index 변수 설정 완료 i =  317\n"
     ]
    },
    {
     "name": "stderr",
     "output_type": "stream",
     "text": [
      "  9%|▊         | 56/648 [05:15<52:35,  5.33s/it]"
     ]
    },
    {
     "name": "stdout",
     "output_type": "stream",
     "text": [
      "메뉴 데이터의 길이가 맞지 않아 추가하지 않습니다.\n",
      "가격 데이터의 길이가 맞지 않아 추가하지 않습니다.\n",
      "index 변수 설정 완료 i =  318\n"
     ]
    },
    {
     "name": "stderr",
     "output_type": "stream",
     "text": [
      "  9%|▉         | 57/648 [05:20<52:01,  5.28s/it]"
     ]
    },
    {
     "name": "stdout",
     "output_type": "stream",
     "text": [
      "상위 3개 메뉴 추출 완료\n",
      "메뉴별 가격 추출 완료\n",
      "index 변수 설정 완료 i =  319\n"
     ]
    },
    {
     "name": "stderr",
     "output_type": "stream",
     "text": [
      "  9%|▉         | 58/648 [05:26<52:19,  5.32s/it]"
     ]
    },
    {
     "name": "stdout",
     "output_type": "stream",
     "text": [
      "상위 3개 메뉴 추출 완료\n",
      "메뉴별 가격 추출 완료\n",
      "index 변수 설정 완료 i =  320\n"
     ]
    },
    {
     "name": "stderr",
     "output_type": "stream",
     "text": [
      "  9%|▉         | 59/648 [05:31<52:24,  5.34s/it]"
     ]
    },
    {
     "name": "stdout",
     "output_type": "stream",
     "text": [
      "상위 3개 메뉴 추출 완료\n",
      "메뉴별 가격 추출 완료\n",
      "index 변수 설정 완료 i =  321\n"
     ]
    },
    {
     "name": "stderr",
     "output_type": "stream",
     "text": [
      "  9%|▉         | 60/648 [05:36<52:00,  5.31s/it]"
     ]
    },
    {
     "name": "stdout",
     "output_type": "stream",
     "text": [
      "메뉴 데이터의 길이가 맞지 않아 추가하지 않습니다.\n",
      "가격 데이터의 길이가 맞지 않아 추가하지 않습니다.\n",
      "index 변수 설정 완료 i =  322\n"
     ]
    },
    {
     "name": "stderr",
     "output_type": "stream",
     "text": [
      "  9%|▉         | 61/648 [05:42<51:58,  5.31s/it]"
     ]
    },
    {
     "name": "stdout",
     "output_type": "stream",
     "text": [
      "메뉴 데이터의 길이가 맞지 않아 추가하지 않습니다.\n",
      "가격 데이터의 길이가 맞지 않아 추가하지 않습니다.\n",
      "index 변수 설정 완료 i =  323\n"
     ]
    },
    {
     "name": "stderr",
     "output_type": "stream",
     "text": [
      " 10%|▉         | 62/648 [05:47<52:11,  5.34s/it]"
     ]
    },
    {
     "name": "stdout",
     "output_type": "stream",
     "text": [
      "메뉴 데이터의 길이가 맞지 않아 추가하지 않습니다.\n",
      "가격 데이터의 길이가 맞지 않아 추가하지 않습니다.\n",
      "index 변수 설정 완료 i =  324\n"
     ]
    },
    {
     "name": "stderr",
     "output_type": "stream",
     "text": [
      " 10%|▉         | 63/648 [05:53<52:08,  5.35s/it]"
     ]
    },
    {
     "name": "stdout",
     "output_type": "stream",
     "text": [
      "메뉴 데이터의 길이가 맞지 않아 추가하지 않습니다.\n",
      "가격 데이터의 길이가 맞지 않아 추가하지 않습니다.\n",
      "index 변수 설정 완료 i =  325\n",
      "해당 요소를 찾을 수 없습니다: .tit_g\n"
     ]
    },
    {
     "name": "stderr",
     "output_type": "stream",
     "text": [
      " 10%|▉         | 64/648 [06:02<1:03:08,  6.49s/it]"
     ]
    },
    {
     "name": "stdout",
     "output_type": "stream",
     "text": [
      "메뉴 데이터의 길이가 맞지 않아 추가하지 않습니다.\n",
      "가격 데이터의 길이가 맞지 않아 추가하지 않습니다.\n",
      "index 변수 설정 완료 i =  326\n"
     ]
    },
    {
     "name": "stderr",
     "output_type": "stream",
     "text": [
      " 10%|█         | 65/648 [06:07<1:00:02,  6.18s/it]"
     ]
    },
    {
     "name": "stdout",
     "output_type": "stream",
     "text": [
      "상위 3개 메뉴 추출 완료\n",
      "메뉴별 가격 추출 완료\n",
      "index 변수 설정 완료 i =  327\n"
     ]
    },
    {
     "name": "stderr",
     "output_type": "stream",
     "text": [
      " 10%|█         | 66/648 [06:13<58:06,  5.99s/it]  "
     ]
    },
    {
     "name": "stdout",
     "output_type": "stream",
     "text": [
      "메뉴 데이터의 길이가 맞지 않아 추가하지 않습니다.\n",
      "가격 데이터의 길이가 맞지 않아 추가하지 않습니다.\n",
      "index 변수 설정 완료 i =  328\n"
     ]
    },
    {
     "name": "stderr",
     "output_type": "stream",
     "text": [
      " 10%|█         | 67/648 [06:18<56:20,  5.82s/it]"
     ]
    },
    {
     "name": "stdout",
     "output_type": "stream",
     "text": [
      "상위 3개 메뉴 추출 완료\n",
      "메뉴별 가격 추출 완료\n",
      "index 변수 설정 완료 i =  329\n"
     ]
    },
    {
     "name": "stderr",
     "output_type": "stream",
     "text": [
      " 10%|█         | 68/648 [06:24<56:07,  5.81s/it]"
     ]
    },
    {
     "name": "stdout",
     "output_type": "stream",
     "text": [
      "상위 3개 메뉴 추출 완료\n",
      "메뉴별 가격 추출 완료\n",
      "index 변수 설정 완료 i =  330\n"
     ]
    },
    {
     "name": "stderr",
     "output_type": "stream",
     "text": [
      " 11%|█         | 69/648 [06:29<54:49,  5.68s/it]"
     ]
    },
    {
     "name": "stdout",
     "output_type": "stream",
     "text": [
      "상위 3개 메뉴 추출 완료\n",
      "메뉴별 가격 추출 완료\n",
      "index 변수 설정 완료 i =  331\n"
     ]
    },
    {
     "name": "stderr",
     "output_type": "stream",
     "text": [
      " 11%|█         | 70/648 [06:35<53:58,  5.60s/it]"
     ]
    },
    {
     "name": "stdout",
     "output_type": "stream",
     "text": [
      "상위 3개 메뉴 추출 완료\n",
      "메뉴별 가격 추출 완료\n",
      "index 변수 설정 완료 i =  332\n"
     ]
    },
    {
     "name": "stderr",
     "output_type": "stream",
     "text": [
      " 11%|█         | 71/648 [06:40<54:00,  5.62s/it]"
     ]
    },
    {
     "name": "stdout",
     "output_type": "stream",
     "text": [
      "상위 3개 메뉴 추출 완료\n",
      "메뉴별 가격 추출 완료\n",
      "index 변수 설정 완료 i =  333\n",
      "해당 요소를 찾을 수 없습니다: .tit_g\n"
     ]
    },
    {
     "name": "stderr",
     "output_type": "stream",
     "text": [
      " 11%|█         | 72/648 [06:48<59:27,  6.19s/it]"
     ]
    },
    {
     "name": "stdout",
     "output_type": "stream",
     "text": [
      "index 변수 설정 완료 i =  334\n"
     ]
    },
    {
     "name": "stderr",
     "output_type": "stream",
     "text": [
      " 11%|█▏        | 73/648 [06:53<57:31,  6.00s/it]"
     ]
    },
    {
     "name": "stdout",
     "output_type": "stream",
     "text": [
      "상위 3개 메뉴 추출 완료\n",
      "메뉴별 가격 추출 완료\n",
      "index 변수 설정 완료 i =  335\n"
     ]
    },
    {
     "name": "stderr",
     "output_type": "stream",
     "text": [
      " 11%|█▏        | 74/648 [06:59<55:03,  5.75s/it]"
     ]
    },
    {
     "name": "stdout",
     "output_type": "stream",
     "text": [
      "메뉴 데이터의 길이가 맞지 않아 추가하지 않습니다.\n",
      "가격 데이터의 길이가 맞지 않아 추가하지 않습니다.\n",
      "index 변수 설정 완료 i =  336\n"
     ]
    },
    {
     "name": "stderr",
     "output_type": "stream",
     "text": [
      " 12%|█▏        | 75/648 [07:04<53:30,  5.60s/it]"
     ]
    },
    {
     "name": "stdout",
     "output_type": "stream",
     "text": [
      "메뉴 데이터의 길이가 맞지 않아 추가하지 않습니다.\n",
      "가격 데이터의 길이가 맞지 않아 추가하지 않습니다.\n",
      "index 변수 설정 완료 i =  337\n"
     ]
    },
    {
     "name": "stderr",
     "output_type": "stream",
     "text": [
      " 12%|█▏        | 76/648 [07:09<52:34,  5.52s/it]"
     ]
    },
    {
     "name": "stdout",
     "output_type": "stream",
     "text": [
      "상위 3개 메뉴 추출 완료\n",
      "메뉴별 가격 추출 완료\n",
      "index 변수 설정 완료 i =  338\n"
     ]
    },
    {
     "name": "stderr",
     "output_type": "stream",
     "text": [
      " 12%|█▏        | 77/648 [07:14<51:45,  5.44s/it]"
     ]
    },
    {
     "name": "stdout",
     "output_type": "stream",
     "text": [
      "상위 3개 메뉴 추출 완료\n",
      "가격 데이터의 길이가 맞지 않아 추가하지 않습니다.\n",
      "index 변수 설정 완료 i =  339\n"
     ]
    },
    {
     "name": "stderr",
     "output_type": "stream",
     "text": [
      " 12%|█▏        | 78/648 [07:20<51:01,  5.37s/it]"
     ]
    },
    {
     "name": "stdout",
     "output_type": "stream",
     "text": [
      "메뉴 데이터의 길이가 맞지 않아 추가하지 않습니다.\n",
      "가격 데이터의 길이가 맞지 않아 추가하지 않습니다.\n",
      "index 변수 설정 완료 i =  340\n",
      "해당 요소를 찾을 수 없습니다: .tit_g\n"
     ]
    },
    {
     "name": "stderr",
     "output_type": "stream",
     "text": [
      " 12%|█▏        | 79/648 [07:27<56:29,  5.96s/it]"
     ]
    },
    {
     "name": "stdout",
     "output_type": "stream",
     "text": [
      "index 변수 설정 완료 i =  341\n"
     ]
    },
    {
     "name": "stderr",
     "output_type": "stream",
     "text": [
      " 12%|█▏        | 80/648 [07:32<54:43,  5.78s/it]"
     ]
    },
    {
     "name": "stdout",
     "output_type": "stream",
     "text": [
      "상위 3개 메뉴 추출 완료\n",
      "메뉴별 가격 추출 완료\n",
      "index 변수 설정 완료 i =  342\n"
     ]
    },
    {
     "name": "stderr",
     "output_type": "stream",
     "text": [
      " 12%|█▎        | 81/648 [07:38<53:35,  5.67s/it]"
     ]
    },
    {
     "name": "stdout",
     "output_type": "stream",
     "text": [
      "상위 3개 메뉴 추출 완료\n",
      "메뉴별 가격 추출 완료\n",
      "index 변수 설정 완료 i =  343\n"
     ]
    },
    {
     "name": "stderr",
     "output_type": "stream",
     "text": [
      " 13%|█▎        | 82/648 [07:43<52:53,  5.61s/it]"
     ]
    },
    {
     "name": "stdout",
     "output_type": "stream",
     "text": [
      "상위 3개 메뉴 추출 완료\n",
      "메뉴별 가격 추출 완료\n",
      "index 변수 설정 완료 i =  344\n"
     ]
    },
    {
     "name": "stderr",
     "output_type": "stream",
     "text": [
      " 13%|█▎        | 83/648 [07:49<52:25,  5.57s/it]"
     ]
    },
    {
     "name": "stdout",
     "output_type": "stream",
     "text": [
      "상위 3개 메뉴 추출 완료\n",
      "가격 데이터의 길이가 맞지 않아 추가하지 않습니다.\n",
      "index 변수 설정 완료 i =  345\n"
     ]
    },
    {
     "name": "stderr",
     "output_type": "stream",
     "text": [
      " 13%|█▎        | 84/648 [07:55<53:10,  5.66s/it]"
     ]
    },
    {
     "name": "stdout",
     "output_type": "stream",
     "text": [
      "메뉴 데이터의 길이가 맞지 않아 추가하지 않습니다.\n",
      "가격 데이터의 길이가 맞지 않아 추가하지 않습니다.\n",
      "index 변수 설정 완료 i =  346\n"
     ]
    },
    {
     "name": "stderr",
     "output_type": "stream",
     "text": [
      " 13%|█▎        | 85/648 [08:01<54:37,  5.82s/it]"
     ]
    },
    {
     "name": "stdout",
     "output_type": "stream",
     "text": [
      "상위 3개 메뉴 추출 완료\n",
      "가격 데이터의 길이가 맞지 않아 추가하지 않습니다.\n",
      "index 변수 설정 완료 i =  347\n"
     ]
    },
    {
     "name": "stderr",
     "output_type": "stream",
     "text": [
      " 13%|█▎        | 86/648 [08:07<54:23,  5.81s/it]"
     ]
    },
    {
     "name": "stdout",
     "output_type": "stream",
     "text": [
      "메뉴 데이터의 길이가 맞지 않아 추가하지 않습니다.\n",
      "가격 데이터의 길이가 맞지 않아 추가하지 않습니다.\n",
      "index 변수 설정 완료 i =  348\n"
     ]
    },
    {
     "name": "stderr",
     "output_type": "stream",
     "text": [
      " 13%|█▎        | 87/648 [08:12<54:06,  5.79s/it]"
     ]
    },
    {
     "name": "stdout",
     "output_type": "stream",
     "text": [
      "메뉴 데이터의 길이가 맞지 않아 추가하지 않습니다.\n",
      "가격 데이터의 길이가 맞지 않아 추가하지 않습니다.\n",
      "index 변수 설정 완료 i =  349\n"
     ]
    },
    {
     "name": "stderr",
     "output_type": "stream",
     "text": [
      " 14%|█▎        | 88/648 [08:18<54:04,  5.79s/it]"
     ]
    },
    {
     "name": "stdout",
     "output_type": "stream",
     "text": [
      "메뉴 데이터의 길이가 맞지 않아 추가하지 않습니다.\n",
      "가격 데이터의 길이가 맞지 않아 추가하지 않습니다.\n",
      "index 변수 설정 완료 i =  350\n"
     ]
    },
    {
     "name": "stderr",
     "output_type": "stream",
     "text": [
      " 14%|█▎        | 89/648 [08:24<53:41,  5.76s/it]"
     ]
    },
    {
     "name": "stdout",
     "output_type": "stream",
     "text": [
      "상위 3개 메뉴 추출 완료\n",
      "메뉴별 가격 추출 완료\n",
      "index 변수 설정 완료 i =  351\n"
     ]
    },
    {
     "name": "stderr",
     "output_type": "stream",
     "text": [
      " 14%|█▍        | 90/648 [08:29<53:04,  5.71s/it]"
     ]
    },
    {
     "name": "stdout",
     "output_type": "stream",
     "text": [
      "상위 3개 메뉴 추출 완료\n",
      "메뉴별 가격 추출 완료\n",
      "index 변수 설정 완료 i =  352\n"
     ]
    },
    {
     "name": "stderr",
     "output_type": "stream",
     "text": [
      " 14%|█▍        | 91/648 [08:35<52:14,  5.63s/it]"
     ]
    },
    {
     "name": "stdout",
     "output_type": "stream",
     "text": [
      "상위 3개 메뉴 추출 완료\n",
      "메뉴별 가격 추출 완료\n",
      "index 변수 설정 완료 i =  353\n"
     ]
    },
    {
     "name": "stderr",
     "output_type": "stream",
     "text": [
      " 14%|█▍        | 92/648 [08:40<51:50,  5.59s/it]"
     ]
    },
    {
     "name": "stdout",
     "output_type": "stream",
     "text": [
      "상위 3개 메뉴 추출 완료\n",
      "메뉴별 가격 추출 완료\n",
      "index 변수 설정 완료 i =  354\n"
     ]
    },
    {
     "name": "stderr",
     "output_type": "stream",
     "text": [
      " 14%|█▍        | 93/648 [08:46<51:16,  5.54s/it]"
     ]
    },
    {
     "name": "stdout",
     "output_type": "stream",
     "text": [
      "상위 3개 메뉴 추출 완료\n",
      "메뉴별 가격 추출 완료\n",
      "index 변수 설정 완료 i =  355\n"
     ]
    },
    {
     "name": "stderr",
     "output_type": "stream",
     "text": [
      " 15%|█▍        | 94/648 [08:51<50:51,  5.51s/it]"
     ]
    },
    {
     "name": "stdout",
     "output_type": "stream",
     "text": [
      "상위 3개 메뉴 추출 완료\n",
      "가격 데이터의 길이가 맞지 않아 추가하지 않습니다.\n",
      "index 변수 설정 완료 i =  356\n"
     ]
    },
    {
     "name": "stderr",
     "output_type": "stream",
     "text": [
      " 15%|█▍        | 95/648 [08:56<49:59,  5.42s/it]"
     ]
    },
    {
     "name": "stdout",
     "output_type": "stream",
     "text": [
      "상위 3개 메뉴 추출 완료\n",
      "가격 데이터의 길이가 맞지 않아 추가하지 않습니다.\n",
      "index 변수 설정 완료 i =  357\n",
      "해당 요소를 찾을 수 없습니다: .tit_g\n"
     ]
    },
    {
     "name": "stderr",
     "output_type": "stream",
     "text": [
      " 15%|█▍        | 96/648 [09:04<56:18,  6.12s/it]"
     ]
    },
    {
     "name": "stdout",
     "output_type": "stream",
     "text": [
      "index 변수 설정 완료 i =  358\n"
     ]
    },
    {
     "name": "stderr",
     "output_type": "stream",
     "text": [
      " 15%|█▍        | 97/648 [09:10<54:17,  5.91s/it]"
     ]
    },
    {
     "name": "stdout",
     "output_type": "stream",
     "text": [
      "상위 3개 메뉴 추출 완료\n",
      "메뉴별 가격 추출 완료\n",
      "index 변수 설정 완료 i =  359\n"
     ]
    },
    {
     "name": "stderr",
     "output_type": "stream",
     "text": [
      " 15%|█▌        | 98/648 [09:15<52:20,  5.71s/it]"
     ]
    },
    {
     "name": "stdout",
     "output_type": "stream",
     "text": [
      "메뉴 데이터의 길이가 맞지 않아 추가하지 않습니다.\n",
      "가격 데이터의 길이가 맞지 않아 추가하지 않습니다.\n",
      "index 변수 설정 완료 i =  360\n"
     ]
    },
    {
     "name": "stderr",
     "output_type": "stream",
     "text": [
      " 15%|█▌        | 99/648 [09:20<51:37,  5.64s/it]"
     ]
    },
    {
     "name": "stdout",
     "output_type": "stream",
     "text": [
      "상위 3개 메뉴 추출 완료\n",
      "메뉴별 가격 추출 완료\n",
      "index 변수 설정 완료 i =  361\n"
     ]
    },
    {
     "name": "stderr",
     "output_type": "stream",
     "text": [
      " 15%|█▌        | 100/648 [09:26<50:25,  5.52s/it]"
     ]
    },
    {
     "name": "stdout",
     "output_type": "stream",
     "text": [
      "상위 3개 메뉴 추출 완료\n",
      "메뉴별 가격 추출 완료\n",
      "index 변수 설정 완료 i =  362\n"
     ]
    },
    {
     "name": "stderr",
     "output_type": "stream",
     "text": [
      " 16%|█▌        | 101/648 [09:31<50:25,  5.53s/it]"
     ]
    },
    {
     "name": "stdout",
     "output_type": "stream",
     "text": [
      "메뉴 데이터의 길이가 맞지 않아 추가하지 않습니다.\n",
      "가격 데이터의 길이가 맞지 않아 추가하지 않습니다.\n",
      "index 변수 설정 완료 i =  363\n"
     ]
    },
    {
     "name": "stderr",
     "output_type": "stream",
     "text": [
      " 16%|█▌        | 102/648 [09:37<50:26,  5.54s/it]"
     ]
    },
    {
     "name": "stdout",
     "output_type": "stream",
     "text": [
      "메뉴 데이터의 길이가 맞지 않아 추가하지 않습니다.\n",
      "가격 데이터의 길이가 맞지 않아 추가하지 않습니다.\n",
      "index 변수 설정 완료 i =  364\n"
     ]
    },
    {
     "name": "stderr",
     "output_type": "stream",
     "text": [
      " 16%|█▌        | 103/648 [09:42<49:50,  5.49s/it]"
     ]
    },
    {
     "name": "stdout",
     "output_type": "stream",
     "text": [
      "상위 3개 메뉴 추출 완료\n",
      "메뉴별 가격 추출 완료\n",
      "index 변수 설정 완료 i =  365\n"
     ]
    },
    {
     "name": "stderr",
     "output_type": "stream",
     "text": [
      " 16%|█▌        | 104/648 [09:47<49:23,  5.45s/it]"
     ]
    },
    {
     "name": "stdout",
     "output_type": "stream",
     "text": [
      "상위 3개 메뉴 추출 완료\n",
      "메뉴별 가격 추출 완료\n",
      "index 변수 설정 완료 i =  366\n"
     ]
    },
    {
     "name": "stderr",
     "output_type": "stream",
     "text": [
      " 16%|█▌        | 105/648 [09:53<49:01,  5.42s/it]"
     ]
    },
    {
     "name": "stdout",
     "output_type": "stream",
     "text": [
      "상위 3개 메뉴 추출 완료\n",
      "가격 데이터의 길이가 맞지 않아 추가하지 않습니다.\n",
      "index 변수 설정 완료 i =  367\n"
     ]
    },
    {
     "name": "stderr",
     "output_type": "stream",
     "text": [
      " 16%|█▋        | 106/648 [09:58<49:08,  5.44s/it]"
     ]
    },
    {
     "name": "stdout",
     "output_type": "stream",
     "text": [
      "메뉴 데이터의 길이가 맞지 않아 추가하지 않습니다.\n",
      "가격 데이터의 길이가 맞지 않아 추가하지 않습니다.\n",
      "index 변수 설정 완료 i =  368\n"
     ]
    },
    {
     "name": "stderr",
     "output_type": "stream",
     "text": [
      " 17%|█▋        | 107/648 [10:04<49:00,  5.43s/it]"
     ]
    },
    {
     "name": "stdout",
     "output_type": "stream",
     "text": [
      "상위 3개 메뉴 추출 완료\n",
      "메뉴별 가격 추출 완료\n",
      "index 변수 설정 완료 i =  369\n"
     ]
    },
    {
     "name": "stderr",
     "output_type": "stream",
     "text": [
      " 17%|█▋        | 108/648 [10:09<49:10,  5.46s/it]"
     ]
    },
    {
     "name": "stdout",
     "output_type": "stream",
     "text": [
      "상위 3개 메뉴 추출 완료\n",
      "가격 데이터의 길이가 맞지 않아 추가하지 않습니다.\n",
      "index 변수 설정 완료 i =  370\n"
     ]
    },
    {
     "name": "stderr",
     "output_type": "stream",
     "text": [
      " 17%|█▋        | 109/648 [10:15<48:47,  5.43s/it]"
     ]
    },
    {
     "name": "stdout",
     "output_type": "stream",
     "text": [
      "상위 3개 메뉴 추출 완료\n",
      "가격 데이터의 길이가 맞지 않아 추가하지 않습니다.\n",
      "index 변수 설정 완료 i =  371\n"
     ]
    },
    {
     "name": "stderr",
     "output_type": "stream",
     "text": [
      " 17%|█▋        | 110/648 [10:20<48:40,  5.43s/it]"
     ]
    },
    {
     "name": "stdout",
     "output_type": "stream",
     "text": [
      "상위 3개 메뉴 추출 완료\n",
      "메뉴별 가격 추출 완료\n",
      "index 변수 설정 완료 i =  372\n"
     ]
    },
    {
     "name": "stderr",
     "output_type": "stream",
     "text": [
      " 17%|█▋        | 111/648 [10:25<48:04,  5.37s/it]"
     ]
    },
    {
     "name": "stdout",
     "output_type": "stream",
     "text": [
      "상위 3개 메뉴 추출 완료\n",
      "메뉴별 가격 추출 완료\n",
      "index 변수 설정 완료 i =  373\n"
     ]
    },
    {
     "name": "stderr",
     "output_type": "stream",
     "text": [
      " 17%|█▋        | 112/648 [10:30<47:36,  5.33s/it]"
     ]
    },
    {
     "name": "stdout",
     "output_type": "stream",
     "text": [
      "메뉴 데이터의 길이가 맞지 않아 추가하지 않습니다.\n",
      "가격 데이터의 길이가 맞지 않아 추가하지 않습니다.\n",
      "index 변수 설정 완료 i =  374\n"
     ]
    },
    {
     "name": "stderr",
     "output_type": "stream",
     "text": [
      " 17%|█▋        | 113/648 [10:36<47:14,  5.30s/it]"
     ]
    },
    {
     "name": "stdout",
     "output_type": "stream",
     "text": [
      "메뉴 데이터의 길이가 맞지 않아 추가하지 않습니다.\n",
      "가격 데이터의 길이가 맞지 않아 추가하지 않습니다.\n",
      "index 변수 설정 완료 i =  375\n"
     ]
    },
    {
     "name": "stderr",
     "output_type": "stream",
     "text": [
      " 18%|█▊        | 114/648 [10:41<47:42,  5.36s/it]"
     ]
    },
    {
     "name": "stdout",
     "output_type": "stream",
     "text": [
      "상위 3개 메뉴 추출 완료\n",
      "메뉴별 가격 추출 완료\n",
      "index 변수 설정 완료 i =  376\n"
     ]
    },
    {
     "name": "stderr",
     "output_type": "stream",
     "text": [
      " 18%|█▊        | 115/648 [10:46<47:32,  5.35s/it]"
     ]
    },
    {
     "name": "stdout",
     "output_type": "stream",
     "text": [
      "메뉴 데이터의 길이가 맞지 않아 추가하지 않습니다.\n",
      "가격 데이터의 길이가 맞지 않아 추가하지 않습니다.\n",
      "index 변수 설정 완료 i =  377\n"
     ]
    },
    {
     "name": "stderr",
     "output_type": "stream",
     "text": [
      " 18%|█▊        | 116/648 [10:52<48:20,  5.45s/it]"
     ]
    },
    {
     "name": "stdout",
     "output_type": "stream",
     "text": [
      "상위 3개 메뉴 추출 완료\n",
      "메뉴별 가격 추출 완료\n",
      "index 변수 설정 완료 i =  378\n"
     ]
    },
    {
     "name": "stderr",
     "output_type": "stream",
     "text": [
      " 18%|█▊        | 117/648 [10:57<47:32,  5.37s/it]"
     ]
    },
    {
     "name": "stdout",
     "output_type": "stream",
     "text": [
      "상위 3개 메뉴 추출 완료\n",
      "메뉴별 가격 추출 완료\n",
      "index 변수 설정 완료 i =  379\n"
     ]
    },
    {
     "name": "stderr",
     "output_type": "stream",
     "text": [
      " 18%|█▊        | 118/648 [11:03<47:35,  5.39s/it]"
     ]
    },
    {
     "name": "stdout",
     "output_type": "stream",
     "text": [
      "상위 3개 메뉴 추출 완료\n",
      "메뉴별 가격 추출 완료\n",
      "index 변수 설정 완료 i =  380\n"
     ]
    },
    {
     "name": "stderr",
     "output_type": "stream",
     "text": [
      " 18%|█▊        | 119/648 [11:08<47:54,  5.43s/it]"
     ]
    },
    {
     "name": "stdout",
     "output_type": "stream",
     "text": [
      "메뉴 데이터의 길이가 맞지 않아 추가하지 않습니다.\n",
      "가격 데이터의 길이가 맞지 않아 추가하지 않습니다.\n",
      "index 변수 설정 완료 i =  381\n"
     ]
    },
    {
     "name": "stderr",
     "output_type": "stream",
     "text": [
      " 19%|█▊        | 120/648 [11:13<47:04,  5.35s/it]"
     ]
    },
    {
     "name": "stdout",
     "output_type": "stream",
     "text": [
      "상위 3개 메뉴 추출 완료\n",
      "메뉴별 가격 추출 완료\n",
      "index 변수 설정 완료 i =  382\n"
     ]
    },
    {
     "name": "stderr",
     "output_type": "stream",
     "text": [
      " 19%|█▊        | 121/648 [11:19<46:31,  5.30s/it]"
     ]
    },
    {
     "name": "stdout",
     "output_type": "stream",
     "text": [
      "메뉴 데이터의 길이가 맞지 않아 추가하지 않습니다.\n",
      "가격 데이터의 길이가 맞지 않아 추가하지 않습니다.\n",
      "index 변수 설정 완료 i =  383\n"
     ]
    },
    {
     "name": "stderr",
     "output_type": "stream",
     "text": [
      " 19%|█▉        | 122/648 [11:24<46:30,  5.31s/it]"
     ]
    },
    {
     "name": "stdout",
     "output_type": "stream",
     "text": [
      "상위 3개 메뉴 추출 완료\n",
      "메뉴별 가격 추출 완료\n",
      "index 변수 설정 완료 i =  384\n"
     ]
    },
    {
     "name": "stderr",
     "output_type": "stream",
     "text": [
      " 19%|█▉        | 123/648 [11:30<47:35,  5.44s/it]"
     ]
    },
    {
     "name": "stdout",
     "output_type": "stream",
     "text": [
      "메뉴 데이터의 길이가 맞지 않아 추가하지 않습니다.\n",
      "가격 데이터의 길이가 맞지 않아 추가하지 않습니다.\n",
      "index 변수 설정 완료 i =  385\n"
     ]
    },
    {
     "name": "stderr",
     "output_type": "stream",
     "text": [
      " 19%|█▉        | 124/648 [11:35<47:38,  5.45s/it]"
     ]
    },
    {
     "name": "stdout",
     "output_type": "stream",
     "text": [
      "상위 3개 메뉴 추출 완료\n",
      "가격 데이터의 길이가 맞지 않아 추가하지 않습니다.\n",
      "index 변수 설정 완료 i =  386\n",
      "해당 요소를 찾을 수 없습니다: .tit_g\n"
     ]
    },
    {
     "name": "stderr",
     "output_type": "stream",
     "text": [
      " 19%|█▉        | 125/648 [11:43<52:50,  6.06s/it]"
     ]
    },
    {
     "name": "stdout",
     "output_type": "stream",
     "text": [
      "index 변수 설정 완료 i =  387\n"
     ]
    },
    {
     "name": "stderr",
     "output_type": "stream",
     "text": [
      " 19%|█▉        | 126/648 [11:48<51:06,  5.87s/it]"
     ]
    },
    {
     "name": "stdout",
     "output_type": "stream",
     "text": [
      "메뉴 데이터의 길이가 맞지 않아 추가하지 않습니다.\n",
      "가격 데이터의 길이가 맞지 않아 추가하지 않습니다.\n",
      "index 변수 설정 완료 i =  388\n"
     ]
    },
    {
     "name": "stderr",
     "output_type": "stream",
     "text": [
      " 20%|█▉        | 127/648 [11:53<49:36,  5.71s/it]"
     ]
    },
    {
     "name": "stdout",
     "output_type": "stream",
     "text": [
      "상위 3개 메뉴 추출 완료\n",
      "메뉴별 가격 추출 완료\n",
      "index 변수 설정 완료 i =  389\n"
     ]
    },
    {
     "name": "stderr",
     "output_type": "stream",
     "text": [
      " 20%|█▉        | 128/648 [11:59<48:20,  5.58s/it]"
     ]
    },
    {
     "name": "stdout",
     "output_type": "stream",
     "text": [
      "상위 3개 메뉴 추출 완료\n",
      "메뉴별 가격 추출 완료\n",
      "index 변수 설정 완료 i =  390\n"
     ]
    },
    {
     "name": "stderr",
     "output_type": "stream",
     "text": [
      " 20%|█▉        | 129/648 [12:04<47:26,  5.48s/it]"
     ]
    },
    {
     "name": "stdout",
     "output_type": "stream",
     "text": [
      "메뉴 데이터의 길이가 맞지 않아 추가하지 않습니다.\n",
      "가격 데이터의 길이가 맞지 않아 추가하지 않습니다.\n",
      "index 변수 설정 완료 i =  391\n"
     ]
    },
    {
     "name": "stderr",
     "output_type": "stream",
     "text": [
      " 20%|██        | 130/648 [12:09<47:12,  5.47s/it]"
     ]
    },
    {
     "name": "stdout",
     "output_type": "stream",
     "text": [
      "상위 3개 메뉴 추출 완료\n",
      "메뉴별 가격 추출 완료\n",
      "index 변수 설정 완료 i =  392\n"
     ]
    },
    {
     "name": "stderr",
     "output_type": "stream",
     "text": [
      " 20%|██        | 131/648 [12:15<46:41,  5.42s/it]"
     ]
    },
    {
     "name": "stdout",
     "output_type": "stream",
     "text": [
      "상위 3개 메뉴 추출 완료\n",
      "가격 데이터의 길이가 맞지 않아 추가하지 않습니다.\n",
      "index 변수 설정 완료 i =  393\n"
     ]
    },
    {
     "name": "stderr",
     "output_type": "stream",
     "text": [
      " 20%|██        | 132/648 [12:20<46:27,  5.40s/it]"
     ]
    },
    {
     "name": "stdout",
     "output_type": "stream",
     "text": [
      "메뉴 데이터의 길이가 맞지 않아 추가하지 않습니다.\n",
      "가격 데이터의 길이가 맞지 않아 추가하지 않습니다.\n",
      "index 변수 설정 완료 i =  394\n"
     ]
    },
    {
     "name": "stderr",
     "output_type": "stream",
     "text": [
      " 21%|██        | 133/648 [12:26<46:35,  5.43s/it]"
     ]
    },
    {
     "name": "stdout",
     "output_type": "stream",
     "text": [
      "상위 3개 메뉴 추출 완료\n",
      "메뉴별 가격 추출 완료\n",
      "index 변수 설정 완료 i =  395\n"
     ]
    },
    {
     "name": "stderr",
     "output_type": "stream",
     "text": [
      " 21%|██        | 134/648 [12:31<46:41,  5.45s/it]"
     ]
    },
    {
     "name": "stdout",
     "output_type": "stream",
     "text": [
      "상위 3개 메뉴 추출 완료\n",
      "메뉴별 가격 추출 완료\n",
      "index 변수 설정 완료 i =  396\n"
     ]
    },
    {
     "name": "stderr",
     "output_type": "stream",
     "text": [
      " 21%|██        | 135/648 [12:36<46:32,  5.44s/it]"
     ]
    },
    {
     "name": "stdout",
     "output_type": "stream",
     "text": [
      "메뉴 데이터의 길이가 맞지 않아 추가하지 않습니다.\n",
      "가격 데이터의 길이가 맞지 않아 추가하지 않습니다.\n",
      "index 변수 설정 완료 i =  397\n"
     ]
    },
    {
     "name": "stderr",
     "output_type": "stream",
     "text": [
      " 21%|██        | 136/648 [12:42<47:02,  5.51s/it]"
     ]
    },
    {
     "name": "stdout",
     "output_type": "stream",
     "text": [
      "상위 3개 메뉴 추출 완료\n",
      "메뉴별 가격 추출 완료\n",
      "index 변수 설정 완료 i =  398\n"
     ]
    },
    {
     "name": "stderr",
     "output_type": "stream",
     "text": [
      " 21%|██        | 137/648 [12:47<46:09,  5.42s/it]"
     ]
    },
    {
     "name": "stdout",
     "output_type": "stream",
     "text": [
      "메뉴 데이터의 길이가 맞지 않아 추가하지 않습니다.\n",
      "가격 데이터의 길이가 맞지 않아 추가하지 않습니다.\n",
      "index 변수 설정 완료 i =  399\n"
     ]
    },
    {
     "name": "stderr",
     "output_type": "stream",
     "text": [
      " 21%|██▏       | 138/648 [12:53<45:42,  5.38s/it]"
     ]
    },
    {
     "name": "stdout",
     "output_type": "stream",
     "text": [
      "메뉴 데이터의 길이가 맞지 않아 추가하지 않습니다.\n",
      "가격 데이터의 길이가 맞지 않아 추가하지 않습니다.\n",
      "index 변수 설정 완료 i =  400\n"
     ]
    },
    {
     "name": "stderr",
     "output_type": "stream",
     "text": [
      " 21%|██▏       | 139/648 [12:59<47:18,  5.58s/it]"
     ]
    },
    {
     "name": "stdout",
     "output_type": "stream",
     "text": [
      "상위 3개 메뉴 추출 완료\n",
      "메뉴별 가격 추출 완료\n",
      "index 변수 설정 완료 i =  401\n"
     ]
    },
    {
     "name": "stderr",
     "output_type": "stream",
     "text": [
      " 22%|██▏       | 140/648 [13:04<47:16,  5.58s/it]"
     ]
    },
    {
     "name": "stdout",
     "output_type": "stream",
     "text": [
      "메뉴 데이터의 길이가 맞지 않아 추가하지 않습니다.\n",
      "가격 데이터의 길이가 맞지 않아 추가하지 않습니다.\n",
      "index 변수 설정 완료 i =  402\n"
     ]
    },
    {
     "name": "stderr",
     "output_type": "stream",
     "text": [
      " 22%|██▏       | 141/648 [13:10<46:25,  5.49s/it]"
     ]
    },
    {
     "name": "stdout",
     "output_type": "stream",
     "text": [
      "상위 3개 메뉴 추출 완료\n",
      "메뉴별 가격 추출 완료\n",
      "index 변수 설정 완료 i =  403\n"
     ]
    },
    {
     "name": "stderr",
     "output_type": "stream",
     "text": [
      " 22%|██▏       | 142/648 [13:15<46:12,  5.48s/it]"
     ]
    },
    {
     "name": "stdout",
     "output_type": "stream",
     "text": [
      "상위 3개 메뉴 추출 완료\n",
      "메뉴별 가격 추출 완료\n",
      "index 변수 설정 완료 i =  404\n"
     ]
    },
    {
     "name": "stderr",
     "output_type": "stream",
     "text": [
      " 22%|██▏       | 143/648 [13:20<45:53,  5.45s/it]"
     ]
    },
    {
     "name": "stdout",
     "output_type": "stream",
     "text": [
      "상위 3개 메뉴 추출 완료\n",
      "메뉴별 가격 추출 완료\n",
      "index 변수 설정 완료 i =  405\n"
     ]
    },
    {
     "name": "stderr",
     "output_type": "stream",
     "text": [
      " 22%|██▏       | 144/648 [13:26<46:27,  5.53s/it]"
     ]
    },
    {
     "name": "stdout",
     "output_type": "stream",
     "text": [
      "상위 3개 메뉴 추출 완료\n",
      "메뉴별 가격 추출 완료\n",
      "index 변수 설정 완료 i =  406\n"
     ]
    },
    {
     "name": "stderr",
     "output_type": "stream",
     "text": [
      " 22%|██▏       | 145/648 [13:31<45:58,  5.48s/it]"
     ]
    },
    {
     "name": "stdout",
     "output_type": "stream",
     "text": [
      "메뉴 데이터의 길이가 맞지 않아 추가하지 않습니다.\n",
      "가격 데이터의 길이가 맞지 않아 추가하지 않습니다.\n",
      "index 변수 설정 완료 i =  407\n"
     ]
    },
    {
     "name": "stderr",
     "output_type": "stream",
     "text": [
      " 23%|██▎       | 146/648 [13:37<46:03,  5.50s/it]"
     ]
    },
    {
     "name": "stdout",
     "output_type": "stream",
     "text": [
      "상위 3개 메뉴 추출 완료\n",
      "메뉴별 가격 추출 완료\n",
      "index 변수 설정 완료 i =  408\n"
     ]
    },
    {
     "name": "stderr",
     "output_type": "stream",
     "text": [
      " 23%|██▎       | 147/648 [13:42<45:25,  5.44s/it]"
     ]
    },
    {
     "name": "stdout",
     "output_type": "stream",
     "text": [
      "메뉴 데이터의 길이가 맞지 않아 추가하지 않습니다.\n",
      "가격 데이터의 길이가 맞지 않아 추가하지 않습니다.\n",
      "index 변수 설정 완료 i =  409\n"
     ]
    },
    {
     "name": "stderr",
     "output_type": "stream",
     "text": [
      " 23%|██▎       | 148/648 [13:48<45:19,  5.44s/it]"
     ]
    },
    {
     "name": "stdout",
     "output_type": "stream",
     "text": [
      "상위 3개 메뉴 추출 완료\n",
      "메뉴별 가격 추출 완료\n",
      "index 변수 설정 완료 i =  410\n"
     ]
    },
    {
     "name": "stderr",
     "output_type": "stream",
     "text": [
      " 23%|██▎       | 149/648 [13:53<45:30,  5.47s/it]"
     ]
    },
    {
     "name": "stdout",
     "output_type": "stream",
     "text": [
      "메뉴 데이터의 길이가 맞지 않아 추가하지 않습니다.\n",
      "가격 데이터의 길이가 맞지 않아 추가하지 않습니다.\n",
      "index 변수 설정 완료 i =  411\n",
      "해당 요소를 찾을 수 없습니다: .tit_g\n"
     ]
    },
    {
     "name": "stderr",
     "output_type": "stream",
     "text": [
      " 23%|██▎       | 150/648 [14:03<55:05,  6.64s/it]"
     ]
    },
    {
     "name": "stdout",
     "output_type": "stream",
     "text": [
      "메뉴 데이터의 길이가 맞지 않아 추가하지 않습니다.\n",
      "가격 데이터의 길이가 맞지 않아 추가하지 않습니다.\n",
      "index 변수 설정 완료 i =  412\n"
     ]
    },
    {
     "name": "stderr",
     "output_type": "stream",
     "text": [
      " 23%|██▎       | 151/648 [14:08<52:00,  6.28s/it]"
     ]
    },
    {
     "name": "stdout",
     "output_type": "stream",
     "text": [
      "상위 3개 메뉴 추출 완료\n",
      "메뉴별 가격 추출 완료\n",
      "index 변수 설정 완료 i =  413\n"
     ]
    },
    {
     "name": "stderr",
     "output_type": "stream",
     "text": [
      " 23%|██▎       | 152/648 [14:13<49:22,  5.97s/it]"
     ]
    },
    {
     "name": "stdout",
     "output_type": "stream",
     "text": [
      "상위 3개 메뉴 추출 완료\n",
      "메뉴별 가격 추출 완료\n",
      "index 변수 설정 완료 i =  414\n"
     ]
    },
    {
     "name": "stderr",
     "output_type": "stream",
     "text": [
      " 24%|██▎       | 153/648 [14:19<47:21,  5.74s/it]"
     ]
    },
    {
     "name": "stdout",
     "output_type": "stream",
     "text": [
      "상위 3개 메뉴 추출 완료\n",
      "메뉴별 가격 추출 완료\n",
      "index 변수 설정 완료 i =  415\n"
     ]
    },
    {
     "name": "stderr",
     "output_type": "stream",
     "text": [
      " 24%|██▍       | 154/648 [14:24<45:54,  5.58s/it]"
     ]
    },
    {
     "name": "stdout",
     "output_type": "stream",
     "text": [
      "상위 3개 메뉴 추출 완료\n",
      "메뉴별 가격 추출 완료\n",
      "index 변수 설정 완료 i =  416\n"
     ]
    },
    {
     "name": "stderr",
     "output_type": "stream",
     "text": [
      " 24%|██▍       | 155/648 [14:29<45:24,  5.53s/it]"
     ]
    },
    {
     "name": "stdout",
     "output_type": "stream",
     "text": [
      "상위 3개 메뉴 추출 완료\n",
      "메뉴별 가격 추출 완료\n",
      "index 변수 설정 완료 i =  417\n"
     ]
    },
    {
     "name": "stderr",
     "output_type": "stream",
     "text": [
      " 24%|██▍       | 156/648 [14:34<44:48,  5.46s/it]"
     ]
    },
    {
     "name": "stdout",
     "output_type": "stream",
     "text": [
      "상위 3개 메뉴 추출 완료\n",
      "메뉴별 가격 추출 완료\n",
      "index 변수 설정 완료 i =  418\n"
     ]
    },
    {
     "name": "stderr",
     "output_type": "stream",
     "text": [
      " 24%|██▍       | 157/648 [14:40<44:13,  5.40s/it]"
     ]
    },
    {
     "name": "stdout",
     "output_type": "stream",
     "text": [
      "상위 3개 메뉴 추출 완료\n",
      "메뉴별 가격 추출 완료\n",
      "index 변수 설정 완료 i =  419\n"
     ]
    },
    {
     "name": "stderr",
     "output_type": "stream",
     "text": [
      " 24%|██▍       | 158/648 [14:45<44:18,  5.42s/it]"
     ]
    },
    {
     "name": "stdout",
     "output_type": "stream",
     "text": [
      "메뉴 데이터의 길이가 맞지 않아 추가하지 않습니다.\n",
      "가격 데이터의 길이가 맞지 않아 추가하지 않습니다.\n",
      "index 변수 설정 완료 i =  420\n"
     ]
    },
    {
     "name": "stderr",
     "output_type": "stream",
     "text": [
      " 25%|██▍       | 159/648 [14:51<44:12,  5.42s/it]"
     ]
    },
    {
     "name": "stdout",
     "output_type": "stream",
     "text": [
      "상위 3개 메뉴 추출 완료\n",
      "가격 데이터의 길이가 맞지 않아 추가하지 않습니다.\n",
      "index 변수 설정 완료 i =  421\n"
     ]
    },
    {
     "name": "stderr",
     "output_type": "stream",
     "text": [
      " 25%|██▍       | 160/648 [14:56<44:18,  5.45s/it]"
     ]
    },
    {
     "name": "stdout",
     "output_type": "stream",
     "text": [
      "상위 3개 메뉴 추출 완료\n",
      "메뉴별 가격 추출 완료\n",
      "index 변수 설정 완료 i =  422\n"
     ]
    },
    {
     "name": "stderr",
     "output_type": "stream",
     "text": [
      " 25%|██▍       | 161/648 [15:02<44:23,  5.47s/it]"
     ]
    },
    {
     "name": "stdout",
     "output_type": "stream",
     "text": [
      "상위 3개 메뉴 추출 완료\n",
      "가격 데이터의 길이가 맞지 않아 추가하지 않습니다.\n",
      "index 변수 설정 완료 i =  423\n"
     ]
    },
    {
     "name": "stderr",
     "output_type": "stream",
     "text": [
      " 25%|██▌       | 162/648 [15:07<44:18,  5.47s/it]"
     ]
    },
    {
     "name": "stdout",
     "output_type": "stream",
     "text": [
      "메뉴 데이터의 길이가 맞지 않아 추가하지 않습니다.\n",
      "가격 데이터의 길이가 맞지 않아 추가하지 않습니다.\n",
      "index 변수 설정 완료 i =  424\n"
     ]
    },
    {
     "name": "stderr",
     "output_type": "stream",
     "text": [
      " 25%|██▌       | 163/648 [15:13<44:52,  5.55s/it]"
     ]
    },
    {
     "name": "stdout",
     "output_type": "stream",
     "text": [
      "메뉴 데이터의 길이가 맞지 않아 추가하지 않습니다.\n",
      "가격 데이터의 길이가 맞지 않아 추가하지 않습니다.\n",
      "index 변수 설정 완료 i =  425\n"
     ]
    },
    {
     "name": "stderr",
     "output_type": "stream",
     "text": [
      " 25%|██▌       | 164/648 [15:18<44:27,  5.51s/it]"
     ]
    },
    {
     "name": "stdout",
     "output_type": "stream",
     "text": [
      "상위 3개 메뉴 추출 완료\n",
      "메뉴별 가격 추출 완료\n",
      "index 변수 설정 완료 i =  426\n"
     ]
    },
    {
     "name": "stderr",
     "output_type": "stream",
     "text": [
      " 25%|██▌       | 165/648 [15:24<44:06,  5.48s/it]"
     ]
    },
    {
     "name": "stdout",
     "output_type": "stream",
     "text": [
      "메뉴 데이터의 길이가 맞지 않아 추가하지 않습니다.\n",
      "가격 데이터의 길이가 맞지 않아 추가하지 않습니다.\n",
      "index 변수 설정 완료 i =  427\n"
     ]
    },
    {
     "name": "stderr",
     "output_type": "stream",
     "text": [
      " 26%|██▌       | 166/648 [15:29<44:16,  5.51s/it]"
     ]
    },
    {
     "name": "stdout",
     "output_type": "stream",
     "text": [
      "메뉴 데이터의 길이가 맞지 않아 추가하지 않습니다.\n",
      "가격 데이터의 길이가 맞지 않아 추가하지 않습니다.\n",
      "index 변수 설정 완료 i =  428\n"
     ]
    },
    {
     "name": "stderr",
     "output_type": "stream",
     "text": [
      " 26%|██▌       | 167/648 [15:35<43:34,  5.44s/it]"
     ]
    },
    {
     "name": "stdout",
     "output_type": "stream",
     "text": [
      "메뉴 데이터의 길이가 맞지 않아 추가하지 않습니다.\n",
      "가격 데이터의 길이가 맞지 않아 추가하지 않습니다.\n",
      "index 변수 설정 완료 i =  429\n"
     ]
    },
    {
     "name": "stderr",
     "output_type": "stream",
     "text": [
      " 26%|██▌       | 168/648 [15:40<43:14,  5.41s/it]"
     ]
    },
    {
     "name": "stdout",
     "output_type": "stream",
     "text": [
      "메뉴 데이터의 길이가 맞지 않아 추가하지 않습니다.\n",
      "가격 데이터의 길이가 맞지 않아 추가하지 않습니다.\n",
      "index 변수 설정 완료 i =  430\n"
     ]
    },
    {
     "name": "stderr",
     "output_type": "stream",
     "text": [
      " 26%|██▌       | 169/648 [15:45<42:49,  5.36s/it]"
     ]
    },
    {
     "name": "stdout",
     "output_type": "stream",
     "text": [
      "메뉴 데이터의 길이가 맞지 않아 추가하지 않습니다.\n",
      "가격 데이터의 길이가 맞지 않아 추가하지 않습니다.\n",
      "index 변수 설정 완료 i =  431\n"
     ]
    },
    {
     "name": "stderr",
     "output_type": "stream",
     "text": [
      " 26%|██▌       | 170/648 [15:50<42:39,  5.35s/it]"
     ]
    },
    {
     "name": "stdout",
     "output_type": "stream",
     "text": [
      "상위 3개 메뉴 추출 완료\n",
      "메뉴별 가격 추출 완료\n",
      "index 변수 설정 완료 i =  432\n"
     ]
    },
    {
     "name": "stderr",
     "output_type": "stream",
     "text": [
      " 26%|██▋       | 171/648 [15:56<42:49,  5.39s/it]"
     ]
    },
    {
     "name": "stdout",
     "output_type": "stream",
     "text": [
      "메뉴 데이터의 길이가 맞지 않아 추가하지 않습니다.\n",
      "가격 데이터의 길이가 맞지 않아 추가하지 않습니다.\n",
      "index 변수 설정 완료 i =  433\n"
     ]
    },
    {
     "name": "stderr",
     "output_type": "stream",
     "text": [
      " 27%|██▋       | 172/648 [16:01<42:58,  5.42s/it]"
     ]
    },
    {
     "name": "stdout",
     "output_type": "stream",
     "text": [
      "상위 3개 메뉴 추출 완료\n",
      "가격 데이터의 길이가 맞지 않아 추가하지 않습니다.\n",
      "index 변수 설정 완료 i =  434\n"
     ]
    },
    {
     "name": "stderr",
     "output_type": "stream",
     "text": [
      " 27%|██▋       | 173/648 [16:07<43:20,  5.47s/it]"
     ]
    },
    {
     "name": "stdout",
     "output_type": "stream",
     "text": [
      "상위 3개 메뉴 추출 완료\n",
      "메뉴별 가격 추출 완료\n",
      "index 변수 설정 완료 i =  435\n"
     ]
    },
    {
     "name": "stderr",
     "output_type": "stream",
     "text": [
      " 27%|██▋       | 174/648 [16:12<42:53,  5.43s/it]"
     ]
    },
    {
     "name": "stdout",
     "output_type": "stream",
     "text": [
      "상위 3개 메뉴 추출 완료\n",
      "메뉴별 가격 추출 완료\n",
      "index 변수 설정 완료 i =  436\n"
     ]
    },
    {
     "name": "stderr",
     "output_type": "stream",
     "text": [
      " 27%|██▋       | 175/648 [16:18<42:42,  5.42s/it]"
     ]
    },
    {
     "name": "stdout",
     "output_type": "stream",
     "text": [
      "메뉴 데이터의 길이가 맞지 않아 추가하지 않습니다.\n",
      "가격 데이터의 길이가 맞지 않아 추가하지 않습니다.\n",
      "index 변수 설정 완료 i =  437\n"
     ]
    },
    {
     "name": "stderr",
     "output_type": "stream",
     "text": [
      " 27%|██▋       | 176/648 [16:23<42:52,  5.45s/it]"
     ]
    },
    {
     "name": "stdout",
     "output_type": "stream",
     "text": [
      "메뉴 데이터의 길이가 맞지 않아 추가하지 않습니다.\n",
      "가격 데이터의 길이가 맞지 않아 추가하지 않습니다.\n",
      "index 변수 설정 완료 i =  438\n"
     ]
    },
    {
     "name": "stderr",
     "output_type": "stream",
     "text": [
      " 27%|██▋       | 177/648 [16:29<42:40,  5.44s/it]"
     ]
    },
    {
     "name": "stdout",
     "output_type": "stream",
     "text": [
      "상위 3개 메뉴 추출 완료\n",
      "메뉴별 가격 추출 완료\n",
      "index 변수 설정 완료 i =  439\n",
      "해당 요소를 찾을 수 없습니다: .tit_g\n"
     ]
    },
    {
     "name": "stderr",
     "output_type": "stream",
     "text": [
      " 27%|██▋       | 178/648 [16:39<53:11,  6.79s/it]"
     ]
    },
    {
     "name": "stdout",
     "output_type": "stream",
     "text": [
      "상위 3개 메뉴 추출 완료\n",
      "가격 데이터의 길이가 맞지 않아 추가하지 않습니다.\n",
      "index 변수 설정 완료 i =  440\n"
     ]
    },
    {
     "name": "stderr",
     "output_type": "stream",
     "text": [
      " 28%|██▊       | 179/648 [16:44<49:54,  6.38s/it]"
     ]
    },
    {
     "name": "stdout",
     "output_type": "stream",
     "text": [
      "상위 3개 메뉴 추출 완료\n",
      "메뉴별 가격 추출 완료\n",
      "index 변수 설정 완료 i =  441\n"
     ]
    },
    {
     "name": "stderr",
     "output_type": "stream",
     "text": [
      " 28%|██▊       | 180/648 [16:49<47:22,  6.07s/it]"
     ]
    },
    {
     "name": "stdout",
     "output_type": "stream",
     "text": [
      "상위 3개 메뉴 추출 완료\n",
      "메뉴별 가격 추출 완료\n",
      "index 변수 설정 완료 i =  442\n"
     ]
    },
    {
     "name": "stderr",
     "output_type": "stream",
     "text": [
      " 28%|██▊       | 181/648 [16:55<45:21,  5.83s/it]"
     ]
    },
    {
     "name": "stdout",
     "output_type": "stream",
     "text": [
      "상위 3개 메뉴 추출 완료\n",
      "가격 데이터의 길이가 맞지 않아 추가하지 않습니다.\n",
      "index 변수 설정 완료 i =  443\n"
     ]
    },
    {
     "name": "stderr",
     "output_type": "stream",
     "text": [
      " 28%|██▊       | 182/648 [17:00<44:09,  5.68s/it]"
     ]
    },
    {
     "name": "stdout",
     "output_type": "stream",
     "text": [
      "메뉴 데이터의 길이가 맞지 않아 추가하지 않습니다.\n",
      "가격 데이터의 길이가 맞지 않아 추가하지 않습니다.\n",
      "index 변수 설정 완료 i =  444\n"
     ]
    },
    {
     "name": "stderr",
     "output_type": "stream",
     "text": [
      " 28%|██▊       | 183/648 [17:05<43:21,  5.60s/it]"
     ]
    },
    {
     "name": "stdout",
     "output_type": "stream",
     "text": [
      "메뉴 데이터의 길이가 맞지 않아 추가하지 않습니다.\n",
      "가격 데이터의 길이가 맞지 않아 추가하지 않습니다.\n",
      "index 변수 설정 완료 i =  445\n"
     ]
    },
    {
     "name": "stderr",
     "output_type": "stream",
     "text": [
      " 28%|██▊       | 184/648 [17:11<43:08,  5.58s/it]"
     ]
    },
    {
     "name": "stdout",
     "output_type": "stream",
     "text": [
      "상위 3개 메뉴 추출 완료\n",
      "가격 데이터의 길이가 맞지 않아 추가하지 않습니다.\n",
      "index 변수 설정 완료 i =  446\n"
     ]
    },
    {
     "name": "stderr",
     "output_type": "stream",
     "text": [
      " 29%|██▊       | 185/648 [17:17<43:18,  5.61s/it]"
     ]
    },
    {
     "name": "stdout",
     "output_type": "stream",
     "text": [
      "메뉴 데이터의 길이가 맞지 않아 추가하지 않습니다.\n",
      "가격 데이터의 길이가 맞지 않아 추가하지 않습니다.\n",
      "index 변수 설정 완료 i =  447\n"
     ]
    },
    {
     "name": "stderr",
     "output_type": "stream",
     "text": [
      " 29%|██▊       | 186/648 [17:22<42:52,  5.57s/it]"
     ]
    },
    {
     "name": "stdout",
     "output_type": "stream",
     "text": [
      "상위 3개 메뉴 추출 완료\n",
      "메뉴별 가격 추출 완료\n",
      "index 변수 설정 완료 i =  448\n"
     ]
    },
    {
     "name": "stderr",
     "output_type": "stream",
     "text": [
      " 29%|██▉       | 187/648 [17:28<43:28,  5.66s/it]"
     ]
    },
    {
     "name": "stdout",
     "output_type": "stream",
     "text": [
      "상위 3개 메뉴 추출 완료\n",
      "메뉴별 가격 추출 완료\n",
      "index 변수 설정 완료 i =  449\n",
      "해당 요소를 찾을 수 없습니다: .tit_g\n"
     ]
    },
    {
     "name": "stderr",
     "output_type": "stream",
     "text": [
      " 29%|██▉       | 188/648 [17:37<52:08,  6.80s/it]"
     ]
    },
    {
     "name": "stdout",
     "output_type": "stream",
     "text": [
      "상위 3개 메뉴 추출 완료\n",
      "메뉴별 가격 추출 완료\n",
      "index 변수 설정 완료 i =  450\n"
     ]
    },
    {
     "name": "stderr",
     "output_type": "stream",
     "text": [
      " 29%|██▉       | 189/648 [17:43<48:28,  6.34s/it]"
     ]
    },
    {
     "name": "stdout",
     "output_type": "stream",
     "text": [
      "상위 3개 메뉴 추출 완료\n",
      "메뉴별 가격 추출 완료\n",
      "index 변수 설정 완료 i =  451\n"
     ]
    },
    {
     "name": "stderr",
     "output_type": "stream",
     "text": [
      " 29%|██▉       | 190/648 [17:48<46:13,  6.05s/it]"
     ]
    },
    {
     "name": "stdout",
     "output_type": "stream",
     "text": [
      "메뉴 데이터의 길이가 맞지 않아 추가하지 않습니다.\n",
      "가격 데이터의 길이가 맞지 않아 추가하지 않습니다.\n",
      "index 변수 설정 완료 i =  452\n"
     ]
    },
    {
     "name": "stderr",
     "output_type": "stream",
     "text": [
      " 29%|██▉       | 191/648 [17:53<44:22,  5.83s/it]"
     ]
    },
    {
     "name": "stdout",
     "output_type": "stream",
     "text": [
      "상위 3개 메뉴 추출 완료\n",
      "메뉴별 가격 추출 완료\n",
      "index 변수 설정 완료 i =  453\n"
     ]
    },
    {
     "name": "stderr",
     "output_type": "stream",
     "text": [
      " 30%|██▉       | 192/648 [17:59<43:05,  5.67s/it]"
     ]
    },
    {
     "name": "stdout",
     "output_type": "stream",
     "text": [
      "메뉴 데이터의 길이가 맞지 않아 추가하지 않습니다.\n",
      "가격 데이터의 길이가 맞지 않아 추가하지 않습니다.\n",
      "index 변수 설정 완료 i =  454\n"
     ]
    },
    {
     "name": "stderr",
     "output_type": "stream",
     "text": [
      " 30%|██▉       | 193/648 [18:04<42:30,  5.61s/it]"
     ]
    },
    {
     "name": "stdout",
     "output_type": "stream",
     "text": [
      "상위 3개 메뉴 추출 완료\n",
      "메뉴별 가격 추출 완료\n",
      "index 변수 설정 완료 i =  455\n",
      "해당 요소를 찾을 수 없습니다: .tit_g\n"
     ]
    },
    {
     "name": "stderr",
     "output_type": "stream",
     "text": [
      " 30%|██▉       | 194/648 [18:12<47:01,  6.22s/it]"
     ]
    },
    {
     "name": "stdout",
     "output_type": "stream",
     "text": [
      "index 변수 설정 완료 i =  456\n"
     ]
    },
    {
     "name": "stderr",
     "output_type": "stream",
     "text": [
      " 30%|███       | 195/648 [18:17<44:57,  5.96s/it]"
     ]
    },
    {
     "name": "stdout",
     "output_type": "stream",
     "text": [
      "메뉴 데이터의 길이가 맞지 않아 추가하지 않습니다.\n",
      "가격 데이터의 길이가 맞지 않아 추가하지 않습니다.\n",
      "index 변수 설정 완료 i =  457\n"
     ]
    },
    {
     "name": "stderr",
     "output_type": "stream",
     "text": [
      " 30%|███       | 196/648 [18:23<43:40,  5.80s/it]"
     ]
    },
    {
     "name": "stdout",
     "output_type": "stream",
     "text": [
      "상위 3개 메뉴 추출 완료\n",
      "가격 데이터의 길이가 맞지 않아 추가하지 않습니다.\n",
      "index 변수 설정 완료 i =  458\n"
     ]
    },
    {
     "name": "stderr",
     "output_type": "stream",
     "text": [
      " 30%|███       | 197/648 [18:29<45:03,  5.99s/it]"
     ]
    },
    {
     "name": "stdout",
     "output_type": "stream",
     "text": [
      "상위 3개 메뉴 추출 완료\n",
      "가격 데이터의 길이가 맞지 않아 추가하지 않습니다.\n",
      "index 변수 설정 완료 i =  459\n"
     ]
    },
    {
     "name": "stderr",
     "output_type": "stream",
     "text": [
      " 31%|███       | 198/648 [18:34<43:35,  5.81s/it]"
     ]
    },
    {
     "name": "stdout",
     "output_type": "stream",
     "text": [
      "상위 3개 메뉴 추출 완료\n",
      "메뉴별 가격 추출 완료\n",
      "index 변수 설정 완료 i =  460\n"
     ]
    },
    {
     "name": "stderr",
     "output_type": "stream",
     "text": [
      " 31%|███       | 199/648 [18:40<43:16,  5.78s/it]"
     ]
    },
    {
     "name": "stdout",
     "output_type": "stream",
     "text": [
      "상위 3개 메뉴 추출 완료\n",
      "메뉴별 가격 추출 완료\n",
      "index 변수 설정 완료 i =  461\n"
     ]
    },
    {
     "name": "stderr",
     "output_type": "stream",
     "text": [
      " 31%|███       | 200/648 [18:46<42:49,  5.74s/it]"
     ]
    },
    {
     "name": "stdout",
     "output_type": "stream",
     "text": [
      "상위 3개 메뉴 추출 완료\n",
      "메뉴별 가격 추출 완료\n",
      "index 변수 설정 완료 i =  462\n"
     ]
    },
    {
     "name": "stderr",
     "output_type": "stream",
     "text": [
      " 31%|███       | 201/648 [18:51<42:02,  5.64s/it]"
     ]
    },
    {
     "name": "stdout",
     "output_type": "stream",
     "text": [
      "상위 3개 메뉴 추출 완료\n",
      "메뉴별 가격 추출 완료\n",
      "index 변수 설정 완료 i =  463\n"
     ]
    },
    {
     "name": "stderr",
     "output_type": "stream",
     "text": [
      " 31%|███       | 202/648 [18:56<40:59,  5.52s/it]"
     ]
    },
    {
     "name": "stdout",
     "output_type": "stream",
     "text": [
      "상위 3개 메뉴 추출 완료\n",
      "메뉴별 가격 추출 완료\n",
      "index 변수 설정 완료 i =  464\n"
     ]
    },
    {
     "name": "stderr",
     "output_type": "stream",
     "text": [
      " 31%|███▏      | 203/648 [19:02<40:41,  5.49s/it]"
     ]
    },
    {
     "name": "stdout",
     "output_type": "stream",
     "text": [
      "상위 3개 메뉴 추출 완료\n",
      "가격 데이터의 길이가 맞지 않아 추가하지 않습니다.\n",
      "index 변수 설정 완료 i =  465\n"
     ]
    },
    {
     "name": "stderr",
     "output_type": "stream",
     "text": [
      " 31%|███▏      | 204/648 [19:07<40:27,  5.47s/it]"
     ]
    },
    {
     "name": "stdout",
     "output_type": "stream",
     "text": [
      "상위 3개 메뉴 추출 완료\n",
      "메뉴별 가격 추출 완료\n",
      "index 변수 설정 완료 i =  466\n"
     ]
    },
    {
     "name": "stderr",
     "output_type": "stream",
     "text": [
      " 32%|███▏      | 205/648 [19:13<40:07,  5.43s/it]"
     ]
    },
    {
     "name": "stdout",
     "output_type": "stream",
     "text": [
      "메뉴 데이터의 길이가 맞지 않아 추가하지 않습니다.\n",
      "가격 데이터의 길이가 맞지 않아 추가하지 않습니다.\n",
      "index 변수 설정 완료 i =  467\n"
     ]
    },
    {
     "name": "stderr",
     "output_type": "stream",
     "text": [
      " 32%|███▏      | 206/648 [19:18<40:08,  5.45s/it]"
     ]
    },
    {
     "name": "stdout",
     "output_type": "stream",
     "text": [
      "상위 3개 메뉴 추출 완료\n",
      "메뉴별 가격 추출 완료\n",
      "index 변수 설정 완료 i =  468\n"
     ]
    },
    {
     "name": "stderr",
     "output_type": "stream",
     "text": [
      " 32%|███▏      | 207/648 [19:23<39:57,  5.44s/it]"
     ]
    },
    {
     "name": "stdout",
     "output_type": "stream",
     "text": [
      "상위 3개 메뉴 추출 완료\n",
      "메뉴별 가격 추출 완료\n",
      "index 변수 설정 완료 i =  469\n"
     ]
    },
    {
     "name": "stderr",
     "output_type": "stream",
     "text": [
      " 32%|███▏      | 208/648 [19:29<39:59,  5.45s/it]"
     ]
    },
    {
     "name": "stdout",
     "output_type": "stream",
     "text": [
      "메뉴 데이터의 길이가 맞지 않아 추가하지 않습니다.\n",
      "가격 데이터의 길이가 맞지 않아 추가하지 않습니다.\n",
      "index 변수 설정 완료 i =  470\n"
     ]
    },
    {
     "name": "stderr",
     "output_type": "stream",
     "text": [
      " 32%|███▏      | 209/648 [19:35<40:03,  5.47s/it]"
     ]
    },
    {
     "name": "stdout",
     "output_type": "stream",
     "text": [
      "상위 3개 메뉴 추출 완료\n",
      "메뉴별 가격 추출 완료\n",
      "index 변수 설정 완료 i =  471\n"
     ]
    },
    {
     "name": "stderr",
     "output_type": "stream",
     "text": [
      " 32%|███▏      | 210/648 [19:40<39:20,  5.39s/it]"
     ]
    },
    {
     "name": "stdout",
     "output_type": "stream",
     "text": [
      "메뉴 데이터의 길이가 맞지 않아 추가하지 않습니다.\n",
      "가격 데이터의 길이가 맞지 않아 추가하지 않습니다.\n",
      "index 변수 설정 완료 i =  472\n"
     ]
    },
    {
     "name": "stderr",
     "output_type": "stream",
     "text": [
      " 33%|███▎      | 211/648 [19:45<39:06,  5.37s/it]"
     ]
    },
    {
     "name": "stdout",
     "output_type": "stream",
     "text": [
      "메뉴 데이터의 길이가 맞지 않아 추가하지 않습니다.\n",
      "가격 데이터의 길이가 맞지 않아 추가하지 않습니다.\n",
      "index 변수 설정 완료 i =  473\n"
     ]
    },
    {
     "name": "stderr",
     "output_type": "stream",
     "text": [
      " 33%|███▎      | 212/648 [19:50<39:05,  5.38s/it]"
     ]
    },
    {
     "name": "stdout",
     "output_type": "stream",
     "text": [
      "메뉴 데이터의 길이가 맞지 않아 추가하지 않습니다.\n",
      "가격 데이터의 길이가 맞지 않아 추가하지 않습니다.\n",
      "index 변수 설정 완료 i =  474\n"
     ]
    },
    {
     "name": "stderr",
     "output_type": "stream",
     "text": [
      " 33%|███▎      | 213/648 [19:56<39:39,  5.47s/it]"
     ]
    },
    {
     "name": "stdout",
     "output_type": "stream",
     "text": [
      "상위 3개 메뉴 추출 완료\n",
      "메뉴별 가격 추출 완료\n",
      "index 변수 설정 완료 i =  475\n"
     ]
    },
    {
     "name": "stderr",
     "output_type": "stream",
     "text": [
      " 33%|███▎      | 214/648 [20:02<39:43,  5.49s/it]"
     ]
    },
    {
     "name": "stdout",
     "output_type": "stream",
     "text": [
      "상위 3개 메뉴 추출 완료\n",
      "가격 데이터의 길이가 맞지 않아 추가하지 않습니다.\n",
      "index 변수 설정 완료 i =  476\n"
     ]
    },
    {
     "name": "stderr",
     "output_type": "stream",
     "text": [
      " 33%|███▎      | 215/648 [20:07<39:29,  5.47s/it]"
     ]
    },
    {
     "name": "stdout",
     "output_type": "stream",
     "text": [
      "상위 3개 메뉴 추출 완료\n",
      "메뉴별 가격 추출 완료\n",
      "index 변수 설정 완료 i =  477\n"
     ]
    },
    {
     "name": "stderr",
     "output_type": "stream",
     "text": [
      " 33%|███▎      | 216/648 [20:13<39:22,  5.47s/it]"
     ]
    },
    {
     "name": "stdout",
     "output_type": "stream",
     "text": [
      "상위 3개 메뉴 추출 완료\n",
      "가격 데이터의 길이가 맞지 않아 추가하지 않습니다.\n",
      "index 변수 설정 완료 i =  478\n",
      "해당 요소를 찾을 수 없습니다: .tit_g\n"
     ]
    },
    {
     "name": "stderr",
     "output_type": "stream",
     "text": [
      " 33%|███▎      | 217/648 [20:22<48:14,  6.71s/it]"
     ]
    },
    {
     "name": "stdout",
     "output_type": "stream",
     "text": [
      "상위 3개 메뉴 추출 완료\n",
      "메뉴별 가격 추출 완료\n",
      "index 변수 설정 완료 i =  479\n"
     ]
    },
    {
     "name": "stderr",
     "output_type": "stream",
     "text": [
      " 34%|███▎      | 218/648 [20:28<45:24,  6.34s/it]"
     ]
    },
    {
     "name": "stdout",
     "output_type": "stream",
     "text": [
      "메뉴 데이터의 길이가 맞지 않아 추가하지 않습니다.\n",
      "가격 데이터의 길이가 맞지 않아 추가하지 않습니다.\n",
      "index 변수 설정 완료 i =  480\n"
     ]
    },
    {
     "name": "stderr",
     "output_type": "stream",
     "text": [
      " 34%|███▍      | 219/648 [20:33<43:42,  6.11s/it]"
     ]
    },
    {
     "name": "stdout",
     "output_type": "stream",
     "text": [
      "상위 3개 메뉴 추출 완료\n",
      "메뉴별 가격 추출 완료\n",
      "index 변수 설정 완료 i =  481\n"
     ]
    },
    {
     "name": "stderr",
     "output_type": "stream",
     "text": [
      " 34%|███▍      | 220/648 [20:39<42:17,  5.93s/it]"
     ]
    },
    {
     "name": "stdout",
     "output_type": "stream",
     "text": [
      "상위 3개 메뉴 추출 완료\n",
      "가격 데이터의 길이가 맞지 않아 추가하지 않습니다.\n",
      "index 변수 설정 완료 i =  482\n",
      "해당 요소를 찾을 수 없습니다: .tit_g\n"
     ]
    },
    {
     "name": "stderr",
     "output_type": "stream",
     "text": [
      " 34%|███▍      | 221/648 [20:48<49:49,  7.00s/it]"
     ]
    },
    {
     "name": "stdout",
     "output_type": "stream",
     "text": [
      "상위 3개 메뉴 추출 완료\n",
      "가격 데이터의 길이가 맞지 않아 추가하지 않습니다.\n",
      "index 변수 설정 완료 i =  483\n"
     ]
    },
    {
     "name": "stderr",
     "output_type": "stream",
     "text": [
      " 34%|███▍      | 222/648 [20:54<46:11,  6.50s/it]"
     ]
    },
    {
     "name": "stdout",
     "output_type": "stream",
     "text": [
      "상위 3개 메뉴 추출 완료\n",
      "메뉴별 가격 추출 완료\n",
      "index 변수 설정 완료 i =  484\n"
     ]
    },
    {
     "name": "stderr",
     "output_type": "stream",
     "text": [
      " 34%|███▍      | 223/648 [20:59<44:17,  6.25s/it]"
     ]
    },
    {
     "name": "stdout",
     "output_type": "stream",
     "text": [
      "상위 3개 메뉴 추출 완료\n",
      "가격 데이터의 길이가 맞지 않아 추가하지 않습니다.\n",
      "index 변수 설정 완료 i =  485\n"
     ]
    },
    {
     "name": "stderr",
     "output_type": "stream",
     "text": [
      " 35%|███▍      | 224/648 [21:06<44:47,  6.34s/it]"
     ]
    },
    {
     "name": "stdout",
     "output_type": "stream",
     "text": [
      "메뉴 데이터의 길이가 맞지 않아 추가하지 않습니다.\n",
      "가격 데이터의 길이가 맞지 않아 추가하지 않습니다.\n",
      "index 변수 설정 완료 i =  486\n"
     ]
    },
    {
     "name": "stderr",
     "output_type": "stream",
     "text": [
      " 35%|███▍      | 225/648 [21:12<43:29,  6.17s/it]"
     ]
    },
    {
     "name": "stdout",
     "output_type": "stream",
     "text": [
      "상위 3개 메뉴 추출 완료\n",
      "가격 데이터의 길이가 맞지 않아 추가하지 않습니다.\n",
      "index 변수 설정 완료 i =  487\n"
     ]
    },
    {
     "name": "stderr",
     "output_type": "stream",
     "text": [
      " 35%|███▍      | 226/648 [21:17<42:11,  6.00s/it]"
     ]
    },
    {
     "name": "stdout",
     "output_type": "stream",
     "text": [
      "메뉴 데이터의 길이가 맞지 않아 추가하지 않습니다.\n",
      "가격 데이터의 길이가 맞지 않아 추가하지 않습니다.\n",
      "index 변수 설정 완료 i =  488\n"
     ]
    },
    {
     "name": "stderr",
     "output_type": "stream",
     "text": [
      " 35%|███▌      | 227/648 [21:23<41:01,  5.85s/it]"
     ]
    },
    {
     "name": "stdout",
     "output_type": "stream",
     "text": [
      "상위 3개 메뉴 추출 완료\n",
      "메뉴별 가격 추출 완료\n",
      "index 변수 설정 완료 i =  489\n"
     ]
    },
    {
     "name": "stderr",
     "output_type": "stream",
     "text": [
      " 35%|███▌      | 228/648 [21:28<40:05,  5.73s/it]"
     ]
    },
    {
     "name": "stdout",
     "output_type": "stream",
     "text": [
      "메뉴 데이터의 길이가 맞지 않아 추가하지 않습니다.\n",
      "가격 데이터의 길이가 맞지 않아 추가하지 않습니다.\n",
      "index 변수 설정 완료 i =  490\n",
      "해당 요소를 찾을 수 없습니다: .tit_g\n"
     ]
    },
    {
     "name": "stderr",
     "output_type": "stream",
     "text": [
      " 35%|███▌      | 229/648 [21:36<44:23,  6.36s/it]"
     ]
    },
    {
     "name": "stdout",
     "output_type": "stream",
     "text": [
      "index 변수 설정 완료 i =  491\n"
     ]
    },
    {
     "name": "stderr",
     "output_type": "stream",
     "text": [
      " 35%|███▌      | 230/648 [21:41<42:00,  6.03s/it]"
     ]
    },
    {
     "name": "stdout",
     "output_type": "stream",
     "text": [
      "메뉴 데이터의 길이가 맞지 않아 추가하지 않습니다.\n",
      "가격 데이터의 길이가 맞지 않아 추가하지 않습니다.\n",
      "index 변수 설정 완료 i =  492\n"
     ]
    },
    {
     "name": "stderr",
     "output_type": "stream",
     "text": [
      " 36%|███▌      | 231/648 [21:46<40:16,  5.80s/it]"
     ]
    },
    {
     "name": "stdout",
     "output_type": "stream",
     "text": [
      "메뉴 데이터의 길이가 맞지 않아 추가하지 않습니다.\n",
      "가격 데이터의 길이가 맞지 않아 추가하지 않습니다.\n",
      "index 변수 설정 완료 i =  493\n"
     ]
    },
    {
     "name": "stderr",
     "output_type": "stream",
     "text": [
      " 36%|███▌      | 232/648 [21:52<39:19,  5.67s/it]"
     ]
    },
    {
     "name": "stdout",
     "output_type": "stream",
     "text": [
      "상위 3개 메뉴 추출 완료\n",
      "가격 데이터의 길이가 맞지 않아 추가하지 않습니다.\n",
      "index 변수 설정 완료 i =  494\n"
     ]
    },
    {
     "name": "stderr",
     "output_type": "stream",
     "text": [
      " 36%|███▌      | 233/648 [21:57<38:15,  5.53s/it]"
     ]
    },
    {
     "name": "stdout",
     "output_type": "stream",
     "text": [
      "상위 3개 메뉴 추출 완료\n",
      "메뉴별 가격 추출 완료\n",
      "index 변수 설정 완료 i =  495\n"
     ]
    },
    {
     "name": "stderr",
     "output_type": "stream",
     "text": [
      " 36%|███▌      | 234/648 [22:02<37:28,  5.43s/it]"
     ]
    },
    {
     "name": "stdout",
     "output_type": "stream",
     "text": [
      "상위 3개 메뉴 추출 완료\n",
      "가격 데이터의 길이가 맞지 않아 추가하지 않습니다.\n",
      "index 변수 설정 완료 i =  496\n"
     ]
    },
    {
     "name": "stderr",
     "output_type": "stream",
     "text": [
      " 36%|███▋      | 235/648 [22:07<37:03,  5.38s/it]"
     ]
    },
    {
     "name": "stdout",
     "output_type": "stream",
     "text": [
      "상위 3개 메뉴 추출 완료\n",
      "메뉴별 가격 추출 완료\n",
      "index 변수 설정 완료 i =  497\n"
     ]
    },
    {
     "name": "stderr",
     "output_type": "stream",
     "text": [
      " 36%|███▋      | 236/648 [22:13<36:44,  5.35s/it]"
     ]
    },
    {
     "name": "stdout",
     "output_type": "stream",
     "text": [
      "메뉴 데이터의 길이가 맞지 않아 추가하지 않습니다.\n",
      "가격 데이터의 길이가 맞지 않아 추가하지 않습니다.\n",
      "index 변수 설정 완료 i =  498\n"
     ]
    },
    {
     "name": "stderr",
     "output_type": "stream",
     "text": [
      " 37%|███▋      | 237/648 [22:18<36:49,  5.38s/it]"
     ]
    },
    {
     "name": "stdout",
     "output_type": "stream",
     "text": [
      "상위 3개 메뉴 추출 완료\n",
      "메뉴별 가격 추출 완료\n",
      "index 변수 설정 완료 i =  499\n"
     ]
    },
    {
     "name": "stderr",
     "output_type": "stream",
     "text": [
      " 37%|███▋      | 238/648 [22:23<36:31,  5.34s/it]"
     ]
    },
    {
     "name": "stdout",
     "output_type": "stream",
     "text": [
      "상위 3개 메뉴 추출 완료\n",
      "가격 데이터의 길이가 맞지 않아 추가하지 않습니다.\n",
      "index 변수 설정 완료 i =  500\n"
     ]
    },
    {
     "name": "stderr",
     "output_type": "stream",
     "text": [
      " 37%|███▋      | 239/648 [22:29<36:06,  5.30s/it]"
     ]
    },
    {
     "name": "stdout",
     "output_type": "stream",
     "text": [
      "상위 3개 메뉴 추출 완료\n",
      "메뉴별 가격 추출 완료\n",
      "index 변수 설정 완료 i =  501\n"
     ]
    },
    {
     "name": "stderr",
     "output_type": "stream",
     "text": [
      " 37%|███▋      | 240/648 [22:34<36:27,  5.36s/it]"
     ]
    },
    {
     "name": "stdout",
     "output_type": "stream",
     "text": [
      "상위 3개 메뉴 추출 완료\n",
      "메뉴별 가격 추출 완료\n",
      "index 변수 설정 완료 i =  502\n"
     ]
    },
    {
     "name": "stderr",
     "output_type": "stream",
     "text": [
      " 37%|███▋      | 241/648 [22:40<36:37,  5.40s/it]"
     ]
    },
    {
     "name": "stdout",
     "output_type": "stream",
     "text": [
      "메뉴 데이터의 길이가 맞지 않아 추가하지 않습니다.\n",
      "가격 데이터의 길이가 맞지 않아 추가하지 않습니다.\n",
      "index 변수 설정 완료 i =  503\n"
     ]
    },
    {
     "name": "stderr",
     "output_type": "stream",
     "text": [
      " 37%|███▋      | 242/648 [22:45<36:37,  5.41s/it]"
     ]
    },
    {
     "name": "stdout",
     "output_type": "stream",
     "text": [
      "메뉴 데이터의 길이가 맞지 않아 추가하지 않습니다.\n",
      "가격 데이터의 길이가 맞지 않아 추가하지 않습니다.\n",
      "index 변수 설정 완료 i =  504\n"
     ]
    },
    {
     "name": "stderr",
     "output_type": "stream",
     "text": [
      " 38%|███▊      | 243/648 [22:50<36:31,  5.41s/it]"
     ]
    },
    {
     "name": "stdout",
     "output_type": "stream",
     "text": [
      "메뉴 데이터의 길이가 맞지 않아 추가하지 않습니다.\n",
      "가격 데이터의 길이가 맞지 않아 추가하지 않습니다.\n",
      "index 변수 설정 완료 i =  505\n"
     ]
    },
    {
     "name": "stderr",
     "output_type": "stream",
     "text": [
      " 38%|███▊      | 244/648 [22:56<36:59,  5.49s/it]"
     ]
    },
    {
     "name": "stdout",
     "output_type": "stream",
     "text": [
      "상위 3개 메뉴 추출 완료\n",
      "메뉴별 가격 추출 완료\n",
      "index 변수 설정 완료 i =  506\n"
     ]
    },
    {
     "name": "stderr",
     "output_type": "stream",
     "text": [
      " 38%|███▊      | 245/648 [23:01<36:31,  5.44s/it]"
     ]
    },
    {
     "name": "stdout",
     "output_type": "stream",
     "text": [
      "상위 3개 메뉴 추출 완료\n",
      "메뉴별 가격 추출 완료\n",
      "index 변수 설정 완료 i =  507\n"
     ]
    },
    {
     "name": "stderr",
     "output_type": "stream",
     "text": [
      " 38%|███▊      | 246/648 [23:07<36:06,  5.39s/it]"
     ]
    },
    {
     "name": "stdout",
     "output_type": "stream",
     "text": [
      "상위 3개 메뉴 추출 완료\n",
      "가격 데이터의 길이가 맞지 않아 추가하지 않습니다.\n",
      "index 변수 설정 완료 i =  508\n"
     ]
    },
    {
     "name": "stderr",
     "output_type": "stream",
     "text": [
      " 38%|███▊      | 247/648 [23:12<35:46,  5.35s/it]"
     ]
    },
    {
     "name": "stdout",
     "output_type": "stream",
     "text": [
      "상위 3개 메뉴 추출 완료\n",
      "가격 데이터의 길이가 맞지 않아 추가하지 않습니다.\n",
      "index 변수 설정 완료 i =  509\n"
     ]
    },
    {
     "name": "stderr",
     "output_type": "stream",
     "text": [
      " 38%|███▊      | 248/648 [23:17<35:20,  5.30s/it]"
     ]
    },
    {
     "name": "stdout",
     "output_type": "stream",
     "text": [
      "메뉴 데이터의 길이가 맞지 않아 추가하지 않습니다.\n",
      "가격 데이터의 길이가 맞지 않아 추가하지 않습니다.\n",
      "index 변수 설정 완료 i =  510\n"
     ]
    },
    {
     "name": "stderr",
     "output_type": "stream",
     "text": [
      " 38%|███▊      | 249/648 [23:23<35:25,  5.33s/it]"
     ]
    },
    {
     "name": "stdout",
     "output_type": "stream",
     "text": [
      "상위 3개 메뉴 추출 완료\n",
      "메뉴별 가격 추출 완료\n",
      "index 변수 설정 완료 i =  511\n"
     ]
    },
    {
     "name": "stderr",
     "output_type": "stream",
     "text": [
      " 39%|███▊      | 250/648 [23:28<35:15,  5.32s/it]"
     ]
    },
    {
     "name": "stdout",
     "output_type": "stream",
     "text": [
      "상위 3개 메뉴 추출 완료\n",
      "가격 데이터의 길이가 맞지 않아 추가하지 않습니다.\n",
      "index 변수 설정 완료 i =  512\n"
     ]
    },
    {
     "name": "stderr",
     "output_type": "stream",
     "text": [
      " 39%|███▊      | 251/648 [23:33<35:00,  5.29s/it]"
     ]
    },
    {
     "name": "stdout",
     "output_type": "stream",
     "text": [
      "메뉴 데이터의 길이가 맞지 않아 추가하지 않습니다.\n",
      "가격 데이터의 길이가 맞지 않아 추가하지 않습니다.\n",
      "index 변수 설정 완료 i =  513\n",
      "해당 요소를 찾을 수 없습니다: .tit_g\n"
     ]
    },
    {
     "name": "stderr",
     "output_type": "stream",
     "text": [
      " 39%|███▉      | 252/648 [23:41<39:52,  6.04s/it]"
     ]
    },
    {
     "name": "stdout",
     "output_type": "stream",
     "text": [
      "index 변수 설정 완료 i =  514\n"
     ]
    },
    {
     "name": "stderr",
     "output_type": "stream",
     "text": [
      " 39%|███▉      | 253/648 [23:47<39:13,  5.96s/it]"
     ]
    },
    {
     "name": "stdout",
     "output_type": "stream",
     "text": [
      "상위 3개 메뉴 추출 완료\n",
      "메뉴별 가격 추출 완료\n",
      "index 변수 설정 완료 i =  515\n"
     ]
    },
    {
     "name": "stderr",
     "output_type": "stream",
     "text": [
      " 39%|███▉      | 254/648 [23:53<39:09,  5.96s/it]"
     ]
    },
    {
     "name": "stdout",
     "output_type": "stream",
     "text": [
      "상위 3개 메뉴 추출 완료\n",
      "가격 데이터의 길이가 맞지 않아 추가하지 않습니다.\n",
      "index 변수 설정 완료 i =  516\n",
      "해당 요소를 찾을 수 없습니다: .tit_g\n"
     ]
    },
    {
     "name": "stderr",
     "output_type": "stream",
     "text": [
      " 39%|███▉      | 255/648 [24:03<47:51,  7.31s/it]"
     ]
    },
    {
     "name": "stdout",
     "output_type": "stream",
     "text": [
      "메뉴 데이터의 길이가 맞지 않아 추가하지 않습니다.\n",
      "가격 데이터의 길이가 맞지 않아 추가하지 않습니다.\n",
      "index 변수 설정 완료 i =  517\n",
      "해당 요소를 찾을 수 없습니다: .tit_g\n"
     ]
    },
    {
     "name": "stderr",
     "output_type": "stream",
     "text": [
      " 40%|███▉      | 256/648 [24:15<56:12,  8.60s/it]"
     ]
    },
    {
     "name": "stdout",
     "output_type": "stream",
     "text": [
      "상위 3개 메뉴 추출 완료\n",
      "메뉴별 가격 추출 완료\n",
      "index 변수 설정 완료 i =  518\n"
     ]
    },
    {
     "name": "stderr",
     "output_type": "stream",
     "text": [
      " 40%|███▉      | 257/648 [24:21<50:51,  7.80s/it]"
     ]
    },
    {
     "name": "stdout",
     "output_type": "stream",
     "text": [
      "상위 3개 메뉴 추출 완료\n",
      "가격 데이터의 길이가 맞지 않아 추가하지 않습니다.\n",
      "index 변수 설정 완료 i =  519\n"
     ]
    },
    {
     "name": "stderr",
     "output_type": "stream",
     "text": [
      " 40%|███▉      | 258/648 [24:26<46:08,  7.10s/it]"
     ]
    },
    {
     "name": "stdout",
     "output_type": "stream",
     "text": [
      "메뉴 데이터의 길이가 맞지 않아 추가하지 않습니다.\n",
      "가격 데이터의 길이가 맞지 않아 추가하지 않습니다.\n",
      "index 변수 설정 완료 i =  520\n"
     ]
    },
    {
     "name": "stderr",
     "output_type": "stream",
     "text": [
      " 40%|███▉      | 259/648 [24:32<42:52,  6.61s/it]"
     ]
    },
    {
     "name": "stdout",
     "output_type": "stream",
     "text": [
      "메뉴 데이터의 길이가 맞지 않아 추가하지 않습니다.\n",
      "가격 데이터의 길이가 맞지 않아 추가하지 않습니다.\n",
      "index 변수 설정 완료 i =  521\n"
     ]
    },
    {
     "name": "stderr",
     "output_type": "stream",
     "text": [
      " 40%|████      | 260/648 [24:37<39:58,  6.18s/it]"
     ]
    },
    {
     "name": "stdout",
     "output_type": "stream",
     "text": [
      "메뉴 데이터의 길이가 맞지 않아 추가하지 않습니다.\n",
      "가격 데이터의 길이가 맞지 않아 추가하지 않습니다.\n",
      "index 변수 설정 완료 i =  522\n"
     ]
    },
    {
     "name": "stderr",
     "output_type": "stream",
     "text": [
      " 40%|████      | 261/648 [24:42<38:10,  5.92s/it]"
     ]
    },
    {
     "name": "stdout",
     "output_type": "stream",
     "text": [
      "상위 3개 메뉴 추출 완료\n",
      "가격 데이터의 길이가 맞지 않아 추가하지 않습니다.\n",
      "index 변수 설정 완료 i =  523\n"
     ]
    },
    {
     "name": "stderr",
     "output_type": "stream",
     "text": [
      " 40%|████      | 262/648 [24:48<37:36,  5.85s/it]"
     ]
    },
    {
     "name": "stdout",
     "output_type": "stream",
     "text": [
      "상위 3개 메뉴 추출 완료\n",
      "메뉴별 가격 추출 완료\n",
      "index 변수 설정 완료 i =  524\n"
     ]
    },
    {
     "name": "stderr",
     "output_type": "stream",
     "text": [
      " 41%|████      | 263/648 [24:53<36:34,  5.70s/it]"
     ]
    },
    {
     "name": "stdout",
     "output_type": "stream",
     "text": [
      "상위 3개 메뉴 추출 완료\n",
      "메뉴별 가격 추출 완료\n",
      "index 변수 설정 완료 i =  525\n"
     ]
    },
    {
     "name": "stderr",
     "output_type": "stream",
     "text": [
      " 41%|████      | 264/648 [24:59<35:56,  5.62s/it]"
     ]
    },
    {
     "name": "stdout",
     "output_type": "stream",
     "text": [
      "메뉴 데이터의 길이가 맞지 않아 추가하지 않습니다.\n",
      "가격 데이터의 길이가 맞지 않아 추가하지 않습니다.\n",
      "index 변수 설정 완료 i =  526\n"
     ]
    },
    {
     "name": "stderr",
     "output_type": "stream",
     "text": [
      " 41%|████      | 265/648 [25:04<35:35,  5.58s/it]"
     ]
    },
    {
     "name": "stdout",
     "output_type": "stream",
     "text": [
      "상위 3개 메뉴 추출 완료\n",
      "메뉴별 가격 추출 완료\n",
      "index 변수 설정 완료 i =  527\n"
     ]
    },
    {
     "name": "stderr",
     "output_type": "stream",
     "text": [
      " 41%|████      | 266/648 [25:10<35:35,  5.59s/it]"
     ]
    },
    {
     "name": "stdout",
     "output_type": "stream",
     "text": [
      "상위 3개 메뉴 추출 완료\n",
      "메뉴별 가격 추출 완료\n",
      "index 변수 설정 완료 i =  528\n"
     ]
    },
    {
     "name": "stderr",
     "output_type": "stream",
     "text": [
      " 41%|████      | 267/648 [25:15<35:19,  5.56s/it]"
     ]
    },
    {
     "name": "stdout",
     "output_type": "stream",
     "text": [
      "상위 3개 메뉴 추출 완료\n",
      "메뉴별 가격 추출 완료\n",
      "index 변수 설정 완료 i =  529\n",
      "해당 요소를 찾을 수 없습니다: .tit_g\n"
     ]
    },
    {
     "name": "stderr",
     "output_type": "stream",
     "text": [
      " 41%|████▏     | 268/648 [25:23<38:57,  6.15s/it]"
     ]
    },
    {
     "name": "stdout",
     "output_type": "stream",
     "text": [
      "index 변수 설정 완료 i =  530\n"
     ]
    },
    {
     "name": "stderr",
     "output_type": "stream",
     "text": [
      " 42%|████▏     | 269/648 [25:28<37:13,  5.89s/it]"
     ]
    },
    {
     "name": "stdout",
     "output_type": "stream",
     "text": [
      "메뉴 데이터의 길이가 맞지 않아 추가하지 않습니다.\n",
      "가격 데이터의 길이가 맞지 않아 추가하지 않습니다.\n",
      "index 변수 설정 완료 i =  531\n"
     ]
    },
    {
     "name": "stderr",
     "output_type": "stream",
     "text": [
      " 42%|████▏     | 270/648 [25:33<36:18,  5.76s/it]"
     ]
    },
    {
     "name": "stdout",
     "output_type": "stream",
     "text": [
      "상위 3개 메뉴 추출 완료\n",
      "메뉴별 가격 추출 완료\n",
      "index 변수 설정 완료 i =  532\n"
     ]
    },
    {
     "name": "stderr",
     "output_type": "stream",
     "text": [
      " 42%|████▏     | 271/648 [25:39<35:41,  5.68s/it]"
     ]
    },
    {
     "name": "stdout",
     "output_type": "stream",
     "text": [
      "메뉴 데이터의 길이가 맞지 않아 추가하지 않습니다.\n",
      "가격 데이터의 길이가 맞지 않아 추가하지 않습니다.\n",
      "index 변수 설정 완료 i =  533\n"
     ]
    },
    {
     "name": "stderr",
     "output_type": "stream",
     "text": [
      " 42%|████▏     | 272/648 [25:44<34:45,  5.55s/it]"
     ]
    },
    {
     "name": "stdout",
     "output_type": "stream",
     "text": [
      "메뉴 데이터의 길이가 맞지 않아 추가하지 않습니다.\n",
      "가격 데이터의 길이가 맞지 않아 추가하지 않습니다.\n",
      "index 변수 설정 완료 i =  534\n"
     ]
    },
    {
     "name": "stderr",
     "output_type": "stream",
     "text": [
      " 42%|████▏     | 273/648 [25:49<34:12,  5.47s/it]"
     ]
    },
    {
     "name": "stdout",
     "output_type": "stream",
     "text": [
      "상위 3개 메뉴 추출 완료\n",
      "메뉴별 가격 추출 완료\n",
      "index 변수 설정 완료 i =  535\n"
     ]
    },
    {
     "name": "stderr",
     "output_type": "stream",
     "text": [
      " 42%|████▏     | 274/648 [25:55<33:44,  5.41s/it]"
     ]
    },
    {
     "name": "stdout",
     "output_type": "stream",
     "text": [
      "상위 3개 메뉴 추출 완료\n",
      "가격 데이터의 길이가 맞지 않아 추가하지 않습니다.\n",
      "index 변수 설정 완료 i =  536\n"
     ]
    },
    {
     "name": "stderr",
     "output_type": "stream",
     "text": [
      " 42%|████▏     | 275/648 [26:00<33:27,  5.38s/it]"
     ]
    },
    {
     "name": "stdout",
     "output_type": "stream",
     "text": [
      "상위 3개 메뉴 추출 완료\n",
      "가격 데이터의 길이가 맞지 않아 추가하지 않습니다.\n",
      "index 변수 설정 완료 i =  537\n"
     ]
    },
    {
     "name": "stderr",
     "output_type": "stream",
     "text": [
      " 43%|████▎     | 276/648 [26:05<33:09,  5.35s/it]"
     ]
    },
    {
     "name": "stdout",
     "output_type": "stream",
     "text": [
      "메뉴 데이터의 길이가 맞지 않아 추가하지 않습니다.\n",
      "가격 데이터의 길이가 맞지 않아 추가하지 않습니다.\n",
      "index 변수 설정 완료 i =  538\n"
     ]
    },
    {
     "name": "stderr",
     "output_type": "stream",
     "text": [
      " 43%|████▎     | 277/648 [26:11<32:56,  5.33s/it]"
     ]
    },
    {
     "name": "stdout",
     "output_type": "stream",
     "text": [
      "상위 3개 메뉴 추출 완료\n",
      "메뉴별 가격 추출 완료\n",
      "index 변수 설정 완료 i =  539\n"
     ]
    },
    {
     "name": "stderr",
     "output_type": "stream",
     "text": [
      " 43%|████▎     | 278/648 [26:16<32:36,  5.29s/it]"
     ]
    },
    {
     "name": "stdout",
     "output_type": "stream",
     "text": [
      "상위 3개 메뉴 추출 완료\n",
      "메뉴별 가격 추출 완료\n",
      "index 변수 설정 완료 i =  540\n"
     ]
    },
    {
     "name": "stderr",
     "output_type": "stream",
     "text": [
      " 43%|████▎     | 279/648 [26:21<32:53,  5.35s/it]"
     ]
    },
    {
     "name": "stdout",
     "output_type": "stream",
     "text": [
      "메뉴 데이터의 길이가 맞지 않아 추가하지 않습니다.\n",
      "가격 데이터의 길이가 맞지 않아 추가하지 않습니다.\n",
      "index 변수 설정 완료 i =  541\n"
     ]
    },
    {
     "name": "stderr",
     "output_type": "stream",
     "text": [
      " 43%|████▎     | 280/648 [26:27<33:00,  5.38s/it]"
     ]
    },
    {
     "name": "stdout",
     "output_type": "stream",
     "text": [
      "메뉴 데이터의 길이가 맞지 않아 추가하지 않습니다.\n",
      "가격 데이터의 길이가 맞지 않아 추가하지 않습니다.\n",
      "index 변수 설정 완료 i =  542\n"
     ]
    },
    {
     "name": "stderr",
     "output_type": "stream",
     "text": [
      " 43%|████▎     | 281/648 [26:32<33:29,  5.47s/it]"
     ]
    },
    {
     "name": "stdout",
     "output_type": "stream",
     "text": [
      "상위 3개 메뉴 추출 완료\n",
      "메뉴별 가격 추출 완료\n",
      "index 변수 설정 완료 i =  543\n",
      "해당 요소를 찾을 수 없습니다: .tit_g\n"
     ]
    },
    {
     "name": "stderr",
     "output_type": "stream",
     "text": [
      " 44%|████▎     | 282/648 [26:40<37:04,  6.08s/it]"
     ]
    },
    {
     "name": "stdout",
     "output_type": "stream",
     "text": [
      "index 변수 설정 완료 i =  544\n"
     ]
    },
    {
     "name": "stderr",
     "output_type": "stream",
     "text": [
      " 44%|████▎     | 283/648 [26:45<35:36,  5.85s/it]"
     ]
    },
    {
     "name": "stdout",
     "output_type": "stream",
     "text": [
      "상위 3개 메뉴 추출 완료\n",
      "메뉴별 가격 추출 완료\n",
      "index 변수 설정 완료 i =  545\n"
     ]
    },
    {
     "name": "stderr",
     "output_type": "stream",
     "text": [
      " 44%|████▍     | 284/648 [26:50<34:30,  5.69s/it]"
     ]
    },
    {
     "name": "stdout",
     "output_type": "stream",
     "text": [
      "상위 3개 메뉴 추출 완료\n",
      "가격 데이터의 길이가 맞지 않아 추가하지 않습니다.\n",
      "index 변수 설정 완료 i =  546\n"
     ]
    },
    {
     "name": "stderr",
     "output_type": "stream",
     "text": [
      " 44%|████▍     | 285/648 [26:56<34:13,  5.66s/it]"
     ]
    },
    {
     "name": "stdout",
     "output_type": "stream",
     "text": [
      "상위 3개 메뉴 추출 완료\n",
      "메뉴별 가격 추출 완료\n",
      "index 변수 설정 완료 i =  547\n"
     ]
    },
    {
     "name": "stderr",
     "output_type": "stream",
     "text": [
      " 44%|████▍     | 286/648 [27:02<33:49,  5.61s/it]"
     ]
    },
    {
     "name": "stdout",
     "output_type": "stream",
     "text": [
      "상위 3개 메뉴 추출 완료\n",
      "메뉴별 가격 추출 완료\n",
      "index 변수 설정 완료 i =  548\n"
     ]
    },
    {
     "name": "stderr",
     "output_type": "stream",
     "text": [
      " 44%|████▍     | 287/648 [27:07<33:39,  5.59s/it]"
     ]
    },
    {
     "name": "stdout",
     "output_type": "stream",
     "text": [
      "상위 3개 메뉴 추출 완료\n",
      "메뉴별 가격 추출 완료\n",
      "index 변수 설정 완료 i =  549\n"
     ]
    },
    {
     "name": "stderr",
     "output_type": "stream",
     "text": [
      " 44%|████▍     | 288/648 [27:12<33:05,  5.52s/it]"
     ]
    },
    {
     "name": "stdout",
     "output_type": "stream",
     "text": [
      "메뉴 데이터의 길이가 맞지 않아 추가하지 않습니다.\n",
      "가격 데이터의 길이가 맞지 않아 추가하지 않습니다.\n",
      "index 변수 설정 완료 i =  550\n"
     ]
    },
    {
     "name": "stderr",
     "output_type": "stream",
     "text": [
      " 45%|████▍     | 289/648 [27:18<32:55,  5.50s/it]"
     ]
    },
    {
     "name": "stdout",
     "output_type": "stream",
     "text": [
      "상위 3개 메뉴 추출 완료\n",
      "메뉴별 가격 추출 완료\n",
      "index 변수 설정 완료 i =  551\n"
     ]
    },
    {
     "name": "stderr",
     "output_type": "stream",
     "text": [
      " 45%|████▍     | 290/648 [27:24<33:59,  5.70s/it]"
     ]
    },
    {
     "name": "stdout",
     "output_type": "stream",
     "text": [
      "메뉴 데이터의 길이가 맞지 않아 추가하지 않습니다.\n",
      "가격 데이터의 길이가 맞지 않아 추가하지 않습니다.\n",
      "index 변수 설정 완료 i =  552\n"
     ]
    },
    {
     "name": "stderr",
     "output_type": "stream",
     "text": [
      " 45%|████▍     | 291/648 [27:29<33:11,  5.58s/it]"
     ]
    },
    {
     "name": "stdout",
     "output_type": "stream",
     "text": [
      "상위 3개 메뉴 추출 완료\n",
      "가격 데이터의 길이가 맞지 않아 추가하지 않습니다.\n",
      "index 변수 설정 완료 i =  553\n"
     ]
    },
    {
     "name": "stderr",
     "output_type": "stream",
     "text": [
      " 45%|████▌     | 292/648 [27:36<34:38,  5.84s/it]"
     ]
    },
    {
     "name": "stdout",
     "output_type": "stream",
     "text": [
      "상위 3개 메뉴 추출 완료\n",
      "메뉴별 가격 추출 완료\n",
      "index 변수 설정 완료 i =  554\n"
     ]
    },
    {
     "name": "stderr",
     "output_type": "stream",
     "text": [
      " 45%|████▌     | 293/648 [27:41<33:54,  5.73s/it]"
     ]
    },
    {
     "name": "stdout",
     "output_type": "stream",
     "text": [
      "상위 3개 메뉴 추출 완료\n",
      "메뉴별 가격 추출 완료\n",
      "index 변수 설정 완료 i =  555\n"
     ]
    },
    {
     "name": "stderr",
     "output_type": "stream",
     "text": [
      " 45%|████▌     | 294/648 [27:47<33:14,  5.63s/it]"
     ]
    },
    {
     "name": "stdout",
     "output_type": "stream",
     "text": [
      "상위 3개 메뉴 추출 완료\n",
      "메뉴별 가격 추출 완료\n",
      "index 변수 설정 완료 i =  556\n"
     ]
    },
    {
     "name": "stderr",
     "output_type": "stream",
     "text": [
      " 46%|████▌     | 295/648 [27:52<32:44,  5.57s/it]"
     ]
    },
    {
     "name": "stdout",
     "output_type": "stream",
     "text": [
      "상위 3개 메뉴 추출 완료\n",
      "메뉴별 가격 추출 완료\n",
      "index 변수 설정 완료 i =  557\n"
     ]
    },
    {
     "name": "stderr",
     "output_type": "stream",
     "text": [
      " 46%|████▌     | 296/648 [27:58<32:22,  5.52s/it]"
     ]
    },
    {
     "name": "stdout",
     "output_type": "stream",
     "text": [
      "상위 3개 메뉴 추출 완료\n",
      "메뉴별 가격 추출 완료\n",
      "index 변수 설정 완료 i =  558\n"
     ]
    },
    {
     "name": "stderr",
     "output_type": "stream",
     "text": [
      " 46%|████▌     | 297/648 [28:03<32:11,  5.50s/it]"
     ]
    },
    {
     "name": "stdout",
     "output_type": "stream",
     "text": [
      "상위 3개 메뉴 추출 완료\n",
      "메뉴별 가격 추출 완료\n",
      "index 변수 설정 완료 i =  559\n"
     ]
    },
    {
     "name": "stderr",
     "output_type": "stream",
     "text": [
      " 46%|████▌     | 298/648 [28:08<31:59,  5.48s/it]"
     ]
    },
    {
     "name": "stdout",
     "output_type": "stream",
     "text": [
      "상위 3개 메뉴 추출 완료\n",
      "메뉴별 가격 추출 완료\n",
      "index 변수 설정 완료 i =  560\n"
     ]
    },
    {
     "name": "stderr",
     "output_type": "stream",
     "text": [
      " 46%|████▌     | 299/648 [28:14<31:28,  5.41s/it]"
     ]
    },
    {
     "name": "stdout",
     "output_type": "stream",
     "text": [
      "상위 3개 메뉴 추출 완료\n",
      "메뉴별 가격 추출 완료\n",
      "index 변수 설정 완료 i =  561\n"
     ]
    },
    {
     "name": "stderr",
     "output_type": "stream",
     "text": [
      " 46%|████▋     | 300/648 [28:19<31:34,  5.44s/it]"
     ]
    },
    {
     "name": "stdout",
     "output_type": "stream",
     "text": [
      "상위 3개 메뉴 추출 완료\n",
      "가격 데이터의 길이가 맞지 않아 추가하지 않습니다.\n",
      "index 변수 설정 완료 i =  562\n"
     ]
    },
    {
     "name": "stderr",
     "output_type": "stream",
     "text": [
      " 46%|████▋     | 301/648 [28:24<31:08,  5.38s/it]"
     ]
    },
    {
     "name": "stdout",
     "output_type": "stream",
     "text": [
      "상위 3개 메뉴 추출 완료\n",
      "가격 데이터의 길이가 맞지 않아 추가하지 않습니다.\n",
      "index 변수 설정 완료 i =  563\n"
     ]
    },
    {
     "name": "stderr",
     "output_type": "stream",
     "text": [
      " 47%|████▋     | 302/648 [28:30<31:07,  5.40s/it]"
     ]
    },
    {
     "name": "stdout",
     "output_type": "stream",
     "text": [
      "메뉴 데이터의 길이가 맞지 않아 추가하지 않습니다.\n",
      "가격 데이터의 길이가 맞지 않아 추가하지 않습니다.\n",
      "index 변수 설정 완료 i =  564\n"
     ]
    },
    {
     "name": "stderr",
     "output_type": "stream",
     "text": [
      " 47%|████▋     | 303/648 [28:35<30:51,  5.37s/it]"
     ]
    },
    {
     "name": "stdout",
     "output_type": "stream",
     "text": [
      "상위 3개 메뉴 추출 완료\n",
      "메뉴별 가격 추출 완료\n",
      "index 변수 설정 완료 i =  565\n"
     ]
    },
    {
     "name": "stderr",
     "output_type": "stream",
     "text": [
      " 47%|████▋     | 304/648 [28:41<30:43,  5.36s/it]"
     ]
    },
    {
     "name": "stdout",
     "output_type": "stream",
     "text": [
      "메뉴 데이터의 길이가 맞지 않아 추가하지 않습니다.\n",
      "가격 데이터의 길이가 맞지 않아 추가하지 않습니다.\n",
      "index 변수 설정 완료 i =  566\n",
      "해당 요소를 찾을 수 없습니다: .tit_g\n"
     ]
    },
    {
     "name": "stderr",
     "output_type": "stream",
     "text": [
      " 47%|████▋     | 305/648 [28:48<34:14,  5.99s/it]"
     ]
    },
    {
     "name": "stdout",
     "output_type": "stream",
     "text": [
      "index 변수 설정 완료 i =  567\n"
     ]
    },
    {
     "name": "stderr",
     "output_type": "stream",
     "text": [
      " 47%|████▋     | 306/648 [28:53<33:15,  5.84s/it]"
     ]
    },
    {
     "name": "stdout",
     "output_type": "stream",
     "text": [
      "상위 3개 메뉴 추출 완료\n",
      "메뉴별 가격 추출 완료\n",
      "index 변수 설정 완료 i =  568\n"
     ]
    },
    {
     "name": "stderr",
     "output_type": "stream",
     "text": [
      " 47%|████▋     | 307/648 [28:59<32:26,  5.71s/it]"
     ]
    },
    {
     "name": "stdout",
     "output_type": "stream",
     "text": [
      "상위 3개 메뉴 추출 완료\n",
      "가격 데이터의 길이가 맞지 않아 추가하지 않습니다.\n",
      "index 변수 설정 완료 i =  569\n"
     ]
    },
    {
     "name": "stderr",
     "output_type": "stream",
     "text": [
      " 48%|████▊     | 308/648 [29:04<31:51,  5.62s/it]"
     ]
    },
    {
     "name": "stdout",
     "output_type": "stream",
     "text": [
      "메뉴 데이터의 길이가 맞지 않아 추가하지 않습니다.\n",
      "가격 데이터의 길이가 맞지 않아 추가하지 않습니다.\n",
      "index 변수 설정 완료 i =  570\n"
     ]
    },
    {
     "name": "stderr",
     "output_type": "stream",
     "text": [
      " 48%|████▊     | 309/648 [29:10<31:24,  5.56s/it]"
     ]
    },
    {
     "name": "stdout",
     "output_type": "stream",
     "text": [
      "상위 3개 메뉴 추출 완료\n",
      "메뉴별 가격 추출 완료\n",
      "index 변수 설정 완료 i =  571\n"
     ]
    },
    {
     "name": "stderr",
     "output_type": "stream",
     "text": [
      " 48%|████▊     | 310/648 [29:15<30:59,  5.50s/it]"
     ]
    },
    {
     "name": "stdout",
     "output_type": "stream",
     "text": [
      "메뉴 데이터의 길이가 맞지 않아 추가하지 않습니다.\n",
      "가격 데이터의 길이가 맞지 않아 추가하지 않습니다.\n",
      "index 변수 설정 완료 i =  572\n"
     ]
    },
    {
     "name": "stderr",
     "output_type": "stream",
     "text": [
      " 48%|████▊     | 311/648 [29:20<30:46,  5.48s/it]"
     ]
    },
    {
     "name": "stdout",
     "output_type": "stream",
     "text": [
      "상위 3개 메뉴 추출 완료\n",
      "메뉴별 가격 추출 완료\n",
      "index 변수 설정 완료 i =  573\n"
     ]
    },
    {
     "name": "stderr",
     "output_type": "stream",
     "text": [
      " 48%|████▊     | 312/648 [29:26<30:09,  5.39s/it]"
     ]
    },
    {
     "name": "stdout",
     "output_type": "stream",
     "text": [
      "상위 3개 메뉴 추출 완료\n",
      "가격 데이터의 길이가 맞지 않아 추가하지 않습니다.\n",
      "index 변수 설정 완료 i =  574\n"
     ]
    },
    {
     "name": "stderr",
     "output_type": "stream",
     "text": [
      " 48%|████▊     | 313/648 [29:31<30:12,  5.41s/it]"
     ]
    },
    {
     "name": "stdout",
     "output_type": "stream",
     "text": [
      "상위 3개 메뉴 추출 완료\n",
      "가격 데이터의 길이가 맞지 않아 추가하지 않습니다.\n",
      "index 변수 설정 완료 i =  575\n"
     ]
    },
    {
     "name": "stderr",
     "output_type": "stream",
     "text": [
      " 48%|████▊     | 314/648 [29:36<29:59,  5.39s/it]"
     ]
    },
    {
     "name": "stdout",
     "output_type": "stream",
     "text": [
      "메뉴 데이터의 길이가 맞지 않아 추가하지 않습니다.\n",
      "가격 데이터의 길이가 맞지 않아 추가하지 않습니다.\n",
      "index 변수 설정 완료 i =  576\n"
     ]
    },
    {
     "name": "stderr",
     "output_type": "stream",
     "text": [
      " 49%|████▊     | 315/648 [29:42<29:50,  5.38s/it]"
     ]
    },
    {
     "name": "stdout",
     "output_type": "stream",
     "text": [
      "상위 3개 메뉴 추출 완료\n",
      "메뉴별 가격 추출 완료\n",
      "index 변수 설정 완료 i =  577\n"
     ]
    },
    {
     "name": "stderr",
     "output_type": "stream",
     "text": [
      " 49%|████▉     | 316/648 [29:47<30:09,  5.45s/it]"
     ]
    },
    {
     "name": "stdout",
     "output_type": "stream",
     "text": [
      "상위 3개 메뉴 추출 완료\n",
      "메뉴별 가격 추출 완료\n",
      "index 변수 설정 완료 i =  578\n"
     ]
    },
    {
     "name": "stderr",
     "output_type": "stream",
     "text": [
      " 49%|████▉     | 317/648 [29:54<31:05,  5.64s/it]"
     ]
    },
    {
     "name": "stdout",
     "output_type": "stream",
     "text": [
      "상위 3개 메뉴 추출 완료\n",
      "메뉴별 가격 추출 완료\n",
      "index 변수 설정 완료 i =  579\n"
     ]
    },
    {
     "name": "stderr",
     "output_type": "stream",
     "text": [
      " 49%|████▉     | 318/648 [29:59<30:45,  5.59s/it]"
     ]
    },
    {
     "name": "stdout",
     "output_type": "stream",
     "text": [
      "상위 3개 메뉴 추출 완료\n",
      "메뉴별 가격 추출 완료\n",
      "index 변수 설정 완료 i =  580\n"
     ]
    },
    {
     "name": "stderr",
     "output_type": "stream",
     "text": [
      " 49%|████▉     | 319/648 [30:04<30:06,  5.49s/it]"
     ]
    },
    {
     "name": "stdout",
     "output_type": "stream",
     "text": [
      "메뉴 데이터의 길이가 맞지 않아 추가하지 않습니다.\n",
      "가격 데이터의 길이가 맞지 않아 추가하지 않습니다.\n",
      "index 변수 설정 완료 i =  581\n"
     ]
    },
    {
     "name": "stderr",
     "output_type": "stream",
     "text": [
      " 49%|████▉     | 320/648 [30:10<29:44,  5.44s/it]"
     ]
    },
    {
     "name": "stdout",
     "output_type": "stream",
     "text": [
      "상위 3개 메뉴 추출 완료\n",
      "메뉴별 가격 추출 완료\n",
      "index 변수 설정 완료 i =  582\n"
     ]
    },
    {
     "name": "stderr",
     "output_type": "stream",
     "text": [
      " 50%|████▉     | 321/648 [30:17<32:32,  5.97s/it]"
     ]
    },
    {
     "name": "stdout",
     "output_type": "stream",
     "text": [
      "상위 3개 메뉴 추출 완료\n",
      "메뉴별 가격 추출 완료\n",
      "index 변수 설정 완료 i =  583\n",
      "해당 요소를 찾을 수 없습니다: .tit_g\n"
     ]
    },
    {
     "name": "stderr",
     "output_type": "stream",
     "text": [
      " 50%|████▉     | 322/648 [30:24<35:11,  6.48s/it]"
     ]
    },
    {
     "name": "stdout",
     "output_type": "stream",
     "text": [
      "index 변수 설정 완료 i =  584\n"
     ]
    },
    {
     "name": "stderr",
     "output_type": "stream",
     "text": [
      " 50%|████▉     | 323/648 [30:30<33:26,  6.17s/it]"
     ]
    },
    {
     "name": "stdout",
     "output_type": "stream",
     "text": [
      "메뉴 데이터의 길이가 맞지 않아 추가하지 않습니다.\n",
      "가격 데이터의 길이가 맞지 않아 추가하지 않습니다.\n",
      "index 변수 설정 완료 i =  585\n",
      "해당 요소를 찾을 수 없습니다: .tit_g\n"
     ]
    },
    {
     "name": "stderr",
     "output_type": "stream",
     "text": [
      " 50%|█████     | 324/648 [30:40<39:30,  7.31s/it]"
     ]
    },
    {
     "name": "stdout",
     "output_type": "stream",
     "text": [
      "상위 3개 메뉴 추출 완료\n",
      "메뉴별 가격 추출 완료\n",
      "index 변수 설정 완료 i =  586\n"
     ]
    },
    {
     "name": "stderr",
     "output_type": "stream",
     "text": [
      " 50%|█████     | 325/648 [30:45<36:24,  6.76s/it]"
     ]
    },
    {
     "name": "stdout",
     "output_type": "stream",
     "text": [
      "상위 3개 메뉴 추출 완료\n",
      "메뉴별 가격 추출 완료\n",
      "index 변수 설정 완료 i =  587\n"
     ]
    },
    {
     "name": "stderr",
     "output_type": "stream",
     "text": [
      " 50%|█████     | 326/648 [30:51<33:59,  6.33s/it]"
     ]
    },
    {
     "name": "stdout",
     "output_type": "stream",
     "text": [
      "상위 3개 메뉴 추출 완료\n",
      "메뉴별 가격 추출 완료\n",
      "index 변수 설정 완료 i =  588\n"
     ]
    },
    {
     "name": "stderr",
     "output_type": "stream",
     "text": [
      " 50%|█████     | 327/648 [30:56<32:22,  6.05s/it]"
     ]
    },
    {
     "name": "stdout",
     "output_type": "stream",
     "text": [
      "상위 3개 메뉴 추출 완료\n",
      "메뉴별 가격 추출 완료\n",
      "index 변수 설정 완료 i =  589\n",
      "해당 요소를 찾을 수 없습니다: .tit_g\n"
     ]
    },
    {
     "name": "stderr",
     "output_type": "stream",
     "text": [
      " 51%|█████     | 328/648 [31:06<37:48,  7.09s/it]"
     ]
    },
    {
     "name": "stdout",
     "output_type": "stream",
     "text": [
      "메뉴 데이터의 길이가 맞지 않아 추가하지 않습니다.\n",
      "가격 데이터의 길이가 맞지 않아 추가하지 않습니다.\n",
      "index 변수 설정 완료 i =  590\n"
     ]
    },
    {
     "name": "stderr",
     "output_type": "stream",
     "text": [
      " 51%|█████     | 329/648 [31:11<34:58,  6.58s/it]"
     ]
    },
    {
     "name": "stdout",
     "output_type": "stream",
     "text": [
      "상위 3개 메뉴 추출 완료\n",
      "메뉴별 가격 추출 완료\n",
      "index 변수 설정 완료 i =  591\n"
     ]
    },
    {
     "name": "stderr",
     "output_type": "stream",
     "text": [
      " 51%|█████     | 330/648 [31:16<32:55,  6.21s/it]"
     ]
    },
    {
     "name": "stdout",
     "output_type": "stream",
     "text": [
      "상위 3개 메뉴 추출 완료\n",
      "메뉴별 가격 추출 완료\n",
      "index 변수 설정 완료 i =  592\n"
     ]
    },
    {
     "name": "stderr",
     "output_type": "stream",
     "text": [
      " 51%|█████     | 331/648 [31:22<31:28,  5.96s/it]"
     ]
    },
    {
     "name": "stdout",
     "output_type": "stream",
     "text": [
      "상위 3개 메뉴 추출 완료\n",
      "가격 데이터의 길이가 맞지 않아 추가하지 않습니다.\n",
      "index 변수 설정 완료 i =  593\n"
     ]
    },
    {
     "name": "stderr",
     "output_type": "stream",
     "text": [
      " 51%|█████     | 332/648 [31:27<30:36,  5.81s/it]"
     ]
    },
    {
     "name": "stdout",
     "output_type": "stream",
     "text": [
      "상위 3개 메뉴 추출 완료\n",
      "메뉴별 가격 추출 완료\n",
      "index 변수 설정 완료 i =  594\n"
     ]
    },
    {
     "name": "stderr",
     "output_type": "stream",
     "text": [
      " 51%|█████▏    | 333/648 [31:33<30:05,  5.73s/it]"
     ]
    },
    {
     "name": "stdout",
     "output_type": "stream",
     "text": [
      "상위 3개 메뉴 추출 완료\n",
      "메뉴별 가격 추출 완료\n",
      "index 변수 설정 완료 i =  595\n"
     ]
    },
    {
     "name": "stderr",
     "output_type": "stream",
     "text": [
      " 52%|█████▏    | 334/648 [31:38<29:36,  5.66s/it]"
     ]
    },
    {
     "name": "stdout",
     "output_type": "stream",
     "text": [
      "상위 3개 메뉴 추출 완료\n",
      "메뉴별 가격 추출 완료\n",
      "index 변수 설정 완료 i =  596\n"
     ]
    },
    {
     "name": "stderr",
     "output_type": "stream",
     "text": [
      " 52%|█████▏    | 335/648 [31:44<29:00,  5.56s/it]"
     ]
    },
    {
     "name": "stdout",
     "output_type": "stream",
     "text": [
      "메뉴 데이터의 길이가 맞지 않아 추가하지 않습니다.\n",
      "가격 데이터의 길이가 맞지 않아 추가하지 않습니다.\n",
      "index 변수 설정 완료 i =  597\n"
     ]
    },
    {
     "name": "stderr",
     "output_type": "stream",
     "text": [
      " 52%|█████▏    | 336/648 [31:49<28:37,  5.50s/it]"
     ]
    },
    {
     "name": "stdout",
     "output_type": "stream",
     "text": [
      "상위 3개 메뉴 추출 완료\n",
      "메뉴별 가격 추출 완료\n",
      "index 변수 설정 완료 i =  598\n"
     ]
    },
    {
     "name": "stderr",
     "output_type": "stream",
     "text": [
      " 52%|█████▏    | 337/648 [31:54<28:04,  5.42s/it]"
     ]
    },
    {
     "name": "stdout",
     "output_type": "stream",
     "text": [
      "상위 3개 메뉴 추출 완료\n",
      "가격 데이터의 길이가 맞지 않아 추가하지 않습니다.\n",
      "index 변수 설정 완료 i =  599\n"
     ]
    },
    {
     "name": "stderr",
     "output_type": "stream",
     "text": [
      " 52%|█████▏    | 338/648 [32:00<28:02,  5.43s/it]"
     ]
    },
    {
     "name": "stdout",
     "output_type": "stream",
     "text": [
      "상위 3개 메뉴 추출 완료\n",
      "메뉴별 가격 추출 완료\n",
      "index 변수 설정 완료 i =  600\n"
     ]
    },
    {
     "name": "stderr",
     "output_type": "stream",
     "text": [
      " 52%|█████▏    | 339/648 [32:05<27:44,  5.39s/it]"
     ]
    },
    {
     "name": "stdout",
     "output_type": "stream",
     "text": [
      "상위 3개 메뉴 추출 완료\n",
      "가격 데이터의 길이가 맞지 않아 추가하지 않습니다.\n",
      "index 변수 설정 완료 i =  601\n"
     ]
    },
    {
     "name": "stderr",
     "output_type": "stream",
     "text": [
      " 52%|█████▏    | 340/648 [32:10<27:37,  5.38s/it]"
     ]
    },
    {
     "name": "stdout",
     "output_type": "stream",
     "text": [
      "상위 3개 메뉴 추출 완료\n",
      "가격 데이터의 길이가 맞지 않아 추가하지 않습니다.\n",
      "index 변수 설정 완료 i =  602\n"
     ]
    },
    {
     "name": "stderr",
     "output_type": "stream",
     "text": [
      " 53%|█████▎    | 341/648 [32:16<27:34,  5.39s/it]"
     ]
    },
    {
     "name": "stdout",
     "output_type": "stream",
     "text": [
      "상위 3개 메뉴 추출 완료\n",
      "메뉴별 가격 추출 완료\n",
      "index 변수 설정 완료 i =  603\n"
     ]
    },
    {
     "name": "stderr",
     "output_type": "stream",
     "text": [
      " 53%|█████▎    | 342/648 [32:21<27:28,  5.39s/it]"
     ]
    },
    {
     "name": "stdout",
     "output_type": "stream",
     "text": [
      "메뉴 데이터의 길이가 맞지 않아 추가하지 않습니다.\n",
      "가격 데이터의 길이가 맞지 않아 추가하지 않습니다.\n",
      "index 변수 설정 완료 i =  604\n"
     ]
    },
    {
     "name": "stderr",
     "output_type": "stream",
     "text": [
      " 53%|█████▎    | 343/648 [32:27<27:30,  5.41s/it]"
     ]
    },
    {
     "name": "stdout",
     "output_type": "stream",
     "text": [
      "메뉴 데이터의 길이가 맞지 않아 추가하지 않습니다.\n",
      "가격 데이터의 길이가 맞지 않아 추가하지 않습니다.\n",
      "index 변수 설정 완료 i =  605\n",
      "해당 요소를 찾을 수 없습니다: .tit_g\n"
     ]
    },
    {
     "name": "stderr",
     "output_type": "stream",
     "text": [
      " 53%|█████▎    | 344/648 [32:34<30:28,  6.02s/it]"
     ]
    },
    {
     "name": "stdout",
     "output_type": "stream",
     "text": [
      "index 변수 설정 완료 i =  606\n"
     ]
    },
    {
     "name": "stderr",
     "output_type": "stream",
     "text": [
      " 53%|█████▎    | 345/648 [32:39<29:18,  5.80s/it]"
     ]
    },
    {
     "name": "stdout",
     "output_type": "stream",
     "text": [
      "상위 3개 메뉴 추출 완료\n",
      "메뉴별 가격 추출 완료\n",
      "index 변수 설정 완료 i =  607\n",
      "해당 요소를 찾을 수 없습니다: .tit_g\n"
     ]
    },
    {
     "name": "stderr",
     "output_type": "stream",
     "text": [
      " 53%|█████▎    | 346/648 [32:47<31:25,  6.24s/it]"
     ]
    },
    {
     "name": "stdout",
     "output_type": "stream",
     "text": [
      "index 변수 설정 완료 i =  608\n"
     ]
    },
    {
     "name": "stderr",
     "output_type": "stream",
     "text": [
      " 54%|█████▎    | 347/648 [32:52<30:28,  6.08s/it]"
     ]
    },
    {
     "name": "stdout",
     "output_type": "stream",
     "text": [
      "상위 3개 메뉴 추출 완료\n",
      "메뉴별 가격 추출 완료\n",
      "index 변수 설정 완료 i =  609\n"
     ]
    },
    {
     "name": "stderr",
     "output_type": "stream",
     "text": [
      " 54%|█████▎    | 348/648 [32:58<29:31,  5.91s/it]"
     ]
    },
    {
     "name": "stdout",
     "output_type": "stream",
     "text": [
      "상위 3개 메뉴 추출 완료\n",
      "메뉴별 가격 추출 완료\n",
      "index 변수 설정 완료 i =  610\n"
     ]
    },
    {
     "name": "stderr",
     "output_type": "stream",
     "text": [
      " 54%|█████▍    | 349/648 [33:03<28:51,  5.79s/it]"
     ]
    },
    {
     "name": "stdout",
     "output_type": "stream",
     "text": [
      "상위 3개 메뉴 추출 완료\n",
      "메뉴별 가격 추출 완료\n",
      "index 변수 설정 완료 i =  611\n"
     ]
    },
    {
     "name": "stderr",
     "output_type": "stream",
     "text": [
      " 54%|█████▍    | 350/648 [33:09<28:16,  5.69s/it]"
     ]
    },
    {
     "name": "stdout",
     "output_type": "stream",
     "text": [
      "상위 3개 메뉴 추출 완료\n",
      "메뉴별 가격 추출 완료\n",
      "index 변수 설정 완료 i =  612\n",
      "해당 요소를 찾을 수 없습니다: .tit_g\n"
     ]
    },
    {
     "name": "stderr",
     "output_type": "stream",
     "text": [
      " 54%|█████▍    | 351/648 [33:16<31:12,  6.31s/it]"
     ]
    },
    {
     "name": "stdout",
     "output_type": "stream",
     "text": [
      "index 변수 설정 완료 i =  613\n"
     ]
    },
    {
     "name": "stderr",
     "output_type": "stream",
     "text": [
      " 54%|█████▍    | 352/648 [33:22<29:53,  6.06s/it]"
     ]
    },
    {
     "name": "stdout",
     "output_type": "stream",
     "text": [
      "상위 3개 메뉴 추출 완료\n",
      "메뉴별 가격 추출 완료\n",
      "index 변수 설정 완료 i =  614\n"
     ]
    },
    {
     "name": "stderr",
     "output_type": "stream",
     "text": [
      " 54%|█████▍    | 353/648 [33:28<29:07,  5.92s/it]"
     ]
    },
    {
     "name": "stdout",
     "output_type": "stream",
     "text": [
      "상위 3개 메뉴 추출 완료\n",
      "메뉴별 가격 추출 완료\n",
      "index 변수 설정 완료 i =  615\n"
     ]
    },
    {
     "name": "stderr",
     "output_type": "stream",
     "text": [
      " 55%|█████▍    | 354/648 [33:33<28:35,  5.83s/it]"
     ]
    },
    {
     "name": "stdout",
     "output_type": "stream",
     "text": [
      "상위 3개 메뉴 추출 완료\n",
      "메뉴별 가격 추출 완료\n",
      "index 변수 설정 완료 i =  616\n"
     ]
    },
    {
     "name": "stderr",
     "output_type": "stream",
     "text": [
      " 55%|█████▍    | 355/648 [33:38<27:46,  5.69s/it]"
     ]
    },
    {
     "name": "stdout",
     "output_type": "stream",
     "text": [
      "상위 3개 메뉴 추출 완료\n",
      "메뉴별 가격 추출 완료\n",
      "index 변수 설정 완료 i =  617\n",
      "해당 요소를 찾을 수 없습니다: .tit_g\n"
     ]
    },
    {
     "name": "stderr",
     "output_type": "stream",
     "text": [
      " 55%|█████▍    | 356/648 [33:48<33:04,  6.80s/it]"
     ]
    },
    {
     "name": "stdout",
     "output_type": "stream",
     "text": [
      "메뉴 데이터의 길이가 맞지 않아 추가하지 않습니다.\n",
      "가격 데이터의 길이가 맞지 않아 추가하지 않습니다.\n",
      "index 변수 설정 완료 i =  618\n"
     ]
    },
    {
     "name": "stderr",
     "output_type": "stream",
     "text": [
      " 55%|█████▌    | 357/648 [33:53<30:55,  6.38s/it]"
     ]
    },
    {
     "name": "stdout",
     "output_type": "stream",
     "text": [
      "상위 3개 메뉴 추출 완료\n",
      "메뉴별 가격 추출 완료\n",
      "index 변수 설정 완료 i =  619\n"
     ]
    },
    {
     "name": "stderr",
     "output_type": "stream",
     "text": [
      " 55%|█████▌    | 358/648 [33:59<29:31,  6.11s/it]"
     ]
    },
    {
     "name": "stdout",
     "output_type": "stream",
     "text": [
      "상위 3개 메뉴 추출 완료\n",
      "가격 데이터의 길이가 맞지 않아 추가하지 않습니다.\n",
      "index 변수 설정 완료 i =  620\n"
     ]
    },
    {
     "name": "stderr",
     "output_type": "stream",
     "text": [
      " 55%|█████▌    | 359/648 [34:04<28:25,  5.90s/it]"
     ]
    },
    {
     "name": "stdout",
     "output_type": "stream",
     "text": [
      "상위 3개 메뉴 추출 완료\n",
      "가격 데이터의 길이가 맞지 않아 추가하지 않습니다.\n",
      "index 변수 설정 완료 i =  621\n",
      "해당 요소를 찾을 수 없습니다: .tit_g\n"
     ]
    },
    {
     "name": "stderr",
     "output_type": "stream",
     "text": [
      " 56%|█████▌    | 360/648 [34:14<33:35,  7.00s/it]"
     ]
    },
    {
     "name": "stdout",
     "output_type": "stream",
     "text": [
      "메뉴 데이터의 길이가 맞지 않아 추가하지 않습니다.\n",
      "가격 데이터의 길이가 맞지 않아 추가하지 않습니다.\n",
      "index 변수 설정 완료 i =  622\n"
     ]
    },
    {
     "name": "stderr",
     "output_type": "stream",
     "text": [
      " 56%|█████▌    | 361/648 [34:19<31:24,  6.57s/it]"
     ]
    },
    {
     "name": "stdout",
     "output_type": "stream",
     "text": [
      "메뉴 데이터의 길이가 맞지 않아 추가하지 않습니다.\n",
      "가격 데이터의 길이가 맞지 않아 추가하지 않습니다.\n",
      "index 변수 설정 완료 i =  623\n",
      "해당 요소를 찾을 수 없습니다: .tit_g\n"
     ]
    },
    {
     "name": "stderr",
     "output_type": "stream",
     "text": [
      " 56%|█████▌    | 362/648 [34:27<32:29,  6.82s/it]"
     ]
    },
    {
     "name": "stdout",
     "output_type": "stream",
     "text": [
      "index 변수 설정 완료 i =  624\n"
     ]
    },
    {
     "name": "stderr",
     "output_type": "stream",
     "text": [
      " 56%|█████▌    | 363/648 [34:32<30:14,  6.37s/it]"
     ]
    },
    {
     "name": "stdout",
     "output_type": "stream",
     "text": [
      "메뉴 데이터의 길이가 맞지 않아 추가하지 않습니다.\n",
      "가격 데이터의 길이가 맞지 않아 추가하지 않습니다.\n",
      "index 변수 설정 완료 i =  625\n"
     ]
    },
    {
     "name": "stderr",
     "output_type": "stream",
     "text": [
      " 56%|█████▌    | 364/648 [34:37<28:34,  6.04s/it]"
     ]
    },
    {
     "name": "stdout",
     "output_type": "stream",
     "text": [
      "상위 3개 메뉴 추출 완료\n",
      "메뉴별 가격 추출 완료\n",
      "index 변수 설정 완료 i =  626\n"
     ]
    },
    {
     "name": "stderr",
     "output_type": "stream",
     "text": [
      " 56%|█████▋    | 365/648 [34:43<27:28,  5.83s/it]"
     ]
    },
    {
     "name": "stdout",
     "output_type": "stream",
     "text": [
      "상위 3개 메뉴 추출 완료\n",
      "메뉴별 가격 추출 완료\n",
      "index 변수 설정 완료 i =  627\n",
      "해당 요소를 찾을 수 없습니다: .tit_g\n"
     ]
    },
    {
     "name": "stderr",
     "output_type": "stream",
     "text": [
      " 56%|█████▋    | 366/648 [34:50<30:08,  6.41s/it]"
     ]
    },
    {
     "name": "stdout",
     "output_type": "stream",
     "text": [
      "index 변수 설정 완료 i =  628\n"
     ]
    },
    {
     "name": "stderr",
     "output_type": "stream",
     "text": [
      " 57%|█████▋    | 367/648 [34:56<28:44,  6.14s/it]"
     ]
    },
    {
     "name": "stdout",
     "output_type": "stream",
     "text": [
      "메뉴 데이터의 길이가 맞지 않아 추가하지 않습니다.\n",
      "가격 데이터의 길이가 맞지 않아 추가하지 않습니다.\n",
      "index 변수 설정 완료 i =  629\n"
     ]
    },
    {
     "name": "stderr",
     "output_type": "stream",
     "text": [
      " 57%|█████▋    | 368/648 [35:01<27:38,  5.92s/it]"
     ]
    },
    {
     "name": "stdout",
     "output_type": "stream",
     "text": [
      "상위 3개 메뉴 추출 완료\n",
      "가격 데이터의 길이가 맞지 않아 추가하지 않습니다.\n",
      "index 변수 설정 완료 i =  630\n",
      "해당 요소를 찾을 수 없습니다: .tit_g\n"
     ]
    },
    {
     "name": "stderr",
     "output_type": "stream",
     "text": [
      " 57%|█████▋    | 369/648 [35:11<32:34,  7.01s/it]"
     ]
    },
    {
     "name": "stdout",
     "output_type": "stream",
     "text": [
      "상위 3개 메뉴 추출 완료\n",
      "메뉴별 가격 추출 완료\n",
      "index 변수 설정 완료 i =  631\n",
      "해당 요소를 찾을 수 없습니다: .tit_g\n"
     ]
    },
    {
     "name": "stderr",
     "output_type": "stream",
     "text": [
      " 57%|█████▋    | 370/648 [35:18<33:21,  7.20s/it]"
     ]
    },
    {
     "name": "stdout",
     "output_type": "stream",
     "text": [
      "index 변수 설정 완료 i =  632\n",
      "해당 요소를 찾을 수 없습니다: .tit_g\n"
     ]
    },
    {
     "name": "stderr",
     "output_type": "stream",
     "text": [
      " 57%|█████▋    | 371/648 [35:28<36:34,  7.92s/it]"
     ]
    },
    {
     "name": "stdout",
     "output_type": "stream",
     "text": [
      "메뉴 데이터의 길이가 맞지 않아 추가하지 않습니다.\n",
      "가격 데이터의 길이가 맞지 않아 추가하지 않습니다.\n",
      "index 변수 설정 완료 i =  633\n"
     ]
    },
    {
     "name": "stderr",
     "output_type": "stream",
     "text": [
      " 57%|█████▋    | 372/648 [35:33<32:40,  7.10s/it]"
     ]
    },
    {
     "name": "stdout",
     "output_type": "stream",
     "text": [
      "메뉴 데이터의 길이가 맞지 않아 추가하지 않습니다.\n",
      "가격 데이터의 길이가 맞지 않아 추가하지 않습니다.\n",
      "index 변수 설정 완료 i =  634\n"
     ]
    },
    {
     "name": "stderr",
     "output_type": "stream",
     "text": [
      " 58%|█████▊    | 373/648 [35:39<31:09,  6.80s/it]"
     ]
    },
    {
     "name": "stdout",
     "output_type": "stream",
     "text": [
      "상위 3개 메뉴 추출 완료\n",
      "가격 데이터의 길이가 맞지 않아 추가하지 않습니다.\n",
      "index 변수 설정 완료 i =  635\n"
     ]
    },
    {
     "name": "stderr",
     "output_type": "stream",
     "text": [
      " 58%|█████▊    | 374/648 [35:45<29:23,  6.44s/it]"
     ]
    },
    {
     "name": "stdout",
     "output_type": "stream",
     "text": [
      "상위 3개 메뉴 추출 완료\n",
      "가격 데이터의 길이가 맞지 않아 추가하지 않습니다.\n",
      "index 변수 설정 완료 i =  636\n"
     ]
    },
    {
     "name": "stderr",
     "output_type": "stream",
     "text": [
      " 58%|█████▊    | 375/648 [35:50<27:55,  6.14s/it]"
     ]
    },
    {
     "name": "stdout",
     "output_type": "stream",
     "text": [
      "상위 3개 메뉴 추출 완료\n",
      "메뉴별 가격 추출 완료\n",
      "index 변수 설정 완료 i =  637\n"
     ]
    },
    {
     "name": "stderr",
     "output_type": "stream",
     "text": [
      " 58%|█████▊    | 376/648 [35:56<26:43,  5.90s/it]"
     ]
    },
    {
     "name": "stdout",
     "output_type": "stream",
     "text": [
      "상위 3개 메뉴 추출 완료\n",
      "메뉴별 가격 추출 완료\n",
      "index 변수 설정 완료 i =  638\n"
     ]
    },
    {
     "name": "stderr",
     "output_type": "stream",
     "text": [
      " 58%|█████▊    | 377/648 [36:02<26:30,  5.87s/it]"
     ]
    },
    {
     "name": "stdout",
     "output_type": "stream",
     "text": [
      "상위 3개 메뉴 추출 완료\n",
      "메뉴별 가격 추출 완료\n",
      "index 변수 설정 완료 i =  639\n"
     ]
    },
    {
     "name": "stderr",
     "output_type": "stream",
     "text": [
      " 58%|█████▊    | 378/648 [36:07<25:38,  5.70s/it]"
     ]
    },
    {
     "name": "stdout",
     "output_type": "stream",
     "text": [
      "메뉴 데이터의 길이가 맞지 않아 추가하지 않습니다.\n",
      "가격 데이터의 길이가 맞지 않아 추가하지 않습니다.\n",
      "index 변수 설정 완료 i =  640\n",
      "해당 요소를 찾을 수 없습니다: .tit_g\n"
     ]
    },
    {
     "name": "stderr",
     "output_type": "stream",
     "text": [
      " 58%|█████▊    | 379/648 [36:15<28:12,  6.29s/it]"
     ]
    },
    {
     "name": "stdout",
     "output_type": "stream",
     "text": [
      "index 변수 설정 완료 i =  641\n"
     ]
    },
    {
     "name": "stderr",
     "output_type": "stream",
     "text": [
      " 59%|█████▊    | 380/648 [36:20<27:34,  6.17s/it]"
     ]
    },
    {
     "name": "stdout",
     "output_type": "stream",
     "text": [
      "상위 3개 메뉴 추출 완료\n",
      "메뉴별 가격 추출 완료\n",
      "index 변수 설정 완료 i =  642\n"
     ]
    },
    {
     "name": "stderr",
     "output_type": "stream",
     "text": [
      " 59%|█████▉    | 381/648 [36:26<26:15,  5.90s/it]"
     ]
    },
    {
     "name": "stdout",
     "output_type": "stream",
     "text": [
      "메뉴 데이터의 길이가 맞지 않아 추가하지 않습니다.\n",
      "가격 데이터의 길이가 맞지 않아 추가하지 않습니다.\n",
      "index 변수 설정 완료 i =  643\n"
     ]
    },
    {
     "name": "stderr",
     "output_type": "stream",
     "text": [
      " 59%|█████▉    | 382/648 [36:31<25:34,  5.77s/it]"
     ]
    },
    {
     "name": "stdout",
     "output_type": "stream",
     "text": [
      "상위 3개 메뉴 추출 완료\n",
      "가격 데이터의 길이가 맞지 않아 추가하지 않습니다.\n",
      "index 변수 설정 완료 i =  644\n"
     ]
    },
    {
     "name": "stderr",
     "output_type": "stream",
     "text": [
      " 59%|█████▉    | 383/648 [36:37<25:12,  5.71s/it]"
     ]
    },
    {
     "name": "stdout",
     "output_type": "stream",
     "text": [
      "상위 3개 메뉴 추출 완료\n",
      "메뉴별 가격 추출 완료\n",
      "index 변수 설정 완료 i =  645\n"
     ]
    },
    {
     "name": "stderr",
     "output_type": "stream",
     "text": [
      " 59%|█████▉    | 384/648 [36:42<24:33,  5.58s/it]"
     ]
    },
    {
     "name": "stdout",
     "output_type": "stream",
     "text": [
      "상위 3개 메뉴 추출 완료\n",
      "메뉴별 가격 추출 완료\n",
      "index 변수 설정 완료 i =  646\n"
     ]
    },
    {
     "name": "stderr",
     "output_type": "stream",
     "text": [
      " 59%|█████▉    | 385/648 [36:47<23:58,  5.47s/it]"
     ]
    },
    {
     "name": "stdout",
     "output_type": "stream",
     "text": [
      "상위 3개 메뉴 추출 완료\n",
      "가격 데이터의 길이가 맞지 않아 추가하지 않습니다.\n",
      "index 변수 설정 완료 i =  647\n"
     ]
    },
    {
     "name": "stderr",
     "output_type": "stream",
     "text": [
      " 60%|█████▉    | 386/648 [36:52<23:38,  5.41s/it]"
     ]
    },
    {
     "name": "stdout",
     "output_type": "stream",
     "text": [
      "상위 3개 메뉴 추출 완료\n",
      "메뉴별 가격 추출 완료\n",
      "index 변수 설정 완료 i =  648\n"
     ]
    },
    {
     "name": "stderr",
     "output_type": "stream",
     "text": [
      " 60%|█████▉    | 387/648 [36:58<23:34,  5.42s/it]"
     ]
    },
    {
     "name": "stdout",
     "output_type": "stream",
     "text": [
      "메뉴 데이터의 길이가 맞지 않아 추가하지 않습니다.\n",
      "가격 데이터의 길이가 맞지 않아 추가하지 않습니다.\n",
      "index 변수 설정 완료 i =  649\n",
      "해당 요소를 찾을 수 없습니다: .tit_g\n"
     ]
    },
    {
     "name": "stderr",
     "output_type": "stream",
     "text": [
      " 60%|█████▉    | 388/648 [37:08<28:58,  6.69s/it]"
     ]
    },
    {
     "name": "stdout",
     "output_type": "stream",
     "text": [
      "메뉴 데이터의 길이가 맞지 않아 추가하지 않습니다.\n",
      "가격 데이터의 길이가 맞지 않아 추가하지 않습니다.\n",
      "index 변수 설정 완료 i =  650\n"
     ]
    },
    {
     "name": "stderr",
     "output_type": "stream",
     "text": [
      " 60%|██████    | 389/648 [37:13<27:15,  6.32s/it]"
     ]
    },
    {
     "name": "stdout",
     "output_type": "stream",
     "text": [
      "메뉴 데이터의 길이가 맞지 않아 추가하지 않습니다.\n",
      "가격 데이터의 길이가 맞지 않아 추가하지 않습니다.\n",
      "index 변수 설정 완료 i =  651\n"
     ]
    },
    {
     "name": "stderr",
     "output_type": "stream",
     "text": [
      " 60%|██████    | 390/648 [37:18<25:58,  6.04s/it]"
     ]
    },
    {
     "name": "stdout",
     "output_type": "stream",
     "text": [
      "메뉴 데이터의 길이가 맞지 않아 추가하지 않습니다.\n",
      "가격 데이터의 길이가 맞지 않아 추가하지 않습니다.\n",
      "index 변수 설정 완료 i =  652\n"
     ]
    },
    {
     "name": "stderr",
     "output_type": "stream",
     "text": [
      " 60%|██████    | 391/648 [37:24<25:20,  5.92s/it]"
     ]
    },
    {
     "name": "stdout",
     "output_type": "stream",
     "text": [
      "메뉴 데이터의 길이가 맞지 않아 추가하지 않습니다.\n",
      "가격 데이터의 길이가 맞지 않아 추가하지 않습니다.\n",
      "index 변수 설정 완료 i =  653\n"
     ]
    },
    {
     "name": "stderr",
     "output_type": "stream",
     "text": [
      " 60%|██████    | 392/648 [37:29<24:37,  5.77s/it]"
     ]
    },
    {
     "name": "stdout",
     "output_type": "stream",
     "text": [
      "상위 3개 메뉴 추출 완료\n",
      "가격 데이터의 길이가 맞지 않아 추가하지 않습니다.\n",
      "index 변수 설정 완료 i =  654\n"
     ]
    },
    {
     "name": "stderr",
     "output_type": "stream",
     "text": [
      " 61%|██████    | 393/648 [37:35<23:49,  5.61s/it]"
     ]
    },
    {
     "name": "stdout",
     "output_type": "stream",
     "text": [
      "상위 3개 메뉴 추출 완료\n",
      "메뉴별 가격 추출 완료\n",
      "index 변수 설정 완료 i =  655\n",
      "해당 요소를 찾을 수 없습니다: .tit_g\n"
     ]
    },
    {
     "name": "stderr",
     "output_type": "stream",
     "text": [
      " 61%|██████    | 394/648 [37:44<28:27,  6.72s/it]"
     ]
    },
    {
     "name": "stdout",
     "output_type": "stream",
     "text": [
      "메뉴 데이터의 길이가 맞지 않아 추가하지 않습니다.\n",
      "가격 데이터의 길이가 맞지 않아 추가하지 않습니다.\n",
      "index 변수 설정 완료 i =  656\n"
     ]
    },
    {
     "name": "stderr",
     "output_type": "stream",
     "text": [
      " 61%|██████    | 395/648 [37:49<26:27,  6.28s/it]"
     ]
    },
    {
     "name": "stdout",
     "output_type": "stream",
     "text": [
      "상위 3개 메뉴 추출 완료\n",
      "가격 데이터의 길이가 맞지 않아 추가하지 않습니다.\n",
      "index 변수 설정 완료 i =  657\n"
     ]
    },
    {
     "name": "stderr",
     "output_type": "stream",
     "text": [
      " 61%|██████    | 396/648 [37:55<25:08,  5.99s/it]"
     ]
    },
    {
     "name": "stdout",
     "output_type": "stream",
     "text": [
      "상위 3개 메뉴 추출 완료\n",
      "가격 데이터의 길이가 맞지 않아 추가하지 않습니다.\n",
      "index 변수 설정 완료 i =  658\n"
     ]
    },
    {
     "name": "stderr",
     "output_type": "stream",
     "text": [
      " 61%|██████▏   | 397/648 [38:00<24:18,  5.81s/it]"
     ]
    },
    {
     "name": "stdout",
     "output_type": "stream",
     "text": [
      "메뉴 데이터의 길이가 맞지 않아 추가하지 않습니다.\n",
      "가격 데이터의 길이가 맞지 않아 추가하지 않습니다.\n",
      "index 변수 설정 완료 i =  659\n"
     ]
    },
    {
     "name": "stderr",
     "output_type": "stream",
     "text": [
      " 61%|██████▏   | 398/648 [38:05<23:49,  5.72s/it]"
     ]
    },
    {
     "name": "stdout",
     "output_type": "stream",
     "text": [
      "상위 3개 메뉴 추출 완료\n",
      "메뉴별 가격 추출 완료\n",
      "index 변수 설정 완료 i =  660\n"
     ]
    },
    {
     "name": "stderr",
     "output_type": "stream",
     "text": [
      " 62%|██████▏   | 399/648 [38:11<23:19,  5.62s/it]"
     ]
    },
    {
     "name": "stdout",
     "output_type": "stream",
     "text": [
      "상위 3개 메뉴 추출 완료\n",
      "메뉴별 가격 추출 완료\n",
      "index 변수 설정 완료 i =  661\n"
     ]
    },
    {
     "name": "stderr",
     "output_type": "stream",
     "text": [
      " 62%|██████▏   | 400/648 [38:16<23:06,  5.59s/it]"
     ]
    },
    {
     "name": "stdout",
     "output_type": "stream",
     "text": [
      "상위 3개 메뉴 추출 완료\n",
      "메뉴별 가격 추출 완료\n",
      "index 변수 설정 완료 i =  662\n"
     ]
    },
    {
     "name": "stderr",
     "output_type": "stream",
     "text": [
      " 62%|██████▏   | 401/648 [38:23<24:36,  5.98s/it]"
     ]
    },
    {
     "name": "stdout",
     "output_type": "stream",
     "text": [
      "메뉴 데이터의 길이가 맞지 않아 추가하지 않습니다.\n",
      "가격 데이터의 길이가 맞지 않아 추가하지 않습니다.\n",
      "index 변수 설정 완료 i =  663\n",
      "해당 요소를 찾을 수 없습니다: .tit_g\n"
     ]
    },
    {
     "name": "stderr",
     "output_type": "stream",
     "text": [
      " 62%|██████▏   | 402/648 [38:31<26:29,  6.46s/it]"
     ]
    },
    {
     "name": "stdout",
     "output_type": "stream",
     "text": [
      "index 변수 설정 완료 i =  664\n"
     ]
    },
    {
     "name": "stderr",
     "output_type": "stream",
     "text": [
      " 62%|██████▏   | 403/648 [38:36<25:13,  6.18s/it]"
     ]
    },
    {
     "name": "stdout",
     "output_type": "stream",
     "text": [
      "상위 3개 메뉴 추출 완료\n",
      "메뉴별 가격 추출 완료\n",
      "index 변수 설정 완료 i =  665\n"
     ]
    },
    {
     "name": "stderr",
     "output_type": "stream",
     "text": [
      " 62%|██████▏   | 404/648 [38:42<24:01,  5.91s/it]"
     ]
    },
    {
     "name": "stdout",
     "output_type": "stream",
     "text": [
      "상위 3개 메뉴 추출 완료\n",
      "메뉴별 가격 추출 완료\n",
      "index 변수 설정 완료 i =  666\n"
     ]
    },
    {
     "name": "stderr",
     "output_type": "stream",
     "text": [
      " 62%|██████▎   | 405/648 [38:47<23:39,  5.84s/it]"
     ]
    },
    {
     "name": "stdout",
     "output_type": "stream",
     "text": [
      "상위 3개 메뉴 추출 완료\n",
      "가격 데이터의 길이가 맞지 않아 추가하지 않습니다.\n",
      "index 변수 설정 완료 i =  667\n"
     ]
    },
    {
     "name": "stderr",
     "output_type": "stream",
     "text": [
      " 63%|██████▎   | 406/648 [38:53<22:50,  5.66s/it]"
     ]
    },
    {
     "name": "stdout",
     "output_type": "stream",
     "text": [
      "상위 3개 메뉴 추출 완료\n",
      "메뉴별 가격 추출 완료\n",
      "index 변수 설정 완료 i =  668\n"
     ]
    },
    {
     "name": "stderr",
     "output_type": "stream",
     "text": [
      " 63%|██████▎   | 407/648 [38:58<22:48,  5.68s/it]"
     ]
    },
    {
     "name": "stdout",
     "output_type": "stream",
     "text": [
      "상위 3개 메뉴 추출 완료\n",
      "가격 데이터의 길이가 맞지 않아 추가하지 않습니다.\n",
      "index 변수 설정 완료 i =  669\n"
     ]
    },
    {
     "name": "stderr",
     "output_type": "stream",
     "text": [
      " 63%|██████▎   | 408/648 [39:04<22:36,  5.65s/it]"
     ]
    },
    {
     "name": "stdout",
     "output_type": "stream",
     "text": [
      "상위 3개 메뉴 추출 완료\n",
      "메뉴별 가격 추출 완료\n",
      "index 변수 설정 완료 i =  670\n"
     ]
    },
    {
     "name": "stderr",
     "output_type": "stream",
     "text": [
      " 63%|██████▎   | 409/648 [39:10<22:51,  5.74s/it]"
     ]
    },
    {
     "name": "stdout",
     "output_type": "stream",
     "text": [
      "상위 3개 메뉴 추출 완료\n",
      "가격 데이터의 길이가 맞지 않아 추가하지 않습니다.\n",
      "index 변수 설정 완료 i =  671\n"
     ]
    },
    {
     "name": "stderr",
     "output_type": "stream",
     "text": [
      " 63%|██████▎   | 410/648 [39:16<23:11,  5.85s/it]"
     ]
    },
    {
     "name": "stdout",
     "output_type": "stream",
     "text": [
      "상위 3개 메뉴 추출 완료\n",
      "메뉴별 가격 추출 완료\n",
      "index 변수 설정 완료 i =  672\n"
     ]
    },
    {
     "name": "stderr",
     "output_type": "stream",
     "text": [
      " 63%|██████▎   | 411/648 [39:22<23:24,  5.93s/it]"
     ]
    },
    {
     "name": "stdout",
     "output_type": "stream",
     "text": [
      "상위 3개 메뉴 추출 완료\n",
      "가격 데이터의 길이가 맞지 않아 추가하지 않습니다.\n",
      "index 변수 설정 완료 i =  673\n"
     ]
    },
    {
     "name": "stderr",
     "output_type": "stream",
     "text": [
      " 64%|██████▎   | 412/648 [39:28<23:24,  5.95s/it]"
     ]
    },
    {
     "name": "stdout",
     "output_type": "stream",
     "text": [
      "메뉴 데이터의 길이가 맞지 않아 추가하지 않습니다.\n",
      "가격 데이터의 길이가 맞지 않아 추가하지 않습니다.\n",
      "index 변수 설정 완료 i =  674\n"
     ]
    },
    {
     "name": "stderr",
     "output_type": "stream",
     "text": [
      " 64%|██████▎   | 413/648 [39:34<23:24,  5.98s/it]"
     ]
    },
    {
     "name": "stdout",
     "output_type": "stream",
     "text": [
      "메뉴 데이터의 길이가 맞지 않아 추가하지 않습니다.\n",
      "가격 데이터의 길이가 맞지 않아 추가하지 않습니다.\n",
      "index 변수 설정 완료 i =  675\n"
     ]
    },
    {
     "name": "stderr",
     "output_type": "stream",
     "text": [
      " 64%|██████▍   | 414/648 [39:40<23:09,  5.94s/it]"
     ]
    },
    {
     "name": "stdout",
     "output_type": "stream",
     "text": [
      "상위 3개 메뉴 추출 완료\n",
      "메뉴별 가격 추출 완료\n",
      "index 변수 설정 완료 i =  676\n",
      "해당 요소를 찾을 수 없습니다: .tit_g\n"
     ]
    },
    {
     "name": "stderr",
     "output_type": "stream",
     "text": [
      " 64%|██████▍   | 415/648 [39:48<25:58,  6.69s/it]"
     ]
    },
    {
     "name": "stdout",
     "output_type": "stream",
     "text": [
      "index 변수 설정 완료 i =  677\n"
     ]
    },
    {
     "name": "stderr",
     "output_type": "stream",
     "text": [
      " 64%|██████▍   | 416/648 [39:54<24:25,  6.32s/it]"
     ]
    },
    {
     "name": "stdout",
     "output_type": "stream",
     "text": [
      "상위 3개 메뉴 추출 완료\n",
      "메뉴별 가격 추출 완료\n",
      "index 변수 설정 완료 i =  678\n"
     ]
    },
    {
     "name": "stderr",
     "output_type": "stream",
     "text": [
      " 64%|██████▍   | 417/648 [39:59<23:02,  5.98s/it]"
     ]
    },
    {
     "name": "stdout",
     "output_type": "stream",
     "text": [
      "메뉴 데이터의 길이가 맞지 않아 추가하지 않습니다.\n",
      "가격 데이터의 길이가 맞지 않아 추가하지 않습니다.\n",
      "index 변수 설정 완료 i =  679\n"
     ]
    },
    {
     "name": "stderr",
     "output_type": "stream",
     "text": [
      " 65%|██████▍   | 418/648 [40:04<22:08,  5.78s/it]"
     ]
    },
    {
     "name": "stdout",
     "output_type": "stream",
     "text": [
      "상위 3개 메뉴 추출 완료\n",
      "메뉴별 가격 추출 완료\n",
      "index 변수 설정 완료 i =  680\n"
     ]
    },
    {
     "name": "stderr",
     "output_type": "stream",
     "text": [
      " 65%|██████▍   | 419/648 [40:10<21:36,  5.66s/it]"
     ]
    },
    {
     "name": "stdout",
     "output_type": "stream",
     "text": [
      "상위 3개 메뉴 추출 완료\n",
      "메뉴별 가격 추출 완료\n",
      "index 변수 설정 완료 i =  681\n",
      "해당 요소를 찾을 수 없습니다: .tit_g\n"
     ]
    },
    {
     "name": "stderr",
     "output_type": "stream",
     "text": [
      " 65%|██████▍   | 420/648 [40:17<23:26,  6.17s/it]"
     ]
    },
    {
     "name": "stdout",
     "output_type": "stream",
     "text": [
      "index 변수 설정 완료 i =  682\n"
     ]
    },
    {
     "name": "stderr",
     "output_type": "stream",
     "text": [
      " 65%|██████▍   | 421/648 [40:22<22:18,  5.90s/it]"
     ]
    },
    {
     "name": "stdout",
     "output_type": "stream",
     "text": [
      "메뉴 데이터의 길이가 맞지 않아 추가하지 않습니다.\n",
      "가격 데이터의 길이가 맞지 않아 추가하지 않습니다.\n",
      "index 변수 설정 완료 i =  683\n"
     ]
    },
    {
     "name": "stderr",
     "output_type": "stream",
     "text": [
      " 65%|██████▌   | 422/648 [40:27<21:21,  5.67s/it]"
     ]
    },
    {
     "name": "stdout",
     "output_type": "stream",
     "text": [
      "메뉴 데이터의 길이가 맞지 않아 추가하지 않습니다.\n",
      "가격 데이터의 길이가 맞지 않아 추가하지 않습니다.\n",
      "index 변수 설정 완료 i =  684\n"
     ]
    },
    {
     "name": "stderr",
     "output_type": "stream",
     "text": [
      " 65%|██████▌   | 423/648 [40:33<20:51,  5.56s/it]"
     ]
    },
    {
     "name": "stdout",
     "output_type": "stream",
     "text": [
      "메뉴 데이터의 길이가 맞지 않아 추가하지 않습니다.\n",
      "가격 데이터의 길이가 맞지 않아 추가하지 않습니다.\n",
      "index 변수 설정 완료 i =  685\n"
     ]
    },
    {
     "name": "stderr",
     "output_type": "stream",
     "text": [
      " 65%|██████▌   | 424/648 [40:38<20:26,  5.47s/it]"
     ]
    },
    {
     "name": "stdout",
     "output_type": "stream",
     "text": [
      "메뉴 데이터의 길이가 맞지 않아 추가하지 않습니다.\n",
      "가격 데이터의 길이가 맞지 않아 추가하지 않습니다.\n",
      "index 변수 설정 완료 i =  686\n"
     ]
    },
    {
     "name": "stderr",
     "output_type": "stream",
     "text": [
      " 66%|██████▌   | 425/648 [40:43<20:16,  5.46s/it]"
     ]
    },
    {
     "name": "stdout",
     "output_type": "stream",
     "text": [
      "메뉴 데이터의 길이가 맞지 않아 추가하지 않습니다.\n",
      "가격 데이터의 길이가 맞지 않아 추가하지 않습니다.\n",
      "index 변수 설정 완료 i =  687\n"
     ]
    },
    {
     "name": "stderr",
     "output_type": "stream",
     "text": [
      " 66%|██████▌   | 426/648 [40:49<20:06,  5.43s/it]"
     ]
    },
    {
     "name": "stdout",
     "output_type": "stream",
     "text": [
      "상위 3개 메뉴 추출 완료\n",
      "가격 데이터의 길이가 맞지 않아 추가하지 않습니다.\n",
      "index 변수 설정 완료 i =  688\n"
     ]
    },
    {
     "name": "stderr",
     "output_type": "stream",
     "text": [
      " 66%|██████▌   | 427/648 [40:54<19:53,  5.40s/it]"
     ]
    },
    {
     "name": "stdout",
     "output_type": "stream",
     "text": [
      "메뉴 데이터의 길이가 맞지 않아 추가하지 않습니다.\n",
      "가격 데이터의 길이가 맞지 않아 추가하지 않습니다.\n",
      "index 변수 설정 완료 i =  689\n"
     ]
    },
    {
     "name": "stderr",
     "output_type": "stream",
     "text": [
      " 66%|██████▌   | 428/648 [41:00<19:48,  5.40s/it]"
     ]
    },
    {
     "name": "stdout",
     "output_type": "stream",
     "text": [
      "상위 3개 메뉴 추출 완료\n",
      "메뉴별 가격 추출 완료\n",
      "index 변수 설정 완료 i =  690\n"
     ]
    },
    {
     "name": "stderr",
     "output_type": "stream",
     "text": [
      " 66%|██████▌   | 429/648 [41:05<19:44,  5.41s/it]"
     ]
    },
    {
     "name": "stdout",
     "output_type": "stream",
     "text": [
      "상위 3개 메뉴 추출 완료\n",
      "가격 데이터의 길이가 맞지 않아 추가하지 않습니다.\n",
      "index 변수 설정 완료 i =  691\n",
      "해당 요소를 찾을 수 없습니다: .tit_g\n"
     ]
    },
    {
     "name": "stderr",
     "output_type": "stream",
     "text": [
      " 66%|██████▋   | 430/648 [41:15<24:06,  6.64s/it]"
     ]
    },
    {
     "name": "stdout",
     "output_type": "stream",
     "text": [
      "상위 3개 메뉴 추출 완료\n",
      "메뉴별 가격 추출 완료\n",
      "index 변수 설정 완료 i =  692\n",
      "해당 요소를 찾을 수 없습니다: .tit_g\n"
     ]
    },
    {
     "name": "stderr",
     "output_type": "stream",
     "text": [
      " 67%|██████▋   | 431/648 [41:24<27:08,  7.50s/it]"
     ]
    },
    {
     "name": "stdout",
     "output_type": "stream",
     "text": [
      "메뉴 데이터의 길이가 맞지 않아 추가하지 않습니다.\n",
      "가격 데이터의 길이가 맞지 않아 추가하지 않습니다.\n",
      "index 변수 설정 완료 i =  693\n"
     ]
    },
    {
     "name": "stderr",
     "output_type": "stream",
     "text": [
      " 67%|██████▋   | 432/648 [41:29<24:39,  6.85s/it]"
     ]
    },
    {
     "name": "stdout",
     "output_type": "stream",
     "text": [
      "메뉴 데이터의 길이가 맞지 않아 추가하지 않습니다.\n",
      "가격 데이터의 길이가 맞지 않아 추가하지 않습니다.\n",
      "index 변수 설정 완료 i =  694\n"
     ]
    },
    {
     "name": "stderr",
     "output_type": "stream",
     "text": [
      " 67%|██████▋   | 433/648 [41:35<22:52,  6.38s/it]"
     ]
    },
    {
     "name": "stdout",
     "output_type": "stream",
     "text": [
      "메뉴 데이터의 길이가 맞지 않아 추가하지 않습니다.\n",
      "가격 데이터의 길이가 맞지 않아 추가하지 않습니다.\n",
      "index 변수 설정 완료 i =  695\n"
     ]
    },
    {
     "name": "stderr",
     "output_type": "stream",
     "text": [
      " 67%|██████▋   | 434/648 [41:40<21:42,  6.08s/it]"
     ]
    },
    {
     "name": "stdout",
     "output_type": "stream",
     "text": [
      "상위 3개 메뉴 추출 완료\n",
      "메뉴별 가격 추출 완료\n",
      "index 변수 설정 완료 i =  696\n"
     ]
    },
    {
     "name": "stderr",
     "output_type": "stream",
     "text": [
      " 67%|██████▋   | 435/648 [41:45<20:44,  5.84s/it]"
     ]
    },
    {
     "name": "stdout",
     "output_type": "stream",
     "text": [
      "상위 3개 메뉴 추출 완료\n",
      "메뉴별 가격 추출 완료\n",
      "index 변수 설정 완료 i =  697\n"
     ]
    },
    {
     "name": "stderr",
     "output_type": "stream",
     "text": [
      " 67%|██████▋   | 436/648 [41:51<20:09,  5.71s/it]"
     ]
    },
    {
     "name": "stdout",
     "output_type": "stream",
     "text": [
      "메뉴 데이터의 길이가 맞지 않아 추가하지 않습니다.\n",
      "가격 데이터의 길이가 맞지 않아 추가하지 않습니다.\n",
      "index 변수 설정 완료 i =  698\n"
     ]
    },
    {
     "name": "stderr",
     "output_type": "stream",
     "text": [
      " 67%|██████▋   | 437/648 [41:57<20:29,  5.83s/it]"
     ]
    },
    {
     "name": "stdout",
     "output_type": "stream",
     "text": [
      "상위 3개 메뉴 추출 완료\n",
      "가격 데이터의 길이가 맞지 않아 추가하지 않습니다.\n",
      "index 변수 설정 완료 i =  699\n"
     ]
    },
    {
     "name": "stderr",
     "output_type": "stream",
     "text": [
      " 68%|██████▊   | 438/648 [42:10<28:00,  8.00s/it]"
     ]
    },
    {
     "name": "stdout",
     "output_type": "stream",
     "text": [
      "메뉴 데이터의 길이가 맞지 않아 추가하지 않습니다.\n",
      "가격 데이터의 길이가 맞지 않아 추가하지 않습니다.\n",
      "index 변수 설정 완료 i =  700\n",
      "해당 요소를 찾을 수 없습니다: .tit_g\n"
     ]
    },
    {
     "name": "stderr",
     "output_type": "stream",
     "text": [
      " 68%|██████▊   | 439/648 [42:27<36:53, 10.59s/it]"
     ]
    },
    {
     "name": "stdout",
     "output_type": "stream",
     "text": [
      "index 변수 설정 완료 i =  701\n"
     ]
    },
    {
     "name": "stderr",
     "output_type": "stream",
     "text": [
      " 68%|██████▊   | 440/648 [42:55<55:35, 16.03s/it]"
     ]
    },
    {
     "name": "stdout",
     "output_type": "stream",
     "text": [
      "메뉴 데이터의 길이가 맞지 않아 추가하지 않습니다.\n",
      "가격 데이터의 길이가 맞지 않아 추가하지 않습니다.\n",
      "index 변수 설정 완료 i =  702\n"
     ]
    },
    {
     "name": "stderr",
     "output_type": "stream",
     "text": [
      " 68%|██████▊   | 441/648 [43:20<1:04:27, 18.68s/it]"
     ]
    },
    {
     "name": "stdout",
     "output_type": "stream",
     "text": [
      "메뉴 데이터의 길이가 맞지 않아 추가하지 않습니다.\n",
      "가격 데이터의 길이가 맞지 않아 추가하지 않습니다.\n",
      "index 변수 설정 완료 i =  703\n"
     ]
    },
    {
     "name": "stderr",
     "output_type": "stream",
     "text": [
      " 68%|██████▊   | 442/648 [45:00<2:27:33, 42.98s/it]"
     ]
    },
    {
     "name": "stdout",
     "output_type": "stream",
     "text": [
      "메뉴 데이터의 길이가 맞지 않아 추가하지 않습니다.\n",
      "가격 데이터의 길이가 맞지 않아 추가하지 않습니다.\n",
      "index 변수 설정 완료 i =  704\n"
     ]
    },
    {
     "name": "stderr",
     "output_type": "stream",
     "text": [
      " 68%|██████▊   | 443/648 [45:07<1:49:47, 32.14s/it]"
     ]
    },
    {
     "name": "stdout",
     "output_type": "stream",
     "text": [
      "메뉴 데이터의 길이가 맞지 않아 추가하지 않습니다.\n",
      "가격 데이터의 길이가 맞지 않아 추가하지 않습니다.\n",
      "index 변수 설정 완료 i =  705\n"
     ]
    },
    {
     "name": "stderr",
     "output_type": "stream",
     "text": [
      " 69%|██████▊   | 444/648 [45:12<1:21:55, 24.09s/it]"
     ]
    },
    {
     "name": "stdout",
     "output_type": "stream",
     "text": [
      "메뉴 데이터의 길이가 맞지 않아 추가하지 않습니다.\n",
      "가격 데이터의 길이가 맞지 않아 추가하지 않습니다.\n",
      "index 변수 설정 완료 i =  706\n"
     ]
    },
    {
     "name": "stderr",
     "output_type": "stream",
     "text": [
      " 69%|██████▊   | 445/648 [45:17<1:02:30, 18.47s/it]"
     ]
    },
    {
     "name": "stdout",
     "output_type": "stream",
     "text": [
      "메뉴 데이터의 길이가 맞지 않아 추가하지 않습니다.\n",
      "가격 데이터의 길이가 맞지 않아 추가하지 않습니다.\n",
      "index 변수 설정 완료 i =  707\n"
     ]
    },
    {
     "name": "stderr",
     "output_type": "stream",
     "text": [
      " 69%|██████▉   | 446/648 [45:24<50:45, 15.08s/it]  "
     ]
    },
    {
     "name": "stdout",
     "output_type": "stream",
     "text": [
      "상위 3개 메뉴 추출 완료\n",
      "메뉴별 가격 추출 완료\n",
      "index 변수 설정 완료 i =  708\n"
     ]
    },
    {
     "name": "stderr",
     "output_type": "stream",
     "text": [
      " 69%|██████▉   | 447/648 [45:30<40:36, 12.12s/it]"
     ]
    },
    {
     "name": "stdout",
     "output_type": "stream",
     "text": [
      "메뉴 데이터의 길이가 맞지 않아 추가하지 않습니다.\n",
      "가격 데이터의 길이가 맞지 않아 추가하지 않습니다.\n",
      "index 변수 설정 완료 i =  709\n"
     ]
    },
    {
     "name": "stderr",
     "output_type": "stream",
     "text": [
      " 69%|██████▉   | 448/648 [45:35<33:36, 10.08s/it]"
     ]
    },
    {
     "name": "stdout",
     "output_type": "stream",
     "text": [
      "상위 3개 메뉴 추출 완료\n",
      "메뉴별 가격 추출 완료\n",
      "index 변수 설정 완료 i =  710\n"
     ]
    },
    {
     "name": "stderr",
     "output_type": "stream",
     "text": [
      " 69%|██████▉   | 449/648 [45:41<28:57,  8.73s/it]"
     ]
    },
    {
     "name": "stdout",
     "output_type": "stream",
     "text": [
      "상위 3개 메뉴 추출 완료\n",
      "메뉴별 가격 추출 완료\n",
      "index 변수 설정 완료 i =  711\n"
     ]
    },
    {
     "name": "stderr",
     "output_type": "stream",
     "text": [
      " 69%|██████▉   | 450/648 [45:46<25:36,  7.76s/it]"
     ]
    },
    {
     "name": "stdout",
     "output_type": "stream",
     "text": [
      "메뉴 데이터의 길이가 맞지 않아 추가하지 않습니다.\n",
      "가격 데이터의 길이가 맞지 않아 추가하지 않습니다.\n",
      "index 변수 설정 완료 i =  712\n"
     ]
    },
    {
     "name": "stderr",
     "output_type": "stream",
     "text": [
      " 70%|██████▉   | 451/648 [45:51<23:05,  7.03s/it]"
     ]
    },
    {
     "name": "stdout",
     "output_type": "stream",
     "text": [
      "상위 3개 메뉴 추출 완료\n",
      "가격 데이터의 길이가 맞지 않아 추가하지 않습니다.\n",
      "index 변수 설정 완료 i =  713\n"
     ]
    },
    {
     "name": "stderr",
     "output_type": "stream",
     "text": [
      " 70%|██████▉   | 452/648 [45:57<21:38,  6.63s/it]"
     ]
    },
    {
     "name": "stdout",
     "output_type": "stream",
     "text": [
      "상위 3개 메뉴 추출 완료\n",
      "메뉴별 가격 추출 완료\n",
      "index 변수 설정 완료 i =  714\n"
     ]
    },
    {
     "name": "stderr",
     "output_type": "stream",
     "text": [
      " 70%|██████▉   | 453/648 [46:02<20:18,  6.25s/it]"
     ]
    },
    {
     "name": "stdout",
     "output_type": "stream",
     "text": [
      "메뉴 데이터의 길이가 맞지 않아 추가하지 않습니다.\n",
      "가격 데이터의 길이가 맞지 않아 추가하지 않습니다.\n",
      "index 변수 설정 완료 i =  715\n"
     ]
    },
    {
     "name": "stderr",
     "output_type": "stream",
     "text": [
      " 70%|███████   | 454/648 [46:08<19:15,  5.96s/it]"
     ]
    },
    {
     "name": "stdout",
     "output_type": "stream",
     "text": [
      "메뉴 데이터의 길이가 맞지 않아 추가하지 않습니다.\n",
      "가격 데이터의 길이가 맞지 않아 추가하지 않습니다.\n",
      "index 변수 설정 완료 i =  716\n"
     ]
    },
    {
     "name": "stderr",
     "output_type": "stream",
     "text": [
      " 70%|███████   | 455/648 [46:13<18:37,  5.79s/it]"
     ]
    },
    {
     "name": "stdout",
     "output_type": "stream",
     "text": [
      "메뉴 데이터의 길이가 맞지 않아 추가하지 않습니다.\n",
      "가격 데이터의 길이가 맞지 않아 추가하지 않습니다.\n",
      "index 변수 설정 완료 i =  717\n"
     ]
    },
    {
     "name": "stderr",
     "output_type": "stream",
     "text": [
      " 70%|███████   | 456/648 [46:18<17:55,  5.60s/it]"
     ]
    },
    {
     "name": "stdout",
     "output_type": "stream",
     "text": [
      "메뉴 데이터의 길이가 맞지 않아 추가하지 않습니다.\n",
      "가격 데이터의 길이가 맞지 않아 추가하지 않습니다.\n",
      "index 변수 설정 완료 i =  718\n",
      "해당 요소를 찾을 수 없습니다: .tit_g\n"
     ]
    },
    {
     "name": "stderr",
     "output_type": "stream",
     "text": [
      " 71%|███████   | 457/648 [46:28<21:31,  6.76s/it]"
     ]
    },
    {
     "name": "stdout",
     "output_type": "stream",
     "text": [
      "상위 3개 메뉴 추출 완료\n",
      "메뉴별 가격 추출 완료\n",
      "index 변수 설정 완료 i =  719\n"
     ]
    },
    {
     "name": "stderr",
     "output_type": "stream",
     "text": [
      " 71%|███████   | 458/648 [46:33<20:00,  6.32s/it]"
     ]
    },
    {
     "name": "stdout",
     "output_type": "stream",
     "text": [
      "메뉴 데이터의 길이가 맞지 않아 추가하지 않습니다.\n",
      "가격 데이터의 길이가 맞지 않아 추가하지 않습니다.\n",
      "index 변수 설정 완료 i =  720\n"
     ]
    },
    {
     "name": "stderr",
     "output_type": "stream",
     "text": [
      " 71%|███████   | 459/648 [46:38<18:56,  6.01s/it]"
     ]
    },
    {
     "name": "stdout",
     "output_type": "stream",
     "text": [
      "메뉴 데이터의 길이가 맞지 않아 추가하지 않습니다.\n",
      "가격 데이터의 길이가 맞지 않아 추가하지 않습니다.\n",
      "index 변수 설정 완료 i =  721\n"
     ]
    },
    {
     "name": "stderr",
     "output_type": "stream",
     "text": [
      " 71%|███████   | 460/648 [46:43<18:01,  5.75s/it]"
     ]
    },
    {
     "name": "stdout",
     "output_type": "stream",
     "text": [
      "메뉴 데이터의 길이가 맞지 않아 추가하지 않습니다.\n",
      "가격 데이터의 길이가 맞지 않아 추가하지 않습니다.\n",
      "index 변수 설정 완료 i =  722\n"
     ]
    },
    {
     "name": "stderr",
     "output_type": "stream",
     "text": [
      " 71%|███████   | 461/648 [46:49<17:32,  5.63s/it]"
     ]
    },
    {
     "name": "stdout",
     "output_type": "stream",
     "text": [
      "상위 3개 메뉴 추출 완료\n",
      "메뉴별 가격 추출 완료\n",
      "index 변수 설정 완료 i =  723\n"
     ]
    },
    {
     "name": "stderr",
     "output_type": "stream",
     "text": [
      " 71%|███████▏  | 462/648 [46:54<17:07,  5.53s/it]"
     ]
    },
    {
     "name": "stdout",
     "output_type": "stream",
     "text": [
      "메뉴 데이터의 길이가 맞지 않아 추가하지 않습니다.\n",
      "가격 데이터의 길이가 맞지 않아 추가하지 않습니다.\n",
      "index 변수 설정 완료 i =  724\n"
     ]
    },
    {
     "name": "stderr",
     "output_type": "stream",
     "text": [
      " 71%|███████▏  | 463/648 [47:00<16:56,  5.50s/it]"
     ]
    },
    {
     "name": "stdout",
     "output_type": "stream",
     "text": [
      "상위 3개 메뉴 추출 완료\n",
      "메뉴별 가격 추출 완료\n",
      "index 변수 설정 완료 i =  725\n"
     ]
    },
    {
     "name": "stderr",
     "output_type": "stream",
     "text": [
      " 72%|███████▏  | 464/648 [47:05<16:56,  5.53s/it]"
     ]
    },
    {
     "name": "stdout",
     "output_type": "stream",
     "text": [
      "메뉴 데이터의 길이가 맞지 않아 추가하지 않습니다.\n",
      "가격 데이터의 길이가 맞지 않아 추가하지 않습니다.\n",
      "index 변수 설정 완료 i =  726\n",
      "해당 요소를 찾을 수 없습니다: .tit_g\n"
     ]
    },
    {
     "name": "stderr",
     "output_type": "stream",
     "text": [
      " 72%|███████▏  | 465/648 [47:15<20:30,  6.72s/it]"
     ]
    },
    {
     "name": "stdout",
     "output_type": "stream",
     "text": [
      "메뉴 데이터의 길이가 맞지 않아 추가하지 않습니다.\n",
      "가격 데이터의 길이가 맞지 않아 추가하지 않습니다.\n",
      "index 변수 설정 완료 i =  727\n"
     ]
    },
    {
     "name": "stderr",
     "output_type": "stream",
     "text": [
      " 72%|███████▏  | 466/648 [47:21<19:49,  6.53s/it]"
     ]
    },
    {
     "name": "stdout",
     "output_type": "stream",
     "text": [
      "메뉴 데이터의 길이가 맞지 않아 추가하지 않습니다.\n",
      "가격 데이터의 길이가 맞지 않아 추가하지 않습니다.\n",
      "index 변수 설정 완료 i =  728\n"
     ]
    },
    {
     "name": "stderr",
     "output_type": "stream",
     "text": [
      " 72%|███████▏  | 467/648 [47:27<19:01,  6.31s/it]"
     ]
    },
    {
     "name": "stdout",
     "output_type": "stream",
     "text": [
      "상위 3개 메뉴 추출 완료\n",
      "메뉴별 가격 추출 완료\n",
      "index 변수 설정 완료 i =  729\n"
     ]
    },
    {
     "name": "stderr",
     "output_type": "stream",
     "text": [
      " 72%|███████▏  | 468/648 [47:32<18:00,  6.00s/it]"
     ]
    },
    {
     "name": "stdout",
     "output_type": "stream",
     "text": [
      "메뉴 데이터의 길이가 맞지 않아 추가하지 않습니다.\n",
      "가격 데이터의 길이가 맞지 않아 추가하지 않습니다.\n",
      "index 변수 설정 완료 i =  730\n"
     ]
    },
    {
     "name": "stderr",
     "output_type": "stream",
     "text": [
      " 72%|███████▏  | 469/648 [47:37<17:20,  5.82s/it]"
     ]
    },
    {
     "name": "stdout",
     "output_type": "stream",
     "text": [
      "상위 3개 메뉴 추출 완료\n",
      "가격 데이터의 길이가 맞지 않아 추가하지 않습니다.\n",
      "index 변수 설정 완료 i =  731\n"
     ]
    },
    {
     "name": "stderr",
     "output_type": "stream",
     "text": [
      " 73%|███████▎  | 470/648 [47:43<16:51,  5.68s/it]"
     ]
    },
    {
     "name": "stdout",
     "output_type": "stream",
     "text": [
      "상위 3개 메뉴 추출 완료\n",
      "가격 데이터의 길이가 맞지 않아 추가하지 않습니다.\n",
      "index 변수 설정 완료 i =  732\n"
     ]
    },
    {
     "name": "stderr",
     "output_type": "stream",
     "text": [
      " 73%|███████▎  | 471/648 [47:48<16:22,  5.55s/it]"
     ]
    },
    {
     "name": "stdout",
     "output_type": "stream",
     "text": [
      "상위 3개 메뉴 추출 완료\n",
      "메뉴별 가격 추출 완료\n",
      "index 변수 설정 완료 i =  733\n"
     ]
    },
    {
     "name": "stderr",
     "output_type": "stream",
     "text": [
      " 73%|███████▎  | 472/648 [47:53<16:09,  5.51s/it]"
     ]
    },
    {
     "name": "stdout",
     "output_type": "stream",
     "text": [
      "메뉴 데이터의 길이가 맞지 않아 추가하지 않습니다.\n",
      "가격 데이터의 길이가 맞지 않아 추가하지 않습니다.\n",
      "index 변수 설정 완료 i =  734\n"
     ]
    },
    {
     "name": "stderr",
     "output_type": "stream",
     "text": [
      " 73%|███████▎  | 473/648 [47:58<15:46,  5.41s/it]"
     ]
    },
    {
     "name": "stdout",
     "output_type": "stream",
     "text": [
      "상위 3개 메뉴 추출 완료\n",
      "가격 데이터의 길이가 맞지 않아 추가하지 않습니다.\n",
      "index 변수 설정 완료 i =  735\n"
     ]
    },
    {
     "name": "stderr",
     "output_type": "stream",
     "text": [
      " 73%|███████▎  | 474/648 [48:05<16:23,  5.65s/it]"
     ]
    },
    {
     "name": "stdout",
     "output_type": "stream",
     "text": [
      "메뉴 데이터의 길이가 맞지 않아 추가하지 않습니다.\n",
      "가격 데이터의 길이가 맞지 않아 추가하지 않습니다.\n",
      "index 변수 설정 완료 i =  736\n"
     ]
    },
    {
     "name": "stderr",
     "output_type": "stream",
     "text": [
      " 73%|███████▎  | 475/648 [48:10<16:03,  5.57s/it]"
     ]
    },
    {
     "name": "stdout",
     "output_type": "stream",
     "text": [
      "메뉴 데이터의 길이가 맞지 않아 추가하지 않습니다.\n",
      "가격 데이터의 길이가 맞지 않아 추가하지 않습니다.\n",
      "index 변수 설정 완료 i =  737\n",
      "해당 요소를 찾을 수 없습니다: .tit_g\n"
     ]
    },
    {
     "name": "stderr",
     "output_type": "stream",
     "text": [
      " 73%|███████▎  | 476/648 [48:19<19:04,  6.66s/it]"
     ]
    },
    {
     "name": "stdout",
     "output_type": "stream",
     "text": [
      "상위 3개 메뉴 추출 완료\n",
      "메뉴별 가격 추출 완료\n",
      "index 변수 설정 완료 i =  738\n"
     ]
    },
    {
     "name": "stderr",
     "output_type": "stream",
     "text": [
      " 74%|███████▎  | 477/648 [48:24<17:43,  6.22s/it]"
     ]
    },
    {
     "name": "stdout",
     "output_type": "stream",
     "text": [
      "메뉴 데이터의 길이가 맞지 않아 추가하지 않습니다.\n",
      "가격 데이터의 길이가 맞지 않아 추가하지 않습니다.\n",
      "index 변수 설정 완료 i =  739\n"
     ]
    },
    {
     "name": "stderr",
     "output_type": "stream",
     "text": [
      " 74%|███████▍  | 478/648 [48:30<17:03,  6.02s/it]"
     ]
    },
    {
     "name": "stdout",
     "output_type": "stream",
     "text": [
      "상위 3개 메뉴 추출 완료\n",
      "메뉴별 가격 추출 완료\n",
      "index 변수 설정 완료 i =  740\n"
     ]
    },
    {
     "name": "stderr",
     "output_type": "stream",
     "text": [
      " 74%|███████▍  | 479/648 [48:35<16:18,  5.79s/it]"
     ]
    },
    {
     "name": "stdout",
     "output_type": "stream",
     "text": [
      "메뉴 데이터의 길이가 맞지 않아 추가하지 않습니다.\n",
      "가격 데이터의 길이가 맞지 않아 추가하지 않습니다.\n",
      "index 변수 설정 완료 i =  741\n"
     ]
    },
    {
     "name": "stderr",
     "output_type": "stream",
     "text": [
      " 74%|███████▍  | 480/648 [48:41<15:50,  5.66s/it]"
     ]
    },
    {
     "name": "stdout",
     "output_type": "stream",
     "text": [
      "상위 3개 메뉴 추출 완료\n",
      "메뉴별 가격 추출 완료\n",
      "index 변수 설정 완료 i =  742\n"
     ]
    },
    {
     "name": "stderr",
     "output_type": "stream",
     "text": [
      " 74%|███████▍  | 481/648 [48:46<15:22,  5.53s/it]"
     ]
    },
    {
     "name": "stdout",
     "output_type": "stream",
     "text": [
      "메뉴 데이터의 길이가 맞지 않아 추가하지 않습니다.\n",
      "가격 데이터의 길이가 맞지 않아 추가하지 않습니다.\n",
      "index 변수 설정 완료 i =  743\n"
     ]
    },
    {
     "name": "stderr",
     "output_type": "stream",
     "text": [
      " 74%|███████▍  | 482/648 [48:51<15:05,  5.45s/it]"
     ]
    },
    {
     "name": "stdout",
     "output_type": "stream",
     "text": [
      "상위 3개 메뉴 추출 완료\n",
      "메뉴별 가격 추출 완료\n",
      "index 변수 설정 완료 i =  744\n"
     ]
    },
    {
     "name": "stderr",
     "output_type": "stream",
     "text": [
      " 75%|███████▍  | 483/648 [48:57<15:04,  5.48s/it]"
     ]
    },
    {
     "name": "stdout",
     "output_type": "stream",
     "text": [
      "상위 3개 메뉴 추출 완료\n",
      "메뉴별 가격 추출 완료\n",
      "index 변수 설정 완료 i =  745\n",
      "해당 요소를 찾을 수 없습니다: .tit_g\n"
     ]
    },
    {
     "name": "stderr",
     "output_type": "stream",
     "text": [
      " 75%|███████▍  | 484/648 [49:04<16:35,  6.07s/it]"
     ]
    },
    {
     "name": "stdout",
     "output_type": "stream",
     "text": [
      "index 변수 설정 완료 i =  746\n",
      "해당 요소를 찾을 수 없습니다: .tit_g\n"
     ]
    },
    {
     "name": "stderr",
     "output_type": "stream",
     "text": [
      " 75%|███████▍  | 485/648 [49:12<17:49,  6.56s/it]"
     ]
    },
    {
     "name": "stdout",
     "output_type": "stream",
     "text": [
      "index 변수 설정 완료 i =  747\n"
     ]
    },
    {
     "name": "stderr",
     "output_type": "stream",
     "text": [
      " 75%|███████▌  | 486/648 [49:17<16:45,  6.21s/it]"
     ]
    },
    {
     "name": "stdout",
     "output_type": "stream",
     "text": [
      "메뉴 데이터의 길이가 맞지 않아 추가하지 않습니다.\n",
      "가격 데이터의 길이가 맞지 않아 추가하지 않습니다.\n",
      "index 변수 설정 완료 i =  748\n"
     ]
    },
    {
     "name": "stderr",
     "output_type": "stream",
     "text": [
      " 75%|███████▌  | 487/648 [49:22<15:55,  5.93s/it]"
     ]
    },
    {
     "name": "stdout",
     "output_type": "stream",
     "text": [
      "상위 3개 메뉴 추출 완료\n",
      "가격 데이터의 길이가 맞지 않아 추가하지 않습니다.\n",
      "index 변수 설정 완료 i =  749\n"
     ]
    },
    {
     "name": "stderr",
     "output_type": "stream",
     "text": [
      " 75%|███████▌  | 488/648 [49:28<15:21,  5.76s/it]"
     ]
    },
    {
     "name": "stdout",
     "output_type": "stream",
     "text": [
      "메뉴 데이터의 길이가 맞지 않아 추가하지 않습니다.\n",
      "가격 데이터의 길이가 맞지 않아 추가하지 않습니다.\n",
      "index 변수 설정 완료 i =  750\n"
     ]
    },
    {
     "name": "stderr",
     "output_type": "stream",
     "text": [
      " 75%|███████▌  | 489/648 [49:33<14:57,  5.65s/it]"
     ]
    },
    {
     "name": "stdout",
     "output_type": "stream",
     "text": [
      "상위 3개 메뉴 추출 완료\n",
      "가격 데이터의 길이가 맞지 않아 추가하지 않습니다.\n",
      "index 변수 설정 완료 i =  751\n"
     ]
    },
    {
     "name": "stderr",
     "output_type": "stream",
     "text": [
      " 76%|███████▌  | 490/648 [49:38<14:34,  5.53s/it]"
     ]
    },
    {
     "name": "stdout",
     "output_type": "stream",
     "text": [
      "상위 3개 메뉴 추출 완료\n",
      "메뉴별 가격 추출 완료\n",
      "index 변수 설정 완료 i =  752\n",
      "해당 요소를 찾을 수 없습니다: .tit_g\n"
     ]
    },
    {
     "name": "stderr",
     "output_type": "stream",
     "text": [
      " 76%|███████▌  | 491/648 [49:46<16:04,  6.14s/it]"
     ]
    },
    {
     "name": "stdout",
     "output_type": "stream",
     "text": [
      "index 변수 설정 완료 i =  753\n"
     ]
    },
    {
     "name": "stderr",
     "output_type": "stream",
     "text": [
      " 76%|███████▌  | 492/648 [49:51<15:24,  5.92s/it]"
     ]
    },
    {
     "name": "stdout",
     "output_type": "stream",
     "text": [
      "메뉴 데이터의 길이가 맞지 않아 추가하지 않습니다.\n",
      "가격 데이터의 길이가 맞지 않아 추가하지 않습니다.\n",
      "index 변수 설정 완료 i =  754\n"
     ]
    },
    {
     "name": "stderr",
     "output_type": "stream",
     "text": [
      " 76%|███████▌  | 493/648 [49:57<14:53,  5.76s/it]"
     ]
    },
    {
     "name": "stdout",
     "output_type": "stream",
     "text": [
      "상위 3개 메뉴 추출 완료\n",
      "메뉴별 가격 추출 완료\n",
      "index 변수 설정 완료 i =  755\n",
      "해당 요소를 찾을 수 없습니다: .tit_g\n"
     ]
    },
    {
     "name": "stderr",
     "output_type": "stream",
     "text": [
      " 76%|███████▌  | 494/648 [50:04<16:07,  6.28s/it]"
     ]
    },
    {
     "name": "stdout",
     "output_type": "stream",
     "text": [
      "index 변수 설정 완료 i =  756\n"
     ]
    },
    {
     "name": "stderr",
     "output_type": "stream",
     "text": [
      " 76%|███████▋  | 495/648 [50:10<15:15,  5.98s/it]"
     ]
    },
    {
     "name": "stdout",
     "output_type": "stream",
     "text": [
      "상위 3개 메뉴 추출 완료\n",
      "가격 데이터의 길이가 맞지 않아 추가하지 않습니다.\n",
      "index 변수 설정 완료 i =  757\n"
     ]
    },
    {
     "name": "stderr",
     "output_type": "stream",
     "text": [
      " 77%|███████▋  | 496/648 [50:15<14:36,  5.77s/it]"
     ]
    },
    {
     "name": "stdout",
     "output_type": "stream",
     "text": [
      "상위 3개 메뉴 추출 완료\n",
      "메뉴별 가격 추출 완료\n",
      "index 변수 설정 완료 i =  758\n",
      "해당 요소를 찾을 수 없습니다: .tit_g\n"
     ]
    },
    {
     "name": "stderr",
     "output_type": "stream",
     "text": [
      " 77%|███████▋  | 497/648 [50:24<17:06,  6.80s/it]"
     ]
    },
    {
     "name": "stdout",
     "output_type": "stream",
     "text": [
      "메뉴 데이터의 길이가 맞지 않아 추가하지 않습니다.\n",
      "가격 데이터의 길이가 맞지 않아 추가하지 않습니다.\n",
      "index 변수 설정 완료 i =  759\n",
      "해당 요소를 찾을 수 없습니다: .tit_g\n"
     ]
    },
    {
     "name": "stderr",
     "output_type": "stream",
     "text": [
      " 77%|███████▋  | 498/648 [50:33<18:54,  7.56s/it]"
     ]
    },
    {
     "name": "stdout",
     "output_type": "stream",
     "text": [
      "메뉴 데이터의 길이가 맞지 않아 추가하지 않습니다.\n",
      "가격 데이터의 길이가 맞지 않아 추가하지 않습니다.\n",
      "index 변수 설정 완료 i =  760\n"
     ]
    },
    {
     "name": "stderr",
     "output_type": "stream",
     "text": [
      " 77%|███████▋  | 499/648 [50:39<17:12,  6.93s/it]"
     ]
    },
    {
     "name": "stdout",
     "output_type": "stream",
     "text": [
      "상위 3개 메뉴 추출 완료\n",
      "메뉴별 가격 추출 완료\n",
      "index 변수 설정 완료 i =  761\n"
     ]
    },
    {
     "name": "stderr",
     "output_type": "stream",
     "text": [
      " 77%|███████▋  | 500/648 [50:44<15:55,  6.46s/it]"
     ]
    },
    {
     "name": "stdout",
     "output_type": "stream",
     "text": [
      "메뉴 데이터의 길이가 맞지 않아 추가하지 않습니다.\n",
      "가격 데이터의 길이가 맞지 않아 추가하지 않습니다.\n",
      "index 변수 설정 완료 i =  762\n"
     ]
    },
    {
     "name": "stderr",
     "output_type": "stream",
     "text": [
      " 77%|███████▋  | 501/648 [50:50<15:04,  6.15s/it]"
     ]
    },
    {
     "name": "stdout",
     "output_type": "stream",
     "text": [
      "메뉴 데이터의 길이가 맞지 않아 추가하지 않습니다.\n",
      "가격 데이터의 길이가 맞지 않아 추가하지 않습니다.\n",
      "index 변수 설정 완료 i =  763\n"
     ]
    },
    {
     "name": "stderr",
     "output_type": "stream",
     "text": [
      " 77%|███████▋  | 502/648 [50:55<14:25,  5.93s/it]"
     ]
    },
    {
     "name": "stdout",
     "output_type": "stream",
     "text": [
      "메뉴 데이터의 길이가 맞지 않아 추가하지 않습니다.\n",
      "가격 데이터의 길이가 맞지 않아 추가하지 않습니다.\n",
      "index 변수 설정 완료 i =  764\n"
     ]
    },
    {
     "name": "stderr",
     "output_type": "stream",
     "text": [
      " 78%|███████▊  | 503/648 [51:00<13:50,  5.73s/it]"
     ]
    },
    {
     "name": "stdout",
     "output_type": "stream",
     "text": [
      "상위 3개 메뉴 추출 완료\n",
      "가격 데이터의 길이가 맞지 않아 추가하지 않습니다.\n",
      "index 변수 설정 완료 i =  765\n"
     ]
    },
    {
     "name": "stderr",
     "output_type": "stream",
     "text": [
      " 78%|███████▊  | 504/648 [51:06<13:27,  5.61s/it]"
     ]
    },
    {
     "name": "stdout",
     "output_type": "stream",
     "text": [
      "메뉴 데이터의 길이가 맞지 않아 추가하지 않습니다.\n",
      "가격 데이터의 길이가 맞지 않아 추가하지 않습니다.\n",
      "index 변수 설정 완료 i =  766\n"
     ]
    },
    {
     "name": "stderr",
     "output_type": "stream",
     "text": [
      " 78%|███████▊  | 505/648 [51:11<13:12,  5.54s/it]"
     ]
    },
    {
     "name": "stdout",
     "output_type": "stream",
     "text": [
      "상위 3개 메뉴 추출 완료\n",
      "메뉴별 가격 추출 완료\n",
      "index 변수 설정 완료 i =  767\n"
     ]
    },
    {
     "name": "stderr",
     "output_type": "stream",
     "text": [
      " 78%|███████▊  | 506/648 [51:16<13:02,  5.51s/it]"
     ]
    },
    {
     "name": "stdout",
     "output_type": "stream",
     "text": [
      "메뉴 데이터의 길이가 맞지 않아 추가하지 않습니다.\n",
      "가격 데이터의 길이가 맞지 않아 추가하지 않습니다.\n",
      "index 변수 설정 완료 i =  768\n"
     ]
    },
    {
     "name": "stderr",
     "output_type": "stream",
     "text": [
      " 78%|███████▊  | 507/648 [51:22<13:04,  5.56s/it]"
     ]
    },
    {
     "name": "stdout",
     "output_type": "stream",
     "text": [
      "상위 3개 메뉴 추출 완료\n",
      "메뉴별 가격 추출 완료\n",
      "index 변수 설정 완료 i =  769\n"
     ]
    },
    {
     "name": "stderr",
     "output_type": "stream",
     "text": [
      " 78%|███████▊  | 508/648 [51:28<13:05,  5.61s/it]"
     ]
    },
    {
     "name": "stdout",
     "output_type": "stream",
     "text": [
      "상위 3개 메뉴 추출 완료\n",
      "메뉴별 가격 추출 완료\n",
      "index 변수 설정 완료 i =  770\n",
      "해당 요소를 찾을 수 없습니다: .tit_g\n"
     ]
    },
    {
     "name": "stderr",
     "output_type": "stream",
     "text": [
      " 79%|███████▊  | 509/648 [51:35<14:23,  6.21s/it]"
     ]
    },
    {
     "name": "stdout",
     "output_type": "stream",
     "text": [
      "index 변수 설정 완료 i =  771\n",
      "해당 요소를 찾을 수 없습니다: .tit_g\n"
     ]
    },
    {
     "name": "stderr",
     "output_type": "stream",
     "text": [
      " 79%|███████▊  | 510/648 [51:45<16:30,  7.18s/it]"
     ]
    },
    {
     "name": "stdout",
     "output_type": "stream",
     "text": [
      "메뉴 데이터의 길이가 맞지 않아 추가하지 않습니다.\n",
      "가격 데이터의 길이가 맞지 않아 추가하지 않습니다.\n",
      "index 변수 설정 완료 i =  772\n",
      "해당 요소를 찾을 수 없습니다: .tit_g\n"
     ]
    },
    {
     "name": "stderr",
     "output_type": "stream",
     "text": [
      " 79%|███████▉  | 511/648 [51:54<17:56,  7.86s/it]"
     ]
    },
    {
     "name": "stdout",
     "output_type": "stream",
     "text": [
      "메뉴 데이터의 길이가 맞지 않아 추가하지 않습니다.\n",
      "가격 데이터의 길이가 맞지 않아 추가하지 않습니다.\n",
      "index 변수 설정 완료 i =  773\n"
     ]
    },
    {
     "name": "stderr",
     "output_type": "stream",
     "text": [
      " 79%|███████▉  | 512/648 [52:00<16:00,  7.06s/it]"
     ]
    },
    {
     "name": "stdout",
     "output_type": "stream",
     "text": [
      "메뉴 데이터의 길이가 맞지 않아 추가하지 않습니다.\n",
      "가격 데이터의 길이가 맞지 않아 추가하지 않습니다.\n",
      "index 변수 설정 완료 i =  774\n",
      "해당 요소를 찾을 수 없습니다: .tit_g\n"
     ]
    },
    {
     "name": "stderr",
     "output_type": "stream",
     "text": [
      " 79%|███████▉  | 513/648 [52:07<16:20,  7.26s/it]"
     ]
    },
    {
     "name": "stdout",
     "output_type": "stream",
     "text": [
      "index 변수 설정 완료 i =  775\n"
     ]
    },
    {
     "name": "stderr",
     "output_type": "stream",
     "text": [
      " 79%|███████▉  | 514/648 [52:13<14:57,  6.70s/it]"
     ]
    },
    {
     "name": "stdout",
     "output_type": "stream",
     "text": [
      "상위 3개 메뉴 추출 완료\n",
      "가격 데이터의 길이가 맞지 않아 추가하지 않습니다.\n",
      "index 변수 설정 완료 i =  776\n"
     ]
    },
    {
     "name": "stderr",
     "output_type": "stream",
     "text": [
      " 79%|███████▉  | 515/648 [52:18<14:00,  6.32s/it]"
     ]
    },
    {
     "name": "stdout",
     "output_type": "stream",
     "text": [
      "상위 3개 메뉴 추출 완료\n",
      "메뉴별 가격 추출 완료\n",
      "index 변수 설정 완료 i =  777\n"
     ]
    },
    {
     "name": "stderr",
     "output_type": "stream",
     "text": [
      " 80%|███████▉  | 516/648 [52:24<13:26,  6.11s/it]"
     ]
    },
    {
     "name": "stdout",
     "output_type": "stream",
     "text": [
      "메뉴 데이터의 길이가 맞지 않아 추가하지 않습니다.\n",
      "가격 데이터의 길이가 맞지 않아 추가하지 않습니다.\n",
      "index 변수 설정 완료 i =  778\n"
     ]
    },
    {
     "name": "stderr",
     "output_type": "stream",
     "text": [
      " 80%|███████▉  | 517/648 [52:29<12:53,  5.90s/it]"
     ]
    },
    {
     "name": "stdout",
     "output_type": "stream",
     "text": [
      "상위 3개 메뉴 추출 완료\n",
      "가격 데이터의 길이가 맞지 않아 추가하지 않습니다.\n",
      "index 변수 설정 완료 i =  779\n"
     ]
    },
    {
     "name": "stderr",
     "output_type": "stream",
     "text": [
      " 80%|███████▉  | 518/648 [52:34<12:20,  5.70s/it]"
     ]
    },
    {
     "name": "stdout",
     "output_type": "stream",
     "text": [
      "메뉴 데이터의 길이가 맞지 않아 추가하지 않습니다.\n",
      "가격 데이터의 길이가 맞지 않아 추가하지 않습니다.\n",
      "index 변수 설정 완료 i =  780\n"
     ]
    },
    {
     "name": "stderr",
     "output_type": "stream",
     "text": [
      " 80%|████████  | 519/648 [52:40<12:13,  5.68s/it]"
     ]
    },
    {
     "name": "stdout",
     "output_type": "stream",
     "text": [
      "상위 3개 메뉴 추출 완료\n",
      "메뉴별 가격 추출 완료\n",
      "index 변수 설정 완료 i =  781\n"
     ]
    },
    {
     "name": "stderr",
     "output_type": "stream",
     "text": [
      " 80%|████████  | 520/648 [52:45<11:53,  5.58s/it]"
     ]
    },
    {
     "name": "stdout",
     "output_type": "stream",
     "text": [
      "메뉴 데이터의 길이가 맞지 않아 추가하지 않습니다.\n",
      "가격 데이터의 길이가 맞지 않아 추가하지 않습니다.\n",
      "index 변수 설정 완료 i =  782\n"
     ]
    },
    {
     "name": "stderr",
     "output_type": "stream",
     "text": [
      " 80%|████████  | 521/648 [52:51<11:41,  5.52s/it]"
     ]
    },
    {
     "name": "stdout",
     "output_type": "stream",
     "text": [
      "메뉴 데이터의 길이가 맞지 않아 추가하지 않습니다.\n",
      "가격 데이터의 길이가 맞지 않아 추가하지 않습니다.\n",
      "index 변수 설정 완료 i =  783\n"
     ]
    },
    {
     "name": "stderr",
     "output_type": "stream",
     "text": [
      " 81%|████████  | 522/648 [52:56<11:28,  5.46s/it]"
     ]
    },
    {
     "name": "stdout",
     "output_type": "stream",
     "text": [
      "상위 3개 메뉴 추출 완료\n",
      "메뉴별 가격 추출 완료\n",
      "index 변수 설정 완료 i =  784\n"
     ]
    },
    {
     "name": "stderr",
     "output_type": "stream",
     "text": [
      " 81%|████████  | 523/648 [53:01<11:16,  5.41s/it]"
     ]
    },
    {
     "name": "stdout",
     "output_type": "stream",
     "text": [
      "상위 3개 메뉴 추출 완료\n",
      "가격 데이터의 길이가 맞지 않아 추가하지 않습니다.\n",
      "index 변수 설정 완료 i =  785\n"
     ]
    },
    {
     "name": "stderr",
     "output_type": "stream",
     "text": [
      " 81%|████████  | 524/648 [53:07<11:12,  5.42s/it]"
     ]
    },
    {
     "name": "stdout",
     "output_type": "stream",
     "text": [
      "메뉴 데이터의 길이가 맞지 않아 추가하지 않습니다.\n",
      "가격 데이터의 길이가 맞지 않아 추가하지 않습니다.\n",
      "index 변수 설정 완료 i =  786\n"
     ]
    },
    {
     "name": "stderr",
     "output_type": "stream",
     "text": [
      " 81%|████████  | 525/648 [53:12<11:07,  5.42s/it]"
     ]
    },
    {
     "name": "stdout",
     "output_type": "stream",
     "text": [
      "상위 3개 메뉴 추출 완료\n",
      "메뉴별 가격 추출 완료\n",
      "index 변수 설정 완료 i =  787\n"
     ]
    },
    {
     "name": "stderr",
     "output_type": "stream",
     "text": [
      " 81%|████████  | 526/648 [53:18<11:02,  5.43s/it]"
     ]
    },
    {
     "name": "stdout",
     "output_type": "stream",
     "text": [
      "메뉴 데이터의 길이가 맞지 않아 추가하지 않습니다.\n",
      "가격 데이터의 길이가 맞지 않아 추가하지 않습니다.\n",
      "index 변수 설정 완료 i =  788\n"
     ]
    },
    {
     "name": "stderr",
     "output_type": "stream",
     "text": [
      " 81%|████████▏ | 527/648 [53:23<10:54,  5.41s/it]"
     ]
    },
    {
     "name": "stdout",
     "output_type": "stream",
     "text": [
      "메뉴 데이터의 길이가 맞지 않아 추가하지 않습니다.\n",
      "가격 데이터의 길이가 맞지 않아 추가하지 않습니다.\n",
      "index 변수 설정 완료 i =  789\n",
      "해당 요소를 찾을 수 없습니다: .tit_g\n"
     ]
    },
    {
     "name": "stderr",
     "output_type": "stream",
     "text": [
      " 81%|████████▏ | 528/648 [53:32<13:14,  6.62s/it]"
     ]
    },
    {
     "name": "stdout",
     "output_type": "stream",
     "text": [
      "메뉴 데이터의 길이가 맞지 않아 추가하지 않습니다.\n",
      "가격 데이터의 길이가 맞지 않아 추가하지 않습니다.\n",
      "index 변수 설정 완료 i =  790\n"
     ]
    },
    {
     "name": "stderr",
     "output_type": "stream",
     "text": [
      " 82%|████████▏ | 529/648 [53:38<12:23,  6.25s/it]"
     ]
    },
    {
     "name": "stdout",
     "output_type": "stream",
     "text": [
      "메뉴 데이터의 길이가 맞지 않아 추가하지 않습니다.\n",
      "가격 데이터의 길이가 맞지 않아 추가하지 않습니다.\n",
      "index 변수 설정 완료 i =  791\n"
     ]
    },
    {
     "name": "stderr",
     "output_type": "stream",
     "text": [
      " 82%|████████▏ | 530/648 [53:43<11:45,  5.98s/it]"
     ]
    },
    {
     "name": "stdout",
     "output_type": "stream",
     "text": [
      "메뉴 데이터의 길이가 맞지 않아 추가하지 않습니다.\n",
      "가격 데이터의 길이가 맞지 않아 추가하지 않습니다.\n",
      "index 변수 설정 완료 i =  792\n"
     ]
    },
    {
     "name": "stderr",
     "output_type": "stream",
     "text": [
      " 82%|████████▏ | 531/648 [53:49<11:24,  5.85s/it]"
     ]
    },
    {
     "name": "stdout",
     "output_type": "stream",
     "text": [
      "메뉴 데이터의 길이가 맞지 않아 추가하지 않습니다.\n",
      "가격 데이터의 길이가 맞지 않아 추가하지 않습니다.\n",
      "index 변수 설정 완료 i =  793\n"
     ]
    },
    {
     "name": "stderr",
     "output_type": "stream",
     "text": [
      " 82%|████████▏ | 532/648 [53:54<11:03,  5.72s/it]"
     ]
    },
    {
     "name": "stdout",
     "output_type": "stream",
     "text": [
      "메뉴 데이터의 길이가 맞지 않아 추가하지 않습니다.\n",
      "가격 데이터의 길이가 맞지 않아 추가하지 않습니다.\n",
      "index 변수 설정 완료 i =  794\n"
     ]
    },
    {
     "name": "stderr",
     "output_type": "stream",
     "text": [
      " 82%|████████▏ | 533/648 [54:00<10:46,  5.62s/it]"
     ]
    },
    {
     "name": "stdout",
     "output_type": "stream",
     "text": [
      "상위 3개 메뉴 추출 완료\n",
      "메뉴별 가격 추출 완료\n",
      "index 변수 설정 완료 i =  795\n"
     ]
    },
    {
     "name": "stderr",
     "output_type": "stream",
     "text": [
      " 82%|████████▏ | 534/648 [54:05<10:38,  5.60s/it]"
     ]
    },
    {
     "name": "stdout",
     "output_type": "stream",
     "text": [
      "상위 3개 메뉴 추출 완료\n",
      "메뉴별 가격 추출 완료\n",
      "index 변수 설정 완료 i =  796\n"
     ]
    },
    {
     "name": "stderr",
     "output_type": "stream",
     "text": [
      " 83%|████████▎ | 535/648 [54:10<10:22,  5.51s/it]"
     ]
    },
    {
     "name": "stdout",
     "output_type": "stream",
     "text": [
      "메뉴 데이터의 길이가 맞지 않아 추가하지 않습니다.\n",
      "가격 데이터의 길이가 맞지 않아 추가하지 않습니다.\n",
      "index 변수 설정 완료 i =  797\n"
     ]
    },
    {
     "name": "stderr",
     "output_type": "stream",
     "text": [
      " 83%|████████▎ | 536/648 [54:16<10:10,  5.45s/it]"
     ]
    },
    {
     "name": "stdout",
     "output_type": "stream",
     "text": [
      "상위 3개 메뉴 추출 완료\n",
      "메뉴별 가격 추출 완료\n",
      "index 변수 설정 완료 i =  798\n"
     ]
    },
    {
     "name": "stderr",
     "output_type": "stream",
     "text": [
      " 83%|████████▎ | 537/648 [54:22<10:16,  5.56s/it]"
     ]
    },
    {
     "name": "stdout",
     "output_type": "stream",
     "text": [
      "상위 3개 메뉴 추출 완료\n",
      "메뉴별 가격 추출 완료\n",
      "index 변수 설정 완료 i =  799\n",
      "해당 요소를 찾을 수 없습니다: .tit_g\n"
     ]
    },
    {
     "name": "stderr",
     "output_type": "stream",
     "text": [
      " 83%|████████▎ | 538/648 [54:31<12:12,  6.66s/it]"
     ]
    },
    {
     "name": "stdout",
     "output_type": "stream",
     "text": [
      "메뉴 데이터의 길이가 맞지 않아 추가하지 않습니다.\n",
      "가격 데이터의 길이가 맞지 않아 추가하지 않습니다.\n",
      "index 변수 설정 완료 i =  800\n"
     ]
    },
    {
     "name": "stderr",
     "output_type": "stream",
     "text": [
      " 83%|████████▎ | 539/648 [54:36<11:21,  6.25s/it]"
     ]
    },
    {
     "name": "stdout",
     "output_type": "stream",
     "text": [
      "메뉴 데이터의 길이가 맞지 않아 추가하지 않습니다.\n",
      "가격 데이터의 길이가 맞지 않아 추가하지 않습니다.\n",
      "index 변수 설정 완료 i =  801\n"
     ]
    },
    {
     "name": "stderr",
     "output_type": "stream",
     "text": [
      " 83%|████████▎ | 540/648 [54:41<10:41,  5.94s/it]"
     ]
    },
    {
     "name": "stdout",
     "output_type": "stream",
     "text": [
      "상위 3개 메뉴 추출 완료\n",
      "메뉴별 가격 추출 완료\n",
      "index 변수 설정 완료 i =  802\n"
     ]
    },
    {
     "name": "stderr",
     "output_type": "stream",
     "text": [
      " 83%|████████▎ | 541/648 [54:47<10:28,  5.87s/it]"
     ]
    },
    {
     "name": "stdout",
     "output_type": "stream",
     "text": [
      "상위 3개 메뉴 추출 완료\n",
      "가격 데이터의 길이가 맞지 않아 추가하지 않습니다.\n",
      "index 변수 설정 완료 i =  803\n"
     ]
    },
    {
     "name": "stderr",
     "output_type": "stream",
     "text": [
      " 84%|████████▎ | 542/648 [54:52<10:06,  5.72s/it]"
     ]
    },
    {
     "name": "stdout",
     "output_type": "stream",
     "text": [
      "메뉴 데이터의 길이가 맞지 않아 추가하지 않습니다.\n",
      "가격 데이터의 길이가 맞지 않아 추가하지 않습니다.\n",
      "index 변수 설정 완료 i =  804\n"
     ]
    },
    {
     "name": "stderr",
     "output_type": "stream",
     "text": [
      " 84%|████████▍ | 543/648 [54:58<09:56,  5.68s/it]"
     ]
    },
    {
     "name": "stdout",
     "output_type": "stream",
     "text": [
      "상위 3개 메뉴 추출 완료\n",
      "메뉴별 가격 추출 완료\n",
      "index 변수 설정 완료 i =  805\n"
     ]
    },
    {
     "name": "stderr",
     "output_type": "stream",
     "text": [
      " 84%|████████▍ | 544/648 [55:03<09:41,  5.59s/it]"
     ]
    },
    {
     "name": "stdout",
     "output_type": "stream",
     "text": [
      "상위 3개 메뉴 추출 완료\n",
      "메뉴별 가격 추출 완료\n",
      "index 변수 설정 완료 i =  806\n"
     ]
    },
    {
     "name": "stderr",
     "output_type": "stream",
     "text": [
      " 84%|████████▍ | 545/648 [55:09<09:35,  5.59s/it]"
     ]
    },
    {
     "name": "stdout",
     "output_type": "stream",
     "text": [
      "메뉴 데이터의 길이가 맞지 않아 추가하지 않습니다.\n",
      "가격 데이터의 길이가 맞지 않아 추가하지 않습니다.\n",
      "index 변수 설정 완료 i =  807\n"
     ]
    },
    {
     "name": "stderr",
     "output_type": "stream",
     "text": [
      " 84%|████████▍ | 546/648 [55:14<09:28,  5.57s/it]"
     ]
    },
    {
     "name": "stdout",
     "output_type": "stream",
     "text": [
      "메뉴 데이터의 길이가 맞지 않아 추가하지 않습니다.\n",
      "가격 데이터의 길이가 맞지 않아 추가하지 않습니다.\n",
      "index 변수 설정 완료 i =  808\n"
     ]
    },
    {
     "name": "stderr",
     "output_type": "stream",
     "text": [
      " 84%|████████▍ | 547/648 [55:20<09:19,  5.54s/it]"
     ]
    },
    {
     "name": "stdout",
     "output_type": "stream",
     "text": [
      "상위 3개 메뉴 추출 완료\n",
      "메뉴별 가격 추출 완료\n",
      "index 변수 설정 완료 i =  809\n",
      "해당 요소를 찾을 수 없습니다: .tit_g\n"
     ]
    },
    {
     "name": "stderr",
     "output_type": "stream",
     "text": [
      " 85%|████████▍ | 548/648 [55:28<10:18,  6.19s/it]"
     ]
    },
    {
     "name": "stdout",
     "output_type": "stream",
     "text": [
      "index 변수 설정 완료 i =  810\n"
     ]
    },
    {
     "name": "stderr",
     "output_type": "stream",
     "text": [
      " 85%|████████▍ | 549/648 [55:33<09:50,  5.97s/it]"
     ]
    },
    {
     "name": "stdout",
     "output_type": "stream",
     "text": [
      "상위 3개 메뉴 추출 완료\n",
      "가격 데이터의 길이가 맞지 않아 추가하지 않습니다.\n",
      "index 변수 설정 완료 i =  811\n"
     ]
    },
    {
     "name": "stderr",
     "output_type": "stream",
     "text": [
      " 85%|████████▍ | 550/648 [55:38<09:24,  5.76s/it]"
     ]
    },
    {
     "name": "stdout",
     "output_type": "stream",
     "text": [
      "메뉴 데이터의 길이가 맞지 않아 추가하지 않습니다.\n",
      "가격 데이터의 길이가 맞지 않아 추가하지 않습니다.\n",
      "index 변수 설정 완료 i =  812\n"
     ]
    },
    {
     "name": "stderr",
     "output_type": "stream",
     "text": [
      " 85%|████████▌ | 551/648 [55:44<09:13,  5.71s/it]"
     ]
    },
    {
     "name": "stdout",
     "output_type": "stream",
     "text": [
      "상위 3개 메뉴 추출 완료\n",
      "메뉴별 가격 추출 완료\n",
      "index 변수 설정 완료 i =  813\n"
     ]
    },
    {
     "name": "stderr",
     "output_type": "stream",
     "text": [
      " 85%|████████▌ | 552/648 [55:49<09:00,  5.63s/it]"
     ]
    },
    {
     "name": "stdout",
     "output_type": "stream",
     "text": [
      "상위 3개 메뉴 추출 완료\n",
      "메뉴별 가격 추출 완료\n",
      "index 변수 설정 완료 i =  814\n"
     ]
    },
    {
     "name": "stderr",
     "output_type": "stream",
     "text": [
      " 85%|████████▌ | 553/648 [55:55<08:52,  5.61s/it]"
     ]
    },
    {
     "name": "stdout",
     "output_type": "stream",
     "text": [
      "메뉴 데이터의 길이가 맞지 않아 추가하지 않습니다.\n",
      "가격 데이터의 길이가 맞지 않아 추가하지 않습니다.\n",
      "index 변수 설정 완료 i =  815\n"
     ]
    },
    {
     "name": "stderr",
     "output_type": "stream",
     "text": [
      " 85%|████████▌ | 554/648 [56:00<08:41,  5.55s/it]"
     ]
    },
    {
     "name": "stdout",
     "output_type": "stream",
     "text": [
      "상위 3개 메뉴 추출 완료\n",
      "메뉴별 가격 추출 완료\n",
      "index 변수 설정 완료 i =  816\n"
     ]
    },
    {
     "name": "stderr",
     "output_type": "stream",
     "text": [
      " 86%|████████▌ | 555/648 [56:06<08:27,  5.46s/it]"
     ]
    },
    {
     "name": "stdout",
     "output_type": "stream",
     "text": [
      "상위 3개 메뉴 추출 완료\n",
      "메뉴별 가격 추출 완료\n",
      "index 변수 설정 완료 i =  817\n",
      "해당 요소를 찾을 수 없습니다: .tit_g\n"
     ]
    },
    {
     "name": "stderr",
     "output_type": "stream",
     "text": [
      " 86%|████████▌ | 556/648 [56:15<10:06,  6.60s/it]"
     ]
    },
    {
     "name": "stdout",
     "output_type": "stream",
     "text": [
      "상위 3개 메뉴 추출 완료\n",
      "메뉴별 가격 추출 완료\n",
      "index 변수 설정 완료 i =  818\n"
     ]
    },
    {
     "name": "stderr",
     "output_type": "stream",
     "text": [
      " 86%|████████▌ | 557/648 [56:20<09:33,  6.31s/it]"
     ]
    },
    {
     "name": "stdout",
     "output_type": "stream",
     "text": [
      "메뉴 데이터의 길이가 맞지 않아 추가하지 않습니다.\n",
      "가격 데이터의 길이가 맞지 않아 추가하지 않습니다.\n",
      "index 변수 설정 완료 i =  819\n",
      "해당 요소를 찾을 수 없습니다: .tit_g\n"
     ]
    },
    {
     "name": "stderr",
     "output_type": "stream",
     "text": [
      " 86%|████████▌ | 558/648 [56:28<10:07,  6.75s/it]"
     ]
    },
    {
     "name": "stdout",
     "output_type": "stream",
     "text": [
      "index 변수 설정 완료 i =  820\n"
     ]
    },
    {
     "name": "stderr",
     "output_type": "stream",
     "text": [
      " 86%|████████▋ | 559/648 [56:34<09:23,  6.34s/it]"
     ]
    },
    {
     "name": "stdout",
     "output_type": "stream",
     "text": [
      "메뉴 데이터의 길이가 맞지 않아 추가하지 않습니다.\n",
      "가격 데이터의 길이가 맞지 않아 추가하지 않습니다.\n",
      "index 변수 설정 완료 i =  821\n"
     ]
    },
    {
     "name": "stderr",
     "output_type": "stream",
     "text": [
      " 86%|████████▋ | 560/648 [56:39<08:59,  6.13s/it]"
     ]
    },
    {
     "name": "stdout",
     "output_type": "stream",
     "text": [
      "상위 3개 메뉴 추출 완료\n",
      "가격 데이터의 길이가 맞지 않아 추가하지 않습니다.\n",
      "index 변수 설정 완료 i =  822\n"
     ]
    },
    {
     "name": "stderr",
     "output_type": "stream",
     "text": [
      " 87%|████████▋ | 561/648 [56:45<08:37,  5.94s/it]"
     ]
    },
    {
     "name": "stdout",
     "output_type": "stream",
     "text": [
      "상위 3개 메뉴 추출 완료\n",
      "메뉴별 가격 추출 완료\n",
      "index 변수 설정 완료 i =  823\n"
     ]
    },
    {
     "name": "stderr",
     "output_type": "stream",
     "text": [
      " 87%|████████▋ | 562/648 [56:50<08:16,  5.77s/it]"
     ]
    },
    {
     "name": "stdout",
     "output_type": "stream",
     "text": [
      "상위 3개 메뉴 추출 완료\n",
      "가격 데이터의 길이가 맞지 않아 추가하지 않습니다.\n",
      "index 변수 설정 완료 i =  824\n"
     ]
    },
    {
     "name": "stderr",
     "output_type": "stream",
     "text": [
      " 87%|████████▋ | 563/648 [56:56<08:02,  5.68s/it]"
     ]
    },
    {
     "name": "stdout",
     "output_type": "stream",
     "text": [
      "메뉴 데이터의 길이가 맞지 않아 추가하지 않습니다.\n",
      "가격 데이터의 길이가 맞지 않아 추가하지 않습니다.\n",
      "index 변수 설정 완료 i =  825\n"
     ]
    },
    {
     "name": "stderr",
     "output_type": "stream",
     "text": [
      " 87%|████████▋ | 564/648 [57:01<07:54,  5.65s/it]"
     ]
    },
    {
     "name": "stdout",
     "output_type": "stream",
     "text": [
      "메뉴 데이터의 길이가 맞지 않아 추가하지 않습니다.\n",
      "가격 데이터의 길이가 맞지 않아 추가하지 않습니다.\n",
      "index 변수 설정 완료 i =  826\n",
      "해당 요소를 찾을 수 없습니다: .tit_g\n"
     ]
    },
    {
     "name": "stderr",
     "output_type": "stream",
     "text": [
      " 87%|████████▋ | 565/648 [57:11<09:21,  6.77s/it]"
     ]
    },
    {
     "name": "stdout",
     "output_type": "stream",
     "text": [
      "상위 3개 메뉴 추출 완료\n",
      "메뉴별 가격 추출 완료\n",
      "index 변수 설정 완료 i =  827\n"
     ]
    },
    {
     "name": "stderr",
     "output_type": "stream",
     "text": [
      " 87%|████████▋ | 566/648 [57:16<08:36,  6.30s/it]"
     ]
    },
    {
     "name": "stdout",
     "output_type": "stream",
     "text": [
      "상위 3개 메뉴 추출 완료\n",
      "메뉴별 가격 추출 완료\n",
      "index 변수 설정 완료 i =  828\n"
     ]
    },
    {
     "name": "stderr",
     "output_type": "stream",
     "text": [
      " 88%|████████▊ | 567/648 [57:21<08:06,  6.01s/it]"
     ]
    },
    {
     "name": "stdout",
     "output_type": "stream",
     "text": [
      "메뉴 데이터의 길이가 맞지 않아 추가하지 않습니다.\n",
      "가격 데이터의 길이가 맞지 않아 추가하지 않습니다.\n",
      "index 변수 설정 완료 i =  829\n"
     ]
    },
    {
     "name": "stderr",
     "output_type": "stream",
     "text": [
      " 88%|████████▊ | 568/648 [57:26<07:43,  5.79s/it]"
     ]
    },
    {
     "name": "stdout",
     "output_type": "stream",
     "text": [
      "상위 3개 메뉴 추출 완료\n",
      "메뉴별 가격 추출 완료\n",
      "index 변수 설정 완료 i =  830\n"
     ]
    },
    {
     "name": "stderr",
     "output_type": "stream",
     "text": [
      " 88%|████████▊ | 569/648 [57:32<07:25,  5.64s/it]"
     ]
    },
    {
     "name": "stdout",
     "output_type": "stream",
     "text": [
      "상위 3개 메뉴 추출 완료\n",
      "메뉴별 가격 추출 완료\n",
      "index 변수 설정 완료 i =  831\n",
      "해당 요소를 찾을 수 없습니다: .tit_g\n"
     ]
    },
    {
     "name": "stderr",
     "output_type": "stream",
     "text": [
      " 88%|████████▊ | 570/648 [57:41<08:47,  6.76s/it]"
     ]
    },
    {
     "name": "stdout",
     "output_type": "stream",
     "text": [
      "메뉴 데이터의 길이가 맞지 않아 추가하지 않습니다.\n",
      "가격 데이터의 길이가 맞지 않아 추가하지 않습니다.\n",
      "index 변수 설정 완료 i =  832\n"
     ]
    },
    {
     "name": "stderr",
     "output_type": "stream",
     "text": [
      " 88%|████████▊ | 571/648 [57:47<08:10,  6.36s/it]"
     ]
    },
    {
     "name": "stdout",
     "output_type": "stream",
     "text": [
      "상위 3개 메뉴 추출 완료\n",
      "메뉴별 가격 추출 완료\n",
      "index 변수 설정 완료 i =  833\n"
     ]
    },
    {
     "name": "stderr",
     "output_type": "stream",
     "text": [
      " 88%|████████▊ | 572/648 [57:52<07:51,  6.21s/it]"
     ]
    },
    {
     "name": "stdout",
     "output_type": "stream",
     "text": [
      "메뉴 데이터의 길이가 맞지 않아 추가하지 않습니다.\n",
      "가격 데이터의 길이가 맞지 않아 추가하지 않습니다.\n",
      "index 변수 설정 완료 i =  834\n"
     ]
    },
    {
     "name": "stderr",
     "output_type": "stream",
     "text": [
      " 88%|████████▊ | 573/648 [57:58<07:22,  5.90s/it]"
     ]
    },
    {
     "name": "stdout",
     "output_type": "stream",
     "text": [
      "메뉴 데이터의 길이가 맞지 않아 추가하지 않습니다.\n",
      "가격 데이터의 길이가 맞지 않아 추가하지 않습니다.\n",
      "index 변수 설정 완료 i =  835\n",
      "해당 요소를 찾을 수 없습니다: .tit_g\n"
     ]
    },
    {
     "name": "stderr",
     "output_type": "stream",
     "text": [
      " 89%|████████▊ | 574/648 [58:07<08:34,  6.95s/it]"
     ]
    },
    {
     "name": "stdout",
     "output_type": "stream",
     "text": [
      "메뉴 데이터의 길이가 맞지 않아 추가하지 않습니다.\n",
      "가격 데이터의 길이가 맞지 않아 추가하지 않습니다.\n",
      "index 변수 설정 완료 i =  836\n"
     ]
    },
    {
     "name": "stderr",
     "output_type": "stream",
     "text": [
      " 89%|████████▊ | 575/648 [58:12<07:51,  6.46s/it]"
     ]
    },
    {
     "name": "stdout",
     "output_type": "stream",
     "text": [
      "상위 3개 메뉴 추출 완료\n",
      "메뉴별 가격 추출 완료\n",
      "index 변수 설정 완료 i =  837\n"
     ]
    },
    {
     "name": "stderr",
     "output_type": "stream",
     "text": [
      " 89%|████████▉ | 576/648 [58:18<07:23,  6.16s/it]"
     ]
    },
    {
     "name": "stdout",
     "output_type": "stream",
     "text": [
      "상위 3개 메뉴 추출 완료\n",
      "가격 데이터의 길이가 맞지 않아 추가하지 않습니다.\n",
      "index 변수 설정 완료 i =  838\n"
     ]
    },
    {
     "name": "stderr",
     "output_type": "stream",
     "text": [
      " 89%|████████▉ | 577/648 [58:23<07:02,  5.95s/it]"
     ]
    },
    {
     "name": "stdout",
     "output_type": "stream",
     "text": [
      "상위 3개 메뉴 추출 완료\n",
      "메뉴별 가격 추출 완료\n",
      "index 변수 설정 완료 i =  839\n"
     ]
    },
    {
     "name": "stderr",
     "output_type": "stream",
     "text": [
      " 89%|████████▉ | 578/648 [58:29<06:50,  5.87s/it]"
     ]
    },
    {
     "name": "stdout",
     "output_type": "stream",
     "text": [
      "메뉴 데이터의 길이가 맞지 않아 추가하지 않습니다.\n",
      "가격 데이터의 길이가 맞지 않아 추가하지 않습니다.\n",
      "index 변수 설정 완료 i =  840\n"
     ]
    },
    {
     "name": "stderr",
     "output_type": "stream",
     "text": [
      " 89%|████████▉ | 579/648 [58:34<06:33,  5.71s/it]"
     ]
    },
    {
     "name": "stdout",
     "output_type": "stream",
     "text": [
      "상위 3개 메뉴 추출 완료\n",
      "메뉴별 가격 추출 완료\n",
      "index 변수 설정 완료 i =  841\n",
      "해당 요소를 찾을 수 없습니다: .tit_g\n"
     ]
    },
    {
     "name": "stderr",
     "output_type": "stream",
     "text": [
      " 90%|████████▉ | 580/648 [58:44<07:47,  6.88s/it]"
     ]
    },
    {
     "name": "stdout",
     "output_type": "stream",
     "text": [
      "메뉴 데이터의 길이가 맞지 않아 추가하지 않습니다.\n",
      "가격 데이터의 길이가 맞지 않아 추가하지 않습니다.\n",
      "index 변수 설정 완료 i =  842\n"
     ]
    },
    {
     "name": "stderr",
     "output_type": "stream",
     "text": [
      " 90%|████████▉ | 581/648 [58:49<07:12,  6.45s/it]"
     ]
    },
    {
     "name": "stdout",
     "output_type": "stream",
     "text": [
      "메뉴 데이터의 길이가 맞지 않아 추가하지 않습니다.\n",
      "가격 데이터의 길이가 맞지 않아 추가하지 않습니다.\n",
      "index 변수 설정 완료 i =  843\n",
      "해당 요소를 찾을 수 없습니다: .tit_g\n"
     ]
    },
    {
     "name": "stderr",
     "output_type": "stream",
     "text": [
      " 90%|████████▉ | 582/648 [58:59<08:05,  7.35s/it]"
     ]
    },
    {
     "name": "stdout",
     "output_type": "stream",
     "text": [
      "메뉴 데이터의 길이가 맞지 않아 추가하지 않습니다.\n",
      "가격 데이터의 길이가 맞지 않아 추가하지 않습니다.\n",
      "index 변수 설정 완료 i =  844\n"
     ]
    },
    {
     "name": "stderr",
     "output_type": "stream",
     "text": [
      " 90%|████████▉ | 583/648 [59:04<07:18,  6.75s/it]"
     ]
    },
    {
     "name": "stdout",
     "output_type": "stream",
     "text": [
      "메뉴 데이터의 길이가 맞지 않아 추가하지 않습니다.\n",
      "가격 데이터의 길이가 맞지 않아 추가하지 않습니다.\n",
      "index 변수 설정 완료 i =  845\n"
     ]
    },
    {
     "name": "stderr",
     "output_type": "stream",
     "text": [
      " 90%|█████████ | 584/648 [59:09<06:42,  6.29s/it]"
     ]
    },
    {
     "name": "stdout",
     "output_type": "stream",
     "text": [
      "상위 3개 메뉴 추출 완료\n",
      "메뉴별 가격 추출 완료\n",
      "index 변수 설정 완료 i =  846\n"
     ]
    },
    {
     "name": "stderr",
     "output_type": "stream",
     "text": [
      " 90%|█████████ | 585/648 [59:15<06:23,  6.09s/it]"
     ]
    },
    {
     "name": "stdout",
     "output_type": "stream",
     "text": [
      "메뉴 데이터의 길이가 맞지 않아 추가하지 않습니다.\n",
      "가격 데이터의 길이가 맞지 않아 추가하지 않습니다.\n",
      "index 변수 설정 완료 i =  847\n"
     ]
    },
    {
     "name": "stderr",
     "output_type": "stream",
     "text": [
      " 90%|█████████ | 586/648 [59:20<06:02,  5.85s/it]"
     ]
    },
    {
     "name": "stdout",
     "output_type": "stream",
     "text": [
      "상위 3개 메뉴 추출 완료\n",
      "메뉴별 가격 추출 완료\n",
      "index 변수 설정 완료 i =  848\n"
     ]
    },
    {
     "name": "stderr",
     "output_type": "stream",
     "text": [
      " 91%|█████████ | 587/648 [59:25<05:45,  5.67s/it]"
     ]
    },
    {
     "name": "stdout",
     "output_type": "stream",
     "text": [
      "상위 3개 메뉴 추출 완료\n",
      "메뉴별 가격 추출 완료\n",
      "index 변수 설정 완료 i =  849\n"
     ]
    },
    {
     "name": "stderr",
     "output_type": "stream",
     "text": [
      " 91%|█████████ | 588/648 [59:31<05:38,  5.64s/it]"
     ]
    },
    {
     "name": "stdout",
     "output_type": "stream",
     "text": [
      "상위 3개 메뉴 추출 완료\n",
      "가격 데이터의 길이가 맞지 않아 추가하지 않습니다.\n",
      "index 변수 설정 완료 i =  850\n"
     ]
    },
    {
     "name": "stderr",
     "output_type": "stream",
     "text": [
      " 91%|█████████ | 589/648 [59:36<05:25,  5.51s/it]"
     ]
    },
    {
     "name": "stdout",
     "output_type": "stream",
     "text": [
      "상위 3개 메뉴 추출 완료\n",
      "메뉴별 가격 추출 완료\n",
      "index 변수 설정 완료 i =  851\n"
     ]
    },
    {
     "name": "stderr",
     "output_type": "stream",
     "text": [
      " 91%|█████████ | 590/648 [59:42<05:16,  5.46s/it]"
     ]
    },
    {
     "name": "stdout",
     "output_type": "stream",
     "text": [
      "메뉴 데이터의 길이가 맞지 않아 추가하지 않습니다.\n",
      "가격 데이터의 길이가 맞지 않아 추가하지 않습니다.\n",
      "index 변수 설정 완료 i =  852\n"
     ]
    },
    {
     "name": "stderr",
     "output_type": "stream",
     "text": [
      " 91%|█████████ | 591/648 [59:47<05:14,  5.52s/it]"
     ]
    },
    {
     "name": "stdout",
     "output_type": "stream",
     "text": [
      "상위 3개 메뉴 추출 완료\n",
      "메뉴별 가격 추출 완료\n",
      "index 변수 설정 완료 i =  853\n"
     ]
    },
    {
     "name": "stderr",
     "output_type": "stream",
     "text": [
      " 91%|█████████▏| 592/648 [59:53<05:05,  5.46s/it]"
     ]
    },
    {
     "name": "stdout",
     "output_type": "stream",
     "text": [
      "상위 3개 메뉴 추출 완료\n",
      "메뉴별 가격 추출 완료\n",
      "index 변수 설정 완료 i =  854\n"
     ]
    },
    {
     "name": "stderr",
     "output_type": "stream",
     "text": [
      " 92%|█████████▏| 593/648 [59:58<04:57,  5.41s/it]"
     ]
    },
    {
     "name": "stdout",
     "output_type": "stream",
     "text": [
      "메뉴 데이터의 길이가 맞지 않아 추가하지 않습니다.\n",
      "가격 데이터의 길이가 맞지 않아 추가하지 않습니다.\n",
      "index 변수 설정 완료 i =  855\n"
     ]
    },
    {
     "name": "stderr",
     "output_type": "stream",
     "text": [
      " 92%|█████████▏| 594/648 [1:00:03<04:53,  5.44s/it]"
     ]
    },
    {
     "name": "stdout",
     "output_type": "stream",
     "text": [
      "상위 3개 메뉴 추출 완료\n",
      "메뉴별 가격 추출 완료\n",
      "index 변수 설정 완료 i =  856\n"
     ]
    },
    {
     "name": "stderr",
     "output_type": "stream",
     "text": [
      " 92%|█████████▏| 595/648 [1:00:09<04:50,  5.48s/it]"
     ]
    },
    {
     "name": "stdout",
     "output_type": "stream",
     "text": [
      "메뉴 데이터의 길이가 맞지 않아 추가하지 않습니다.\n",
      "가격 데이터의 길이가 맞지 않아 추가하지 않습니다.\n",
      "index 변수 설정 완료 i =  857\n"
     ]
    },
    {
     "name": "stderr",
     "output_type": "stream",
     "text": [
      " 92%|█████████▏| 596/648 [1:00:14<04:45,  5.49s/it]"
     ]
    },
    {
     "name": "stdout",
     "output_type": "stream",
     "text": [
      "메뉴 데이터의 길이가 맞지 않아 추가하지 않습니다.\n",
      "가격 데이터의 길이가 맞지 않아 추가하지 않습니다.\n",
      "index 변수 설정 완료 i =  858\n",
      "해당 요소를 찾을 수 없습니다: .tit_g\n"
     ]
    },
    {
     "name": "stderr",
     "output_type": "stream",
     "text": [
      " 92%|█████████▏| 597/648 [1:00:22<05:11,  6.10s/it]"
     ]
    },
    {
     "name": "stdout",
     "output_type": "stream",
     "text": [
      "index 변수 설정 완료 i =  859\n"
     ]
    },
    {
     "name": "stderr",
     "output_type": "stream",
     "text": [
      " 92%|█████████▏| 598/648 [1:00:27<04:55,  5.91s/it]"
     ]
    },
    {
     "name": "stdout",
     "output_type": "stream",
     "text": [
      "상위 3개 메뉴 추출 완료\n",
      "메뉴별 가격 추출 완료\n",
      "index 변수 설정 완료 i =  860\n"
     ]
    },
    {
     "name": "stderr",
     "output_type": "stream",
     "text": [
      " 92%|█████████▏| 599/648 [1:00:33<04:43,  5.78s/it]"
     ]
    },
    {
     "name": "stdout",
     "output_type": "stream",
     "text": [
      "상위 3개 메뉴 추출 완료\n",
      "메뉴별 가격 추출 완료\n",
      "index 변수 설정 완료 i =  861\n"
     ]
    },
    {
     "name": "stderr",
     "output_type": "stream",
     "text": [
      " 93%|█████████▎| 600/648 [1:00:38<04:31,  5.65s/it]"
     ]
    },
    {
     "name": "stdout",
     "output_type": "stream",
     "text": [
      "메뉴 데이터의 길이가 맞지 않아 추가하지 않습니다.\n",
      "가격 데이터의 길이가 맞지 않아 추가하지 않습니다.\n",
      "index 변수 설정 완료 i =  862\n"
     ]
    },
    {
     "name": "stderr",
     "output_type": "stream",
     "text": [
      " 93%|█████████▎| 601/648 [1:00:44<04:24,  5.62s/it]"
     ]
    },
    {
     "name": "stdout",
     "output_type": "stream",
     "text": [
      "상위 3개 메뉴 추출 완료\n",
      "메뉴별 가격 추출 완료\n",
      "index 변수 설정 완료 i =  863\n"
     ]
    },
    {
     "name": "stderr",
     "output_type": "stream",
     "text": [
      " 93%|█████████▎| 602/648 [1:00:49<04:14,  5.52s/it]"
     ]
    },
    {
     "name": "stdout",
     "output_type": "stream",
     "text": [
      "상위 3개 메뉴 추출 완료\n",
      "메뉴별 가격 추출 완료\n",
      "index 변수 설정 완료 i =  864\n",
      "해당 요소를 찾을 수 없습니다: .tit_g\n"
     ]
    },
    {
     "name": "stderr",
     "output_type": "stream",
     "text": [
      " 93%|█████████▎| 603/648 [1:00:57<04:37,  6.17s/it]"
     ]
    },
    {
     "name": "stdout",
     "output_type": "stream",
     "text": [
      "index 변수 설정 완료 i =  865\n"
     ]
    },
    {
     "name": "stderr",
     "output_type": "stream",
     "text": [
      " 93%|█████████▎| 604/648 [1:01:02<04:22,  5.96s/it]"
     ]
    },
    {
     "name": "stdout",
     "output_type": "stream",
     "text": [
      "상위 3개 메뉴 추출 완료\n",
      "메뉴별 가격 추출 완료\n",
      "index 변수 설정 완료 i =  866\n"
     ]
    },
    {
     "name": "stderr",
     "output_type": "stream",
     "text": [
      " 93%|█████████▎| 605/648 [1:01:07<04:06,  5.73s/it]"
     ]
    },
    {
     "name": "stdout",
     "output_type": "stream",
     "text": [
      "상위 3개 메뉴 추출 완료\n",
      "가격 데이터의 길이가 맞지 않아 추가하지 않습니다.\n",
      "index 변수 설정 완료 i =  867\n"
     ]
    },
    {
     "name": "stderr",
     "output_type": "stream",
     "text": [
      " 94%|█████████▎| 606/648 [1:01:13<03:56,  5.63s/it]"
     ]
    },
    {
     "name": "stdout",
     "output_type": "stream",
     "text": [
      "메뉴 데이터의 길이가 맞지 않아 추가하지 않습니다.\n",
      "가격 데이터의 길이가 맞지 않아 추가하지 않습니다.\n",
      "index 변수 설정 완료 i =  868\n",
      "해당 요소를 찾을 수 없습니다: .tit_g\n"
     ]
    },
    {
     "name": "stderr",
     "output_type": "stream",
     "text": [
      " 94%|█████████▎| 607/648 [1:01:20<04:13,  6.19s/it]"
     ]
    },
    {
     "name": "stdout",
     "output_type": "stream",
     "text": [
      "index 변수 설정 완료 i =  869\n"
     ]
    },
    {
     "name": "stderr",
     "output_type": "stream",
     "text": [
      " 94%|█████████▍| 608/648 [1:01:26<03:59,  6.00s/it]"
     ]
    },
    {
     "name": "stdout",
     "output_type": "stream",
     "text": [
      "메뉴 데이터의 길이가 맞지 않아 추가하지 않습니다.\n",
      "가격 데이터의 길이가 맞지 않아 추가하지 않습니다.\n",
      "index 변수 설정 완료 i =  870\n"
     ]
    },
    {
     "name": "stderr",
     "output_type": "stream",
     "text": [
      " 94%|█████████▍| 609/648 [1:01:31<03:47,  5.83s/it]"
     ]
    },
    {
     "name": "stdout",
     "output_type": "stream",
     "text": [
      "메뉴 데이터의 길이가 맞지 않아 추가하지 않습니다.\n",
      "가격 데이터의 길이가 맞지 않아 추가하지 않습니다.\n",
      "index 변수 설정 완료 i =  871\n"
     ]
    },
    {
     "name": "stderr",
     "output_type": "stream",
     "text": [
      " 94%|█████████▍| 610/648 [1:01:37<03:38,  5.74s/it]"
     ]
    },
    {
     "name": "stdout",
     "output_type": "stream",
     "text": [
      "상위 3개 메뉴 추출 완료\n",
      "메뉴별 가격 추출 완료\n",
      "index 변수 설정 완료 i =  872\n"
     ]
    },
    {
     "name": "stderr",
     "output_type": "stream",
     "text": [
      " 94%|█████████▍| 611/648 [1:01:42<03:28,  5.64s/it]"
     ]
    },
    {
     "name": "stdout",
     "output_type": "stream",
     "text": [
      "상위 3개 메뉴 추출 완료\n",
      "가격 데이터의 길이가 맞지 않아 추가하지 않습니다.\n",
      "index 변수 설정 완료 i =  873\n"
     ]
    },
    {
     "name": "stderr",
     "output_type": "stream",
     "text": [
      " 94%|█████████▍| 612/648 [1:01:48<03:19,  5.55s/it]"
     ]
    },
    {
     "name": "stdout",
     "output_type": "stream",
     "text": [
      "메뉴 데이터의 길이가 맞지 않아 추가하지 않습니다.\n",
      "가격 데이터의 길이가 맞지 않아 추가하지 않습니다.\n",
      "index 변수 설정 완료 i =  874\n",
      "해당 요소를 찾을 수 없습니다: .tit_g\n"
     ]
    },
    {
     "name": "stderr",
     "output_type": "stream",
     "text": [
      " 95%|█████████▍| 613/648 [1:01:55<03:35,  6.16s/it]"
     ]
    },
    {
     "name": "stdout",
     "output_type": "stream",
     "text": [
      "index 변수 설정 완료 i =  875\n"
     ]
    },
    {
     "name": "stderr",
     "output_type": "stream",
     "text": [
      " 95%|█████████▍| 614/648 [1:02:01<03:21,  5.92s/it]"
     ]
    },
    {
     "name": "stdout",
     "output_type": "stream",
     "text": [
      "메뉴 데이터의 길이가 맞지 않아 추가하지 않습니다.\n",
      "가격 데이터의 길이가 맞지 않아 추가하지 않습니다.\n",
      "index 변수 설정 완료 i =  876\n"
     ]
    },
    {
     "name": "stderr",
     "output_type": "stream",
     "text": [
      " 95%|█████████▍| 615/648 [1:02:06<03:08,  5.71s/it]"
     ]
    },
    {
     "name": "stdout",
     "output_type": "stream",
     "text": [
      "상위 3개 메뉴 추출 완료\n",
      "메뉴별 가격 추출 완료\n",
      "index 변수 설정 완료 i =  877\n"
     ]
    },
    {
     "name": "stderr",
     "output_type": "stream",
     "text": [
      " 95%|█████████▌| 616/648 [1:02:11<03:00,  5.65s/it]"
     ]
    },
    {
     "name": "stdout",
     "output_type": "stream",
     "text": [
      "메뉴 데이터의 길이가 맞지 않아 추가하지 않습니다.\n",
      "가격 데이터의 길이가 맞지 않아 추가하지 않습니다.\n",
      "index 변수 설정 완료 i =  878\n",
      "해당 요소를 찾을 수 없습니다: .tit_g\n"
     ]
    },
    {
     "name": "stderr",
     "output_type": "stream",
     "text": [
      " 95%|█████████▌| 617/648 [1:02:19<03:10,  6.14s/it]"
     ]
    },
    {
     "name": "stdout",
     "output_type": "stream",
     "text": [
      "index 변수 설정 완료 i =  879\n"
     ]
    },
    {
     "name": "stderr",
     "output_type": "stream",
     "text": [
      " 95%|█████████▌| 618/648 [1:02:24<02:57,  5.92s/it]"
     ]
    },
    {
     "name": "stdout",
     "output_type": "stream",
     "text": [
      "상위 3개 메뉴 추출 완료\n",
      "메뉴별 가격 추출 완료\n",
      "index 변수 설정 완료 i =  880\n"
     ]
    },
    {
     "name": "stderr",
     "output_type": "stream",
     "text": [
      " 96%|█████████▌| 619/648 [1:02:30<02:48,  5.81s/it]"
     ]
    },
    {
     "name": "stdout",
     "output_type": "stream",
     "text": [
      "메뉴 데이터의 길이가 맞지 않아 추가하지 않습니다.\n",
      "가격 데이터의 길이가 맞지 않아 추가하지 않습니다.\n",
      "index 변수 설정 완료 i =  881\n",
      "해당 요소를 찾을 수 없습니다: .tit_g\n"
     ]
    },
    {
     "name": "stderr",
     "output_type": "stream",
     "text": [
      " 96%|█████████▌| 620/648 [1:02:37<02:56,  6.31s/it]"
     ]
    },
    {
     "name": "stdout",
     "output_type": "stream",
     "text": [
      "index 변수 설정 완료 i =  882\n",
      "해당 요소를 찾을 수 없습니다: .tit_g\n"
     ]
    },
    {
     "name": "stderr",
     "output_type": "stream",
     "text": [
      " 96%|█████████▌| 621/648 [1:02:45<03:00,  6.67s/it]"
     ]
    },
    {
     "name": "stdout",
     "output_type": "stream",
     "text": [
      "index 변수 설정 완료 i =  883\n"
     ]
    },
    {
     "name": "stderr",
     "output_type": "stream",
     "text": [
      " 96%|█████████▌| 622/648 [1:02:50<02:43,  6.28s/it]"
     ]
    },
    {
     "name": "stdout",
     "output_type": "stream",
     "text": [
      "상위 3개 메뉴 추출 완료\n",
      "가격 데이터의 길이가 맞지 않아 추가하지 않습니다.\n",
      "index 변수 설정 완료 i =  884\n"
     ]
    },
    {
     "name": "stderr",
     "output_type": "stream",
     "text": [
      " 96%|█████████▌| 623/648 [1:02:55<02:30,  6.02s/it]"
     ]
    },
    {
     "name": "stdout",
     "output_type": "stream",
     "text": [
      "메뉴 데이터의 길이가 맞지 않아 추가하지 않습니다.\n",
      "가격 데이터의 길이가 맞지 않아 추가하지 않습니다.\n",
      "index 변수 설정 완료 i =  885\n"
     ]
    },
    {
     "name": "stderr",
     "output_type": "stream",
     "text": [
      " 96%|█████████▋| 624/648 [1:03:01<02:20,  5.84s/it]"
     ]
    },
    {
     "name": "stdout",
     "output_type": "stream",
     "text": [
      "상위 3개 메뉴 추출 완료\n",
      "메뉴별 가격 추출 완료\n",
      "index 변수 설정 완료 i =  886\n"
     ]
    },
    {
     "name": "stderr",
     "output_type": "stream",
     "text": [
      " 96%|█████████▋| 625/648 [1:03:06<02:11,  5.70s/it]"
     ]
    },
    {
     "name": "stdout",
     "output_type": "stream",
     "text": [
      "상위 3개 메뉴 추출 완료\n",
      "메뉴별 가격 추출 완료\n",
      "index 변수 설정 완료 i =  887\n",
      "해당 요소를 찾을 수 없습니다: .tit_g\n"
     ]
    },
    {
     "name": "stderr",
     "output_type": "stream",
     "text": [
      " 97%|█████████▋| 626/648 [1:03:14<02:17,  6.23s/it]"
     ]
    },
    {
     "name": "stdout",
     "output_type": "stream",
     "text": [
      "index 변수 설정 완료 i =  888\n"
     ]
    },
    {
     "name": "stderr",
     "output_type": "stream",
     "text": [
      " 97%|█████████▋| 627/648 [1:03:19<02:06,  6.03s/it]"
     ]
    },
    {
     "name": "stdout",
     "output_type": "stream",
     "text": [
      "상위 3개 메뉴 추출 완료\n",
      "가격 데이터의 길이가 맞지 않아 추가하지 않습니다.\n",
      "index 변수 설정 완료 i =  889\n"
     ]
    },
    {
     "name": "stderr",
     "output_type": "stream",
     "text": [
      " 97%|█████████▋| 628/648 [1:03:25<01:56,  5.85s/it]"
     ]
    },
    {
     "name": "stdout",
     "output_type": "stream",
     "text": [
      "상위 3개 메뉴 추출 완료\n",
      "메뉴별 가격 추출 완료\n",
      "index 변수 설정 완료 i =  890\n"
     ]
    },
    {
     "name": "stderr",
     "output_type": "stream",
     "text": [
      " 97%|█████████▋| 629/648 [1:03:30<01:49,  5.76s/it]"
     ]
    },
    {
     "name": "stdout",
     "output_type": "stream",
     "text": [
      "메뉴 데이터의 길이가 맞지 않아 추가하지 않습니다.\n",
      "가격 데이터의 길이가 맞지 않아 추가하지 않습니다.\n",
      "index 변수 설정 완료 i =  891\n"
     ]
    },
    {
     "name": "stderr",
     "output_type": "stream",
     "text": [
      " 97%|█████████▋| 630/648 [1:03:36<01:42,  5.67s/it]"
     ]
    },
    {
     "name": "stdout",
     "output_type": "stream",
     "text": [
      "상위 3개 메뉴 추출 완료\n",
      "메뉴별 가격 추출 완료\n",
      "index 변수 설정 완료 i =  892\n"
     ]
    },
    {
     "name": "stderr",
     "output_type": "stream",
     "text": [
      " 97%|█████████▋| 631/648 [1:03:41<01:35,  5.62s/it]"
     ]
    },
    {
     "name": "stdout",
     "output_type": "stream",
     "text": [
      "상위 3개 메뉴 추출 완료\n",
      "가격 데이터의 길이가 맞지 않아 추가하지 않습니다.\n",
      "index 변수 설정 완료 i =  893\n"
     ]
    },
    {
     "name": "stderr",
     "output_type": "stream",
     "text": [
      " 98%|█████████▊| 632/648 [1:03:47<01:29,  5.59s/it]"
     ]
    },
    {
     "name": "stdout",
     "output_type": "stream",
     "text": [
      "상위 3개 메뉴 추출 완료\n",
      "가격 데이터의 길이가 맞지 않아 추가하지 않습니다.\n",
      "index 변수 설정 완료 i =  894\n"
     ]
    },
    {
     "name": "stderr",
     "output_type": "stream",
     "text": [
      " 98%|█████████▊| 633/648 [1:03:52<01:23,  5.59s/it]"
     ]
    },
    {
     "name": "stdout",
     "output_type": "stream",
     "text": [
      "메뉴 데이터의 길이가 맞지 않아 추가하지 않습니다.\n",
      "가격 데이터의 길이가 맞지 않아 추가하지 않습니다.\n",
      "index 변수 설정 완료 i =  895\n"
     ]
    },
    {
     "name": "stderr",
     "output_type": "stream",
     "text": [
      " 98%|█████████▊| 634/648 [1:03:58<01:17,  5.52s/it]"
     ]
    },
    {
     "name": "stdout",
     "output_type": "stream",
     "text": [
      "메뉴 데이터의 길이가 맞지 않아 추가하지 않습니다.\n",
      "가격 데이터의 길이가 맞지 않아 추가하지 않습니다.\n",
      "index 변수 설정 완료 i =  896\n"
     ]
    },
    {
     "name": "stderr",
     "output_type": "stream",
     "text": [
      " 98%|█████████▊| 635/648 [1:04:03<01:11,  5.47s/it]"
     ]
    },
    {
     "name": "stdout",
     "output_type": "stream",
     "text": [
      "상위 3개 메뉴 추출 완료\n",
      "가격 데이터의 길이가 맞지 않아 추가하지 않습니다.\n",
      "index 변수 설정 완료 i =  897\n"
     ]
    },
    {
     "name": "stderr",
     "output_type": "stream",
     "text": [
      " 98%|█████████▊| 636/648 [1:04:08<01:05,  5.48s/it]"
     ]
    },
    {
     "name": "stdout",
     "output_type": "stream",
     "text": [
      "메뉴 데이터의 길이가 맞지 않아 추가하지 않습니다.\n",
      "가격 데이터의 길이가 맞지 않아 추가하지 않습니다.\n",
      "index 변수 설정 완료 i =  898\n"
     ]
    },
    {
     "name": "stderr",
     "output_type": "stream",
     "text": [
      " 98%|█████████▊| 637/648 [1:04:14<01:00,  5.46s/it]"
     ]
    },
    {
     "name": "stdout",
     "output_type": "stream",
     "text": [
      "상위 3개 메뉴 추출 완료\n",
      "메뉴별 가격 추출 완료\n",
      "index 변수 설정 완료 i =  899\n"
     ]
    },
    {
     "name": "stderr",
     "output_type": "stream",
     "text": [
      " 98%|█████████▊| 638/648 [1:04:19<00:53,  5.40s/it]"
     ]
    },
    {
     "name": "stdout",
     "output_type": "stream",
     "text": [
      "메뉴 데이터의 길이가 맞지 않아 추가하지 않습니다.\n",
      "가격 데이터의 길이가 맞지 않아 추가하지 않습니다.\n",
      "index 변수 설정 완료 i =  900\n"
     ]
    },
    {
     "name": "stderr",
     "output_type": "stream",
     "text": [
      " 99%|█████████▊| 639/648 [1:04:24<00:48,  5.39s/it]"
     ]
    },
    {
     "name": "stdout",
     "output_type": "stream",
     "text": [
      "메뉴 데이터의 길이가 맞지 않아 추가하지 않습니다.\n",
      "가격 데이터의 길이가 맞지 않아 추가하지 않습니다.\n",
      "index 변수 설정 완료 i =  901\n",
      "해당 요소를 찾을 수 없습니다: .tit_g\n"
     ]
    },
    {
     "name": "stderr",
     "output_type": "stream",
     "text": [
      " 99%|█████████▉| 640/648 [1:04:32<00:48,  6.09s/it]"
     ]
    },
    {
     "name": "stdout",
     "output_type": "stream",
     "text": [
      "index 변수 설정 완료 i =  902\n"
     ]
    },
    {
     "name": "stderr",
     "output_type": "stream",
     "text": [
      " 99%|█████████▉| 641/648 [1:04:37<00:40,  5.85s/it]"
     ]
    },
    {
     "name": "stdout",
     "output_type": "stream",
     "text": [
      "상위 3개 메뉴 추출 완료\n",
      "가격 데이터의 길이가 맞지 않아 추가하지 않습니다.\n",
      "index 변수 설정 완료 i =  903\n"
     ]
    },
    {
     "name": "stderr",
     "output_type": "stream",
     "text": [
      " 99%|█████████▉| 642/648 [1:04:43<00:34,  5.83s/it]"
     ]
    },
    {
     "name": "stdout",
     "output_type": "stream",
     "text": [
      "상위 3개 메뉴 추출 완료\n",
      "메뉴별 가격 추출 완료\n",
      "index 변수 설정 완료 i =  904\n"
     ]
    },
    {
     "name": "stderr",
     "output_type": "stream",
     "text": [
      " 99%|█████████▉| 643/648 [1:04:48<00:28,  5.66s/it]"
     ]
    },
    {
     "name": "stdout",
     "output_type": "stream",
     "text": [
      "상위 3개 메뉴 추출 완료\n",
      "메뉴별 가격 추출 완료\n",
      "index 변수 설정 완료 i =  905\n"
     ]
    },
    {
     "name": "stderr",
     "output_type": "stream",
     "text": [
      " 99%|█████████▉| 644/648 [1:04:54<00:22,  5.62s/it]"
     ]
    },
    {
     "name": "stdout",
     "output_type": "stream",
     "text": [
      "상위 3개 메뉴 추출 완료\n",
      "가격 데이터의 길이가 맞지 않아 추가하지 않습니다.\n",
      "index 변수 설정 완료 i =  906\n"
     ]
    },
    {
     "name": "stderr",
     "output_type": "stream",
     "text": [
      "100%|█████████▉| 645/648 [1:04:59<00:16,  5.51s/it]"
     ]
    },
    {
     "name": "stdout",
     "output_type": "stream",
     "text": [
      "메뉴 데이터의 길이가 맞지 않아 추가하지 않습니다.\n",
      "가격 데이터의 길이가 맞지 않아 추가하지 않습니다.\n",
      "index 변수 설정 완료 i =  907\n"
     ]
    },
    {
     "name": "stderr",
     "output_type": "stream",
     "text": [
      "100%|█████████▉| 646/648 [1:05:05<00:10,  5.49s/it]"
     ]
    },
    {
     "name": "stdout",
     "output_type": "stream",
     "text": [
      "상위 3개 메뉴 추출 완료\n",
      "가격 데이터의 길이가 맞지 않아 추가하지 않습니다.\n",
      "index 변수 설정 완료 i =  908\n"
     ]
    },
    {
     "name": "stderr",
     "output_type": "stream",
     "text": [
      "100%|█████████▉| 647/648 [1:05:10<00:05,  5.48s/it]"
     ]
    },
    {
     "name": "stdout",
     "output_type": "stream",
     "text": [
      "상위 3개 메뉴 추출 완료\n",
      "메뉴별 가격 추출 완료\n",
      "index 변수 설정 완료 i =  909\n",
      "해당 요소를 찾을 수 없습니다: .tit_g\n"
     ]
    },
    {
     "name": "stderr",
     "output_type": "stream",
     "text": [
      "100%|██████████| 648/648 [1:05:18<00:00,  6.05s/it]\n"
     ]
    }
   ],
   "source": [
    "test_range = range(262,len(df[262:]))\n",
    "# test_range = [12, 17, 21, 32, 34, 55, 92] # 테스트용 변수 설정\n",
    "for i in tqdm.tqdm(test_range):\n",
    "    state_num = 0\n",
    "    print(\"index 변수 설정 완료 i = \", i)\n",
    "    KEYWORD_INDEX = df['번호'][i]\n",
    "    KEYWORD = df['사업장명'][i]\n",
    "    URL = \"https://m.map.kakao.com/actions/searchView?q=\" + \"춘천 \" + KEYWORD\n",
    "\n",
    "    driver = webdriver.Chrome()  # 웹 드라이버 생성\n",
    "    driver.get(URL)  # 링크 열기\n",
    "    sleep(1)\n",
    "    serch_html = driver.page_source  # 검색 페이지의 HTML 가져오기\n",
    "    serch_html_soup = BeautifulSoup(serch_html, 'lxml')  # BeautifulSoup으로 파싱\n",
    "\n",
    "    try:\n",
    "        ########-- todo: 영업시간과 연락처가 있는 경우 수집 --########\n",
    "        ########--          insert code !          --########\n",
    "        \n",
    "        sleep(0.7)\n",
    "        button = driver.find_element(By.CLASS_NAME, 'tit_g')  # 클래스 이름 'tit_g'를 가진 버튼 찾고 클릭\n",
    "        button.click()\n",
    "        \n",
    "    except NoSuchElementException: # 검색어가 없는 경우 \n",
    "        try:\n",
    "            print(\"해당 요소를 찾을 수 없습니다: .tit_g\")\n",
    "            driver.quit()  # 웹 드라이버 종료\n",
    "            \n",
    "            URL = \"https://m.map.kakao.com/actions/searchView?q=\" + KEYWORD\n",
    "\n",
    "            driver = webdriver.Chrome()  # 웹 드라이버 생성\n",
    "            driver.get(URL)  # 링크 열기\n",
    "            sleep(1.5)\n",
    "            serch_html = driver.page_source  # 검색 페이지의 HTML 가져오기\n",
    "            serch_html_soup = BeautifulSoup(serch_html, 'lxml')  # BeautifulSoup으로 파싱\n",
    "            \n",
    "            \n",
    "            ########-- todo: 영업시간과 연락처가 있는 경우 수집 --########\n",
    "            ########--          insert code !          --########\n",
    "            \n",
    "            sleep(0.7)\n",
    "            button = driver.find_element(By.CLASS_NAME, 'tit_g')  # 클래스 이름 'tit_g'를 가진 버튼 찾고 클릭\n",
    "            button.click()\n",
    "        except NoSuchElementException: # 그래도 검색어가 없는 경우\n",
    "            driver.quit()  # 웹 드라이버 종료\n",
    "            state_num = 1\n",
    "\n",
    "    # 검색어가 없을 경우(state_num==1일떄) 아래의 작업을 하지 않음.\n",
    "    if state_num == 1:\n",
    "        continue\n",
    "    \n",
    "    sleep(0.7)\n",
    "    menu_html = driver.page_source  # 페이지의 HTML 가져오기\n",
    "    menu_html_soup = BeautifulSoup(menu_html, 'lxml')  # BeautifulSoup으로 파싱\n",
    "    sleep(0.7)\n",
    "\n",
    "    # DataFrame 초기화\n",
    "    extracted_df = pd.DataFrame({\n",
    "        'index_cafeteria': [KEYWORD_INDEX] * 3,\n",
    "        'cafeteria_name': [KEYWORD] * 3\n",
    "    })\n",
    "\n",
    "    # 'name_menu' 클래스를 가진 모든 요소 찾기\n",
    "    name_menus = menu_html_soup.find_all(class_='name_menu', limit=3)\n",
    "    data_name = [menu.get_text() for menu in name_menus]\n",
    "\n",
    "    # 'price_menu' 클래스를 가진 모든 요소 찾기\n",
    "    price_menus = menu_html_soup.find_all(class_='price_menu', limit=3)\n",
    "    data_price = [menu.get_text().replace('가격: ', '').replace('\\n', '') for menu in price_menus]\n",
    "\n",
    "    # 데이터 길이 확인 및 DataFrame 업데이트\n",
    "    if len(data_name) == len(extracted_df):\n",
    "        extracted_df['menu_name'] = data_name\n",
    "        print(\"상위 3개 메뉴 추출 완료\")\n",
    "    else:\n",
    "        print(\"메뉴 데이터의 길이가 맞지 않아 추가하지 않습니다.\")\n",
    "\n",
    "    if len(data_price) == len(extracted_df):\n",
    "        extracted_df['menu_price'] = data_price\n",
    "        print(\"메뉴별 가격 추출 완료\")\n",
    "    else:\n",
    "        print(\"가격 데이터의 길이가 맞지 않아 추가하지 않습니다.\")\n",
    "        \n",
    "    driver.quit()  # 웹 드라이버 종료\n",
    "\n",
    "    result_df = pd.concat([result_df, extracted_df]) # result_df에 extracted_df의 1~3행을 추가"
   ]
  },
  {
   "cell_type": "code",
   "execution_count": 12,
   "metadata": {},
   "outputs": [],
   "source": [
    "# result_df의 중복된 행을 제거\n",
    "result_df = result_df.drop_duplicates()\n",
    "\n",
    "# result_df의 index를 초기화\n",
    "result_df = result_df.reset_index(drop=True)"
   ]
  },
  {
   "cell_type": "code",
   "execution_count": 13,
   "metadata": {},
   "outputs": [
    {
     "name": "stdout",
     "output_type": "stream",
     "text": [
      "index_cafeteria    0.000000\n",
      "cafeteria_name     0.000000\n",
      "menu_name          0.177625\n",
      "menu_price         0.406681\n",
      "dtype: float64\n"
     ]
    }
   ],
   "source": [
    "# result_df의 NAN값의 비율을 column별로 출력\n",
    "print(result_df.isnull().sum() / len(result_df))"
   ]
  },
  {
   "cell_type": "code",
   "execution_count": 14,
   "metadata": {},
   "outputs": [],
   "source": [
    "# result_df의 값을 저장\n",
    "result_df.to_csv('../featureSelector/data/c4_general_cafeteria_chuncheon_CC_opened_SS-HJ_menu-price.csv', encoding='utf-8', index=False)"
   ]
  }
 ],
 "metadata": {
  "kernelspec": {
   "display_name": "Python 3",
   "language": "python",
   "name": "python3"
  },
  "language_info": {
   "codemirror_mode": {
    "name": "ipython",
    "version": 3
   },
   "file_extension": ".py",
   "mimetype": "text/x-python",
   "name": "python",
   "nbconvert_exporter": "python",
   "pygments_lexer": "ipython3",
   "version": "3.9.6"
  }
 },
 "nbformat": 4,
 "nbformat_minor": 2
}
